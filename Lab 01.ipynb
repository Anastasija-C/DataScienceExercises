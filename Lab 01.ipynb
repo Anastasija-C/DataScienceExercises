{
  "nbformat": 4,
  "nbformat_minor": 0,
  "metadata": {
    "colab": {
      "provenance": [],
      "collapsed_sections": []
    },
    "kernelspec": {
      "name": "python3",
      "display_name": "Python 3"
    }
  },
  "cells": [
    {
      "cell_type": "markdown",
      "metadata": {
        "id": "O2aVv0FBqJPU"
      },
      "source": [
        "<ul><font size = 5 color='Orange'>\n",
        "Learning Goals</font>\n",
        "<font color = 'Orange'><li>Understand the structure of a web page.</li>\n",
        "<li>Understand how to use Beautiful soup to scrape content from web pages.</li>\n",
        "<li>Feel comfortable storing and manipulating the content in various formats.</li>\n",
        "<li>Understand how to convert structured format into a Pandas DataFrame.</li>\n",
        "</font>\n",
        "</ul>"
      ]
    },
    {
      "cell_type": "markdown",
      "metadata": {
        "id": "2379H1uJaOR4"
      },
      "source": [
        "<font size = 4 color = \"green\">For this homework your job is to find a web-site from which you will extract the data, we are suggestioning for a local-site like time.mk, sitel.mk, vecer.mk, panacea.mk, reklama5.mk, etc. Accordinly with the choice you've made make a quick summary why did you use especially this web-site and what is the part of interest.</font>"
      ]
    },
    {
      "cell_type": "markdown",
      "metadata": {
        "id": "W8lsmxJhkvt4"
      },
      "source": [
        "#<font color = 'Orange'>Explain the Web-site that you will be using in this homework.</font>"
      ]
    },
    {
      "cell_type": "markdown",
      "metadata": {
        "id": "kWjXxdUblDGh"
      },
      "source": [
        "In the following text-box answer the questions:\n",
        "<li>What data you will be extracting and why?</li>\n",
        "<li>Add a screenshot of the web-site that you will be scraping</li>\n",
        "\n"
      ]
    },
    {
      "cell_type": "markdown",
      "metadata": {
        "id": "j_BuTnyEmHMg"
      },
      "source": [
        " Ја одбрав https://coslovemetics.mk/ која претставува онлајн продавница и нуди голем избор на квалитетна козметика за нега на лице по достапни цени. Податоците кои ќе бидат извлекувани се од тековната акција на продавницата."
      ]
    },
    {
      "cell_type": "markdown",
      "source": [
        "![screenshot](https://drive.google.com/uc?export=view&id=1hPn0vb2okkOzZPxe0LO4mH_iX65jHCwq)"
      ],
      "metadata": {
        "id": "35-lmGsbwMmt"
      }
    },
    {
      "cell_type": "markdown",
      "metadata": {
        "id": "E9QJzcuLme9J"
      },
      "source": [
        "# <font color='Orange'>Requirements specified for Web Scraping</font>\n"
      ]
    },
    {
      "cell_type": "markdown",
      "metadata": {
        "id": "nUtpcRz3mq7p"
      },
      "source": [
        "Import all libraries and modules that you are going to use."
      ]
    },
    {
      "cell_type": "code",
      "metadata": {
        "id": "-llJJ2vVmmgU"
      },
      "source": [
        "import numpy as np\n",
        "import pandas as pd\n",
        "\n",
        "import requests\n",
        "\n",
        "from bs4 import BeautifulSoup\n",
        "\n",
        "from IPython.display import HTML"
      ],
      "execution_count": 97,
      "outputs": []
    },
    {
      "cell_type": "code",
      "source": [
        "import warnings\n",
        "\n",
        "requests.packages.urllib3.disable_warnings()\n",
        "warnings.filterwarnings(\"ignore\")"
      ],
      "metadata": {
        "id": "D7peI5moqGUZ"
      },
      "execution_count": 98,
      "outputs": []
    },
    {
      "cell_type": "code",
      "source": [
        "url = 'https://coslovemetics.mk/product-category/summersale/'"
      ],
      "metadata": {
        "id": "8G27Q4XcqKiv"
      },
      "execution_count": 99,
      "outputs": []
    },
    {
      "cell_type": "markdown",
      "metadata": {
        "id": "fJ0KNuMwm6F3"
      },
      "source": [
        "# <font color = 'Orange'> Start the scraping by sending HTTP request</font> "
      ]
    },
    {
      "cell_type": "markdown",
      "metadata": {
        "id": "4JZurHezsLpU"
      },
      "source": [
        " **Fetch a website's content - send request**"
      ]
    },
    {
      "cell_type": "code",
      "metadata": {
        "id": "Yj4JPQ6proYR"
      },
      "source": [
        "response = requests.get(url)"
      ],
      "execution_count": 100,
      "outputs": []
    },
    {
      "cell_type": "markdown",
      "metadata": {
        "id": "Tq_F8bt4rmb9"
      },
      "source": [
        "**Get the response-status code and see:**\n",
        "<li>If the code starts with a 2, it means the request was successful.\n",
        "\n"
      ]
    },
    {
      "cell_type": "code",
      "metadata": {
        "id": "YXHM_22dtLyq",
        "colab": {
          "base_uri": "https://localhost:8080/"
        },
        "outputId": "e145374c-55fd-4d8d-faa4-284cdb5b0c2a"
      },
      "source": [
        "response"
      ],
      "execution_count": 101,
      "outputs": [
        {
          "output_type": "execute_result",
          "data": {
            "text/plain": [
              "<Response [200]>"
            ]
          },
          "metadata": {},
          "execution_count": 101
        }
      ]
    },
    {
      "cell_type": "code",
      "source": [
        "response.status_code"
      ],
      "metadata": {
        "colab": {
          "base_uri": "https://localhost:8080/"
        },
        "id": "05rCyNwsKl5-",
        "outputId": "40d30d61-39ff-461e-8537-aca6e39ff975"
      },
      "execution_count": 102,
      "outputs": [
        {
          "output_type": "execute_result",
          "data": {
            "text/plain": [
              "200"
            ]
          },
          "metadata": {},
          "execution_count": 102
        }
      ]
    },
    {
      "cell_type": "code",
      "source": [
        "type(response)"
      ],
      "metadata": {
        "id": "H2pg0-12rV7s",
        "colab": {
          "base_uri": "https://localhost:8080/"
        },
        "outputId": "0c0b7901-584e-4185-bfa6-4c6a4692f491"
      },
      "execution_count": 103,
      "outputs": [
        {
          "output_type": "execute_result",
          "data": {
            "text/plain": [
              "requests.models.Response"
            ]
          },
          "metadata": {},
          "execution_count": 103
        }
      ]
    },
    {
      "cell_type": "markdown",
      "metadata": {
        "id": "os6BnZqJuZpU"
      },
      "source": [
        "# <font color = 'orange'>Parse the HTML with BeautifulSoup</font>"
      ]
    },
    {
      "cell_type": "markdown",
      "metadata": {
        "id": "E7lcI0U3ua9r"
      },
      "source": [
        "Beautiful Soup is a Python library for pulling data out of HTML and XML files. It works with your favorite parser to provide idiomatic ways of navigating, searching, and modifying the parse tree. It commonly saves programmers hours or days of work. \n"
      ]
    },
    {
      "cell_type": "markdown",
      "metadata": {
        "id": "TA4fBO6mvBDq"
      },
      "source": [
        "**Parse using BeautifulSoap**\n",
        "\n",
        "\n"
      ]
    },
    {
      "cell_type": "code",
      "metadata": {
        "id": "qFKmBAsguaLg",
        "colab": {
          "base_uri": "https://localhost:8080/"
        },
        "outputId": "80e001e3-a0ee-4656-882a-b8d1b43b357c"
      },
      "source": [
        "raw_html = response.text\n",
        "type(raw_html)"
      ],
      "execution_count": 104,
      "outputs": [
        {
          "output_type": "execute_result",
          "data": {
            "text/plain": [
              "str"
            ]
          },
          "metadata": {},
          "execution_count": 104
        }
      ]
    },
    {
      "cell_type": "code",
      "source": [
        "html = BeautifulSoup(raw_html, \"html.parser\")"
      ],
      "metadata": {
        "id": "9lxzGQncrlAq"
      },
      "execution_count": 105,
      "outputs": []
    },
    {
      "cell_type": "code",
      "source": [
        "type(html)"
      ],
      "metadata": {
        "id": "5pcawb6QrnuY",
        "colab": {
          "base_uri": "https://localhost:8080/"
        },
        "outputId": "41079197-95f9-4823-8df2-69e2e9736de4"
      },
      "execution_count": 106,
      "outputs": [
        {
          "output_type": "execute_result",
          "data": {
            "text/plain": [
              "bs4.BeautifulSoup"
            ]
          },
          "metadata": {},
          "execution_count": 106
        }
      ]
    },
    {
      "cell_type": "markdown",
      "metadata": {
        "id": "JWe6_oBCu0LL"
      },
      "source": [
        "**Print the HTML code that you get**"
      ]
    },
    {
      "cell_type": "code",
      "metadata": {
        "id": "JN5BWb8Lu4_y",
        "colab": {
          "base_uri": "https://localhost:8080/"
        },
        "outputId": "b1da112b-3cbc-4728-e11a-badfded06e3c"
      },
      "source": [
        "html"
      ],
      "execution_count": 107,
      "outputs": [
        {
          "output_type": "execute_result",
          "data": {
            "text/plain": [
              "<!DOCTYPE html>\n",
              "\n",
              "<html lang=\"mk-MK\">\n",
              "<head>\n",
              "<meta charset=\"utf-8\"/>\n",
              "<meta content=\"width=device-width, initial-scale=1, shrink-to-fit=no\" name=\"viewport\"/>\n",
              "<link href=\"https://gmpg.org/xfn/11\" rel=\"profile\"/>\n",
              "<link href=\"https://fonts.googleapis.com/css2?family=Montserrat:wght@300;400;700&amp;display=swap\" rel=\"stylesheet\"/>\n",
              "<script>document.documentElement.className = document.documentElement.className + ' yes-js js_active js'</script>\n",
              "<title>SALE! SALE! – Coslovemetics.mk</title>\n",
              "<meta content=\"max-image-preview:large\" name=\"robots\">\n",
              "<!--[if lt IE 9]><script>var rfbwp_ie_8 = true;</script><![endif]--><link href=\"//www.google.com\" rel=\"dns-prefetch\">\n",
              "<link href=\"//cdnjs.cloudflare.com\" rel=\"dns-prefetch\">\n",
              "<link href=\"//s.w.org\" rel=\"dns-prefetch\"/>\n",
              "<link href=\"https://coslovemetics.mk/feed/\" rel=\"alternate\" title=\"Coslovemetics.mk » Фид\" type=\"application/rss+xml\"/>\n",
              "<link href=\"https://coslovemetics.mk/comments/feed/\" rel=\"alternate\" title=\"Coslovemetics.mk » фидови за коментари\" type=\"application/rss+xml\"/>\n",
              "<link href=\"https://coslovemetics.mk/product-category/summersale/feed/\" rel=\"alternate\" title=\"Coslovemetics.mk » SALE! SALE! Категорија Фид\" type=\"application/rss+xml\"/>\n",
              "<script type=\"text/javascript\">\n",
              "\t\t\twindow._wpemojiSettings = {\"baseUrl\":\"https:\\/\\/s.w.org\\/images\\/core\\/emoji\\/13.0.1\\/72x72\\/\",\"ext\":\".png\",\"svgUrl\":\"https:\\/\\/s.w.org\\/images\\/core\\/emoji\\/13.0.1\\/svg\\/\",\"svgExt\":\".svg\",\"source\":{\"concatemoji\":\"https:\\/\\/coslovemetics.mk\\/wp-includes\\/js\\/wp-emoji-release.min.js?ver=5.7.8\"}};\n",
              "\t\t\t!function(e,a,t){var n,r,o,i=a.createElement(\"canvas\"),p=i.getContext&&i.getContext(\"2d\");function s(e,t){var a=String.fromCharCode;p.clearRect(0,0,i.width,i.height),p.fillText(a.apply(this,e),0,0);e=i.toDataURL();return p.clearRect(0,0,i.width,i.height),p.fillText(a.apply(this,t),0,0),e===i.toDataURL()}function c(e){var t=a.createElement(\"script\");t.src=e,t.defer=t.type=\"text/javascript\",a.getElementsByTagName(\"head\")[0].appendChild(t)}for(o=Array(\"flag\",\"emoji\"),t.supports={everything:!0,everythingExceptFlag:!0},r=0;r<o.length;r++)t.supports[o[r]]=function(e){if(!p||!p.fillText)return!1;switch(p.textBaseline=\"top\",p.font=\"600 32px Arial\",e){case\"flag\":return s([127987,65039,8205,9895,65039],[127987,65039,8203,9895,65039])?!1:!s([55356,56826,55356,56819],[55356,56826,8203,55356,56819])&&!s([55356,57332,56128,56423,56128,56418,56128,56421,56128,56430,56128,56423,56128,56447],[55356,57332,8203,56128,56423,8203,56128,56418,8203,56128,56421,8203,56128,56430,8203,56128,56423,8203,56128,56447]);case\"emoji\":return!s([55357,56424,8205,55356,57212],[55357,56424,8203,55356,57212])}return!1}(o[r]),t.supports.everything=t.supports.everything&&t.supports[o[r]],\"flag\"!==o[r]&&(t.supports.everythingExceptFlag=t.supports.everythingExceptFlag&&t.supports[o[r]]);t.supports.everythingExceptFlag=t.supports.everythingExceptFlag&&!t.supports.flag,t.DOMReady=!1,t.readyCallback=function(){t.DOMReady=!0},t.supports.everything||(n=function(){t.readyCallback()},a.addEventListener?(a.addEventListener(\"DOMContentLoaded\",n,!1),e.addEventListener(\"load\",n,!1)):(e.attachEvent(\"onload\",n),a.attachEvent(\"onreadystatechange\",function(){\"complete\"===a.readyState&&t.readyCallback()})),(n=t.source||{}).concatemoji?c(n.concatemoji):n.wpemoji&&n.twemoji&&(c(n.twemoji),c(n.wpemoji)))}(window,document,window._wpemojiSettings);\n",
              "\t\t</script>\n",
              "<style type=\"text/css\">\n",
              "img.wp-smiley,\n",
              "img.emoji {\n",
              "\tdisplay: inline !important;\n",
              "\tborder: none !important;\n",
              "\tbox-shadow: none !important;\n",
              "\theight: 1em !important;\n",
              "\twidth: 1em !important;\n",
              "\tmargin: 0 .07em !important;\n",
              "\tvertical-align: -0.1em !important;\n",
              "\tbackground: none !important;\n",
              "\tpadding: 0 !important;\n",
              "}\n",
              "</style>\n",
              "<link href=\"https://coslovemetics.mk/wp-content/plugins/ajax-login-and-registration-modal-popup/assets/lrm-core-compiled.css?ver=32\" id=\"lrm-modal-css\" media=\"all\" rel=\"stylesheet\" type=\"text/css\"/>\n",
              "<link href=\"https://coslovemetics.mk/wp-content/plugins/ajax-login-and-registration-modal-popup/assets/fonts.css?ver=32\" id=\"lrm-fonts-css\" media=\"all\" rel=\"stylesheet\" type=\"text/css\"/>\n",
              "<link href=\"https://coslovemetics.mk/wp-content/plugins/ajax-login-and-registration-modal-popup/skins/default/skin.css?ver=32\" id=\"lrm-modal-skin-css\" media=\"all\" rel=\"stylesheet\" type=\"text/css\"/>\n",
              "<link href=\"https://coslovemetics.mk/wp-includes/css/dist/block-library/style.min.css?ver=5.7.8\" id=\"wp-block-library-css\" media=\"all\" rel=\"stylesheet\" type=\"text/css\"/>\n",
              "<link href=\"https://coslovemetics.mk/wp-content/plugins/woocommerce/packages/woocommerce-blocks/build/style.css?ver=2.5.16\" id=\"wc-block-style-css\" media=\"all\" rel=\"stylesheet\" type=\"text/css\"/>\n",
              "<link href=\"https://coslovemetics.mk/wp-content/plugins/yith-woocommerce-wishlist/assets/css/jquery.selectBox.css?ver=1.2.0\" id=\"jquery-selectBox-css\" media=\"all\" rel=\"stylesheet\" type=\"text/css\"/>\n",
              "<link href=\"https://coslovemetics.mk/wp-content/plugins/yith-woocommerce-wishlist/assets/css/font-awesome.min.css?ver=4.7.0\" id=\"yith-wcwl-font-awesome-css\" media=\"all\" rel=\"stylesheet\" type=\"text/css\"/>\n",
              "<link href=\"https://coslovemetics.mk/wp-content/plugins/yith-woocommerce-wishlist/assets/css/style.css?ver=3.0.10\" id=\"yith-wcwl-main-css\" media=\"all\" rel=\"stylesheet\" type=\"text/css\"/>\n",
              "<link href=\"https://coslovemetics.mk/wp-content/plugins/contact-form-7/includes/css/styles.css?ver=5.1.7\" id=\"contact-form-7-css\" media=\"all\" rel=\"stylesheet\" type=\"text/css\"/>\n",
              "<link href=\"https://coslovemetics.mk/wp-content/plugins/responsive-flipbook/assets/fonts/font-awesome.css?ver=2.4.6\" id=\"rfbwp-fontawesome-css\" media=\"all\" rel=\"stylesheet\" type=\"text/css\"/>\n",
              "<link href=\"https://coslovemetics.mk/wp-content/plugins/responsive-flipbook/assets/fonts/et-icons.css?ver=2.4.6\" id=\"rfbwp-et_icons-css\" media=\"all\" rel=\"stylesheet\" type=\"text/css\"/>\n",
              "<link href=\"https://coslovemetics.mk/wp-content/plugins/responsive-flipbook/assets/fonts/et-line.css?ver=2.4.6\" id=\"rfbwp-et_line-css\" media=\"all\" rel=\"stylesheet\" type=\"text/css\"/>\n",
              "<link href=\"https://coslovemetics.mk/wp-content/plugins/responsive-flipbook/assets/css/style.min.css?ver=2.4.6\" id=\"rfbwp-styles-css\" media=\"all\" rel=\"stylesheet\" type=\"text/css\"/>\n",
              "<link href=\"https://coslovemetics.mk/wp-content/plugins/woocommerce/assets/css/woocommerce-layout.css?ver=4.1.4\" id=\"woocommerce-layout-css\" media=\"all\" rel=\"stylesheet\" type=\"text/css\"/>\n",
              "<link href=\"https://coslovemetics.mk/wp-content/plugins/woocommerce/assets/css/woocommerce-smallscreen.css?ver=4.1.4\" id=\"woocommerce-smallscreen-css\" media=\"only screen and (max-width: 768px)\" rel=\"stylesheet\" type=\"text/css\"/>\n",
              "<link href=\"https://coslovemetics.mk/wp-content/plugins/woocommerce/assets/css/woocommerce.css?ver=4.1.4\" id=\"woocommerce-general-css\" media=\"all\" rel=\"stylesheet\" type=\"text/css\"/>\n",
              "<style id=\"woocommerce-inline-inline-css\" type=\"text/css\">\n",
              ".woocommerce form .form-row .required { visibility: visible; }\n",
              "</style>\n",
              "<link href=\"https://coslovemetics.mk/wp-content/uploads/maxmegamenu/style.css?ver=0c7c80\" id=\"megamenu-css\" media=\"all\" rel=\"stylesheet\" type=\"text/css\"/>\n",
              "<link href=\"https://coslovemetics.mk/wp-includes/css/dashicons.min.css?ver=5.7.8\" id=\"dashicons-css\" media=\"all\" rel=\"stylesheet\" type=\"text/css\"/>\n",
              "<style id=\"dashicons-inline-css\" type=\"text/css\">\n",
              "[data-font=\"Dashicons\"]:before {font-family: 'Dashicons' !important;content: attr(data-icon) !important;speak: none !important;font-weight: normal !important;font-variant: normal !important;text-transform: none !important;line-height: 1 !important;font-style: normal !important;-webkit-font-smoothing: antialiased !important;-moz-osx-font-smoothing: grayscale !important;}\n",
              "</style>\n",
              "<link href=\"https://coslovemetics.mk/wp-content/plugins/woo-product-gallery-slider/assets/public/css/slick.css?ver=2.0\" id=\"slick-style-css\" media=\"all\" rel=\"stylesheet\" type=\"text/css\"/>\n",
              "<link href=\"https://coslovemetics.mk/wp-content/plugins/woo-product-gallery-slider/assets/public/css/slick-theme.css?ver=2.0\" id=\"slick-theme-css\" media=\"all\" rel=\"stylesheet\" type=\"text/css\"/>\n",
              "<link href=\"https://coslovemetics.mk/wp-content/plugins/woo-product-gallery-slider/assets/public/css/venobox.css?ver=2.0\" id=\"venobox-style-css\" media=\"all\" rel=\"stylesheet\" type=\"text/css\"/>\n",
              "<style id=\"venobox-style-inline-css\" type=\"text/css\">\n",
              "\n",
              "                .wpgs-for .slick-arrow,.wpgs-nav .slick-prev::before, .wpgs-nav .slick-next::before{\n",
              "                        color: #2d2d2d;\n",
              "            \n",
              "\n",
              "                \n",
              "                }\n",
              "</style>\n",
              "<link href=\"https://coslovemetics.mk/wp-content/plugins/woo-product-gallery-slider/assets/public/css/font/flaticon.css?ver=2.0\" id=\"flaticon-wpgs-css\" media=\"all\" rel=\"stylesheet\" type=\"text/css\"/>\n",
              "<link href=\"https://coslovemetics.mk/wp-content/plugins/yith-woocommerce-ajax-search/assets/css/yith_wcas_ajax_search.css?ver=1.8.9\" id=\"yith_wcas_frontend-css\" media=\"all\" rel=\"stylesheet\" type=\"text/css\"/>\n",
              "<link href=\"https://coslovemetics.mk/wp-content/plugins/yith-infinite-scrolling/assets/css/frontend.css?ver=1.2.0\" id=\"yith-infs-style-css\" media=\"all\" rel=\"stylesheet\" type=\"text/css\"/>\n",
              "<link href=\"https://coslovemetics.mk/wp-content/plugins/yith-woocommerce-added-to-cart-popup/assets/css/wacp-frontend.css?ver=1.4.1\" id=\"yith-wacp-frontend-css\" media=\"all\" rel=\"stylesheet\" type=\"text/css\"/>\n",
              "<style id=\"yith-wacp-frontend-inline-css\" type=\"text/css\">\n",
              "\n",
              "                #yith-wacp-popup .yith-wacp-content a.button {\n",
              "                        background: #ebe9eb;\n",
              "                        color: #515151;\n",
              "                }\n",
              "                #yith-wacp-popup .yith-wacp-content a.button:hover {\n",
              "                        background: #dad8da;\n",
              "                        color: #515151;\n",
              "                }\n",
              "</style>\n",
              "<link href=\"//coslovemetics.mk/wp-content/plugins/woocommerce/assets/css/prettyPhoto.css?ver=5.7.8\" id=\"woocommerce_prettyPhoto_css-css\" media=\"all\" rel=\"stylesheet\" type=\"text/css\"/>\n",
              "<link href=\"https://coslovemetics.mk/wp-content/plugins/side-cart-woocommerce/assets/css/xoo-wsc-fonts.css?ver=2.1\" id=\"xoo-wsc-fonts-css\" media=\"all\" rel=\"stylesheet\" type=\"text/css\"/>\n",
              "<link href=\"https://coslovemetics.mk/wp-content/plugins/side-cart-woocommerce/assets/css/xoo-wsc-style.css?ver=2.1\" id=\"xoo-wsc-style-css\" media=\"all\" rel=\"stylesheet\" type=\"text/css\"/>\n",
              "<style id=\"xoo-wsc-style-inline-css\" type=\"text/css\">\n",
              "\n",
              ".xoo-wsc-sp-left-col img{\n",
              "\tmax-width: 80px;\n",
              "}\n",
              "\n",
              ".xoo-wsc-sp-right-col{\n",
              "\tfont-size: 14px;\n",
              "}\n",
              "\n",
              ".xoo-wsc-sp-container{\n",
              "\tbackground-color: #eee;\n",
              "}\n",
              "\n",
              "\n",
              " \n",
              "\n",
              ".xoo-wsc-footer{\n",
              "\tbackground-color: #ffffff;\n",
              "\tcolor: #000000;\n",
              "\tpadding: 10px 20px;\n",
              "}\n",
              "\n",
              ".xoo-wsc-footer, .xoo-wsc-footer a, .xoo-wsc-footer .amount{\n",
              "\tfont-size: 18px;\n",
              "}\n",
              "\n",
              ".xoo-wsc-ft-buttons-cont{\n",
              "\tgrid-template-columns: auto;\n",
              "}\n",
              "\n",
              ".xoo-wsc-basket{\n",
              "\tbottom: 12px;\n",
              "\tright: 0px;\n",
              "\tbackground-color: #ffffff;\n",
              "\tcolor: #000000;\n",
              "\tbox-shadow: 0 1px 4px 0;\n",
              "}\n",
              "\n",
              ".xoo-wsc-items-count{\n",
              "\ttop: -15px;\n",
              "\tleft: -15px;\n",
              "}\n",
              "\n",
              ".xoo-wsc-items-count, .xoo-wsc-sc-count{\n",
              "\tbackground-color: #000000;\n",
              "\tcolor: #ffffff;\n",
              "}\n",
              "\n",
              ".xoo-wsc-container, .xoo-wsc-slider{\n",
              "\tmax-width: 320px;\n",
              "\tright: -320px;\n",
              "\ttop: 0;bottom: 0;\n",
              "\tbottom: 0;\n",
              "\tfont-family: }\n",
              "\n",
              "\n",
              ".xoo-wsc-cart-active .xoo-wsc-container, .xoo-wsc-slider-active .xoo-wsc-slider{\n",
              "\tright: 0;\n",
              "}\n",
              "\n",
              ".xoo-wsc-cart-active .xoo-wsc-basket{\n",
              "\tright: 320px;\n",
              "}\n",
              "\n",
              ".xoo-wsc-slider{\n",
              "\tright: -320px;\n",
              "}\n",
              "\n",
              "span.xoo-wsch-close {\n",
              "    font-size: 16px;\n",
              "    right: 10px;\n",
              "}\n",
              "\n",
              ".xoo-wsch-top{\n",
              "\tjustify-content: center;\n",
              "}\n",
              "\n",
              ".xoo-wsch-text{\n",
              "\tfont-size: 20px;\n",
              "}\n",
              "\n",
              ".xoo-wsc-header{\n",
              "\tcolor: #000000;\n",
              "\tbackground-color: #ffffff;\n",
              "}\n",
              "\n",
              ".xoo-wsc-sb-bar > span{\n",
              "\tbackground-color: #1e73be;\n",
              "}\n",
              "\n",
              ".xoo-wsc-body{\n",
              "\tbackground-color: #ffffff;\n",
              "}\n",
              "\n",
              ".xoo-wsc-body, .xoo-wsc-body span.amount, .xoo-wsc-body a{\n",
              "\tfont-size: 16px;\n",
              "\tcolor: #000000;\n",
              "}\n",
              "\n",
              ".xoo-wsc-product{\n",
              "\tpadding: 20px 15px;\n",
              "}\n",
              "\n",
              ".xoo-wsc-img-col{\n",
              "\twidth: 30%;\n",
              "}\n",
              ".xoo-wsc-sum-col{\n",
              "\twidth: 70%;\n",
              "}\n",
              "\n",
              ".xoo-wsc-sum-col{\n",
              "\tjustify-content: center;\n",
              "}\n",
              "\n",
              "/***** Quantity *****/\n",
              "\n",
              ".xoo-wsc-qty-box{\n",
              "\tmax-width: 75px;\n",
              "}\n",
              "\n",
              ".xoo-wsc-qty-box.xoo-wsc-qtb-square{\n",
              "\tborder-color: #000000;\n",
              "}\n",
              "\n",
              "input[type=\"number\"].xoo-wsc-qty{\n",
              "\tborder-color: #000000;\n",
              "\tbackground-color: #ffffff;\n",
              "\tcolor: #000000;\n",
              "\theight: 28px;\n",
              "\tline-height: 28px;\n",
              "}\n",
              "\n",
              "input[type=\"number\"].xoo-wsc-qty, .xoo-wsc-qtb-square{\n",
              "\tborder-width: 1px;\n",
              "\tborder-style: solid;\n",
              "}\n",
              ".xoo-wsc-chng{\n",
              "\tbackground-color: #ffffff;\n",
              "\tcolor: #000000;\n",
              "}\n",
              "</style>\n",
              "<link href=\"https://coslovemetics.mk/wp-content/themes/bebehome/css/theme.min.css?ver=0.9.4.1619441012\" id=\"understrap-styles-css\" media=\"all\" rel=\"stylesheet\" type=\"text/css\"/>\n",
              "<link href=\"https://coslovemetics.mk/wp-content/themes/bebehome/slick/slick-theme.css?ver=5.7.8\" id=\"slick-theme-css-css\" media=\"all\" rel=\"stylesheet\" type=\"text/css\"/>\n",
              "<link href=\"https://coslovemetics.mk/wp-content/themes/bebehome/slick/slick.css?ver=5.7.8\" id=\"slick-css-css\" media=\"all\" rel=\"stylesheet\" type=\"text/css\"/>\n",
              "<link href=\"https://coslovemetics.mk/wp-content/themes/bebehome/css/main.css\" id=\"custom-styles-css\" media=\"all\" rel=\"stylesheet\" type=\"text/css\"/>\n",
              "<link href=\"https://coslovemetics.mk/wp-content/plugins/add-to-any/addtoany.min.css?ver=1.15\" id=\"addtoany-css\" media=\"all\" rel=\"stylesheet\" type=\"text/css\"/>\n",
              "<link href=\"https://coslovemetics.mk/wp-content/plugins/gdpr-cookie-compliance/dist/styles/gdpr-main.css?ver=4.5.6\" id=\"moove_gdpr_frontend-css\" media=\"all\" rel=\"stylesheet\" type=\"text/css\"/>\n",
              "<style id=\"moove_gdpr_frontend-inline-css\" type=\"text/css\">\n",
              "#moove_gdpr_cookie_modal,#moove_gdpr_cookie_info_bar,.gdpr_cookie_settings_shortcode_content{font-family:Nunito,sans-serif}#moove_gdpr_save_popup_settings_button{background-color:#373737;color:#fff}#moove_gdpr_save_popup_settings_button:hover{background-color:#000}#moove_gdpr_cookie_info_bar .moove-gdpr-info-bar-container .moove-gdpr-info-bar-content a.mgbutton,#moove_gdpr_cookie_info_bar .moove-gdpr-info-bar-container .moove-gdpr-info-bar-content button.mgbutton{background-color:#4f4f4f}#moove_gdpr_cookie_modal .moove-gdpr-modal-content .moove-gdpr-modal-footer-content .moove-gdpr-button-holder a.mgbutton,#moove_gdpr_cookie_modal .moove-gdpr-modal-content .moove-gdpr-modal-footer-content .moove-gdpr-button-holder button.mgbutton,.gdpr_cookie_settings_shortcode_content .gdpr-shr-button.button-green{background-color:#4f4f4f;border-color:#4f4f4f}#moove_gdpr_cookie_modal .moove-gdpr-modal-content .moove-gdpr-modal-footer-content .moove-gdpr-button-holder a.mgbutton:hover,#moove_gdpr_cookie_modal .moove-gdpr-modal-content .moove-gdpr-modal-footer-content .moove-gdpr-button-holder button.mgbutton:hover,.gdpr_cookie_settings_shortcode_content .gdpr-shr-button.button-green:hover{background-color:#fff;color:#4f4f4f}#moove_gdpr_cookie_modal .moove-gdpr-modal-content .moove-gdpr-modal-close i,#moove_gdpr_cookie_modal .moove-gdpr-modal-content .moove-gdpr-modal-close span.gdpr-icon{background-color:#4f4f4f;border:1px solid #4f4f4f}#moove_gdpr_cookie_info_bar span.change-settings-button.focus-g{-webkit-box-shadow:0 0 1px 3px #4f4f4f;-moz-box-shadow:0 0 1px 3px #4f4f4f;box-shadow:0 0 1px 3px #4f4f4f}#moove_gdpr_cookie_modal .moove-gdpr-modal-content .moove-gdpr-modal-close i:hover,#moove_gdpr_cookie_modal .moove-gdpr-modal-content .moove-gdpr-modal-close span.gdpr-icon:hover,#moove_gdpr_cookie_info_bar span[data-href]>u.change-settings-button{color:#4f4f4f}#moove_gdpr_cookie_modal .moove-gdpr-modal-content .moove-gdpr-modal-left-content #moove-gdpr-menu li.menu-item-selected a span.gdpr-icon,#moove_gdpr_cookie_modal .moove-gdpr-modal-content .moove-gdpr-modal-left-content #moove-gdpr-menu li.menu-item-selected button span.gdpr-icon{color:inherit}#moove_gdpr_cookie_modal .moove-gdpr-modal-content .moove-gdpr-modal-left-content #moove-gdpr-menu li:hover a,#moove_gdpr_cookie_modal .moove-gdpr-modal-content .moove-gdpr-modal-left-content #moove-gdpr-menu li:hover button{color:#000}#moove_gdpr_cookie_modal .moove-gdpr-modal-content .moove-gdpr-modal-left-content #moove-gdpr-menu li a span.gdpr-icon,#moove_gdpr_cookie_modal .moove-gdpr-modal-content .moove-gdpr-modal-left-content #moove-gdpr-menu li button span.gdpr-icon{color:inherit}#moove_gdpr_cookie_modal .gdpr-acc-link{line-height:0;font-size:0;color:transparent;position:absolute}#moove_gdpr_cookie_modal .moove-gdpr-modal-content .moove-gdpr-modal-close:hover i,#moove_gdpr_cookie_modal .moove-gdpr-modal-content .moove-gdpr-modal-left-content #moove-gdpr-menu li a,#moove_gdpr_cookie_modal .moove-gdpr-modal-content .moove-gdpr-modal-left-content #moove-gdpr-menu li button,#moove_gdpr_cookie_modal .moove-gdpr-modal-content .moove-gdpr-modal-left-content #moove-gdpr-menu li button i,#moove_gdpr_cookie_modal .moove-gdpr-modal-content .moove-gdpr-modal-left-content #moove-gdpr-menu li a i,#moove_gdpr_cookie_modal .moove-gdpr-modal-content .moove-gdpr-tab-main .moove-gdpr-tab-main-content a:hover,#moove_gdpr_cookie_info_bar.moove-gdpr-dark-scheme .moove-gdpr-info-bar-container .moove-gdpr-info-bar-content a.mgbutton:hover,#moove_gdpr_cookie_info_bar.moove-gdpr-dark-scheme .moove-gdpr-info-bar-container .moove-gdpr-info-bar-content button.mgbutton:hover,#moove_gdpr_cookie_info_bar.moove-gdpr-dark-scheme .moove-gdpr-info-bar-container .moove-gdpr-info-bar-content a:hover,#moove_gdpr_cookie_info_bar.moove-gdpr-dark-scheme .moove-gdpr-info-bar-container .moove-gdpr-info-bar-content button:hover,#moove_gdpr_cookie_info_bar.moove-gdpr-dark-scheme .moove-gdpr-info-bar-container .moove-gdpr-info-bar-content span.change-settings-button:hover,#moove_gdpr_cookie_info_bar.moove-gdpr-dark-scheme .moove-gdpr-info-bar-container .moove-gdpr-info-bar-content u.change-settings-button:hover,#moove_gdpr_cookie_info_bar span[data-href]>u.change-settings-button,#moove_gdpr_cookie_info_bar.moove-gdpr-dark-scheme .moove-gdpr-info-bar-container .moove-gdpr-info-bar-content a.mgbutton.focus-g,#moove_gdpr_cookie_info_bar.moove-gdpr-dark-scheme .moove-gdpr-info-bar-container .moove-gdpr-info-bar-content button.mgbutton.focus-g,#moove_gdpr_cookie_info_bar.moove-gdpr-dark-scheme .moove-gdpr-info-bar-container .moove-gdpr-info-bar-content a.focus-g,#moove_gdpr_cookie_info_bar.moove-gdpr-dark-scheme .moove-gdpr-info-bar-container .moove-gdpr-info-bar-content button.focus-g,#moove_gdpr_cookie_info_bar.moove-gdpr-dark-scheme .moove-gdpr-info-bar-container .moove-gdpr-info-bar-content span.change-settings-button.focus-g,#moove_gdpr_cookie_info_bar.moove-gdpr-dark-scheme .moove-gdpr-info-bar-container .moove-gdpr-info-bar-content u.change-settings-button.focus-g{color:#4f4f4f}#moove_gdpr_cookie_modal .moove-gdpr-modal-content .moove-gdpr-modal-left-content #moove-gdpr-menu li.menu-item-selected a,#moove_gdpr_cookie_modal .moove-gdpr-modal-content .moove-gdpr-modal-left-content #moove-gdpr-menu li.menu-item-selected button{color:#000}#moove_gdpr_cookie_modal .moove-gdpr-modal-content .moove-gdpr-modal-left-content #moove-gdpr-menu li.menu-item-selected a i,#moove_gdpr_cookie_modal .moove-gdpr-modal-content .moove-gdpr-modal-left-content #moove-gdpr-menu li.menu-item-selected button i{color:#000}#moove_gdpr_cookie_modal.gdpr_lightbox-hide{display:none}\n",
              "</style>\n",
              "<script id=\"jquery-core-js\" src=\"https://coslovemetics.mk/wp-includes/js/jquery/jquery.min.js?ver=3.5.1\" type=\"text/javascript\"></script>\n",
              "<script id=\"jquery-migrate-js\" src=\"https://coslovemetics.mk/wp-includes/js/jquery/jquery-migrate.min.js?ver=3.3.2\" type=\"text/javascript\"></script>\n",
              "<script id=\"addtoany-js\" src=\"https://coslovemetics.mk/wp-content/plugins/add-to-any/addtoany.min.js?ver=1.1\" type=\"text/javascript\"></script>\n",
              "<script id=\"ion-sound-js-extra\" type=\"text/javascript\">\n",
              "/* <![CDATA[ */\n",
              "var mpcthLocalize = {\"soundsPath\":\"https:\\/\\/coslovemetics.mk\\/wp-content\\/plugins\\/responsive-flipbook\\/assets\\/sounds\\/\",\"downloadPath\":\"https:\\/\\/coslovemetics.mk\\/wp-content\\/plugins\\/responsive-flipbook\\/includes\\/download.php?file=\"};\n",
              "/* ]]> */\n",
              "</script>\n",
              "<script id=\"ion-sound-js\" src=\"https://coslovemetics.mk/wp-content/plugins/responsive-flipbook/assets/js/ion.sound.min.js?ver=2.4.6\" type=\"text/javascript\"></script>\n",
              "<script id=\"jquery-doubletab-js\" src=\"https://coslovemetics.mk/wp-content/plugins/responsive-flipbook/assets/js/jquery.doubletap.js?ver=2.4.6\" type=\"text/javascript\"></script>\n",
              "<script id=\"cookie-js\" src=\"https://cdnjs.cloudflare.com/ajax/libs/jquery-cookie/1.4.1/jquery.cookie.min.js?ver=5.7.8\" type=\"text/javascript\"></script>\n",
              "<script id=\"addToCompare-js\" src=\"https://coslovemetics.mk/wp-content/themes/bebehome/js/addToCompare.js?ver=5.7.8\" type=\"text/javascript\"></script>\n",
              "<script id=\"removeFromCompare-js\" src=\"https://coslovemetics.mk/wp-content/themes/bebehome/js/removeFromCompare.js?ver=5.7.8\" type=\"text/javascript\"></script>\n",
              "<link href=\"https://coslovemetics.mk/wp-json/\" rel=\"https://api.w.org/\"/><link href=\"https://coslovemetics.mk/xmlrpc.php?rsd\" rel=\"EditURI\" title=\"RSD\" type=\"application/rsd+xml\"/>\n",
              "<link href=\"https://coslovemetics.mk/wp-includes/wlwmanifest.xml\" rel=\"wlwmanifest\" type=\"application/wlwmanifest+xml\"/>\n",
              "<meta content=\"WordPress 5.7.8\" name=\"generator\">\n",
              "<meta content=\"WooCommerce 4.1.4\" name=\"generator\"/>\n",
              "<script data-cfasync=\"false\">\n",
              "window.a2a_config=window.a2a_config||{};a2a_config.callbacks=[];a2a_config.overlays=[];a2a_config.templates={};a2a_localize = {\n",
              "\tShare: \"Share\",\n",
              "\tSave: \"Save\",\n",
              "\tSubscribe: \"Subscribe\",\n",
              "\tEmail: \"Email\",\n",
              "\tBookmark: \"Bookmark\",\n",
              "\tShowAll: \"Show all\",\n",
              "\tShowLess: \"Show less\",\n",
              "\tFindServices: \"Find service(s)\",\n",
              "\tFindAnyServiceToAddTo: \"Instantly find any service to add to\",\n",
              "\tPoweredBy: \"Powered by\",\n",
              "\tShareViaEmail: \"Share via email\",\n",
              "\tSubscribeViaEmail: \"Subscribe via email\",\n",
              "\tBookmarkInYourBrowser: \"Bookmark in your browser\",\n",
              "\tBookmarkInstructions: \"Press Ctrl+D or \\u2318+D to bookmark this page\",\n",
              "\tAddToYourFavorites: \"Add to your favorites\",\n",
              "\tSendFromWebOrProgram: \"Send from any email address or email program\",\n",
              "\tEmailProgram: \"Email program\",\n",
              "\tMore: \"More&#8230;\",\n",
              "\tThanksForSharing: \"Thanks for sharing!\",\n",
              "\tThanksForFollowing: \"Thanks for following!\"\n",
              "};\n",
              "\n",
              "a2a_config.icon_color=\"#4f4f4f\";\n",
              "(function(d,s,a,b){a=d.createElement(s);b=d.getElementsByTagName(s)[0];a.async=1;a.src=\"https://static.addtoany.com/menu/page.js\";b.parentNode.insertBefore(a,b);})(document,\"script\");\n",
              "</script>\n",
              "<meta content=\"yes\" name=\"mobile-web-app-capable\"/>\n",
              "<meta content=\"yes\" name=\"apple-mobile-web-app-capable\"/>\n",
              "<meta content=\"Coslovemetics.mk - \" name=\"apple-mobile-web-app-title\"/>\n",
              "<noscript><style>.woocommerce-product-gallery{ opacity: 1 !important; }</style></noscript>\n",
              "<style type=\"text/css\">.recentcomments a{display:inline !important;padding:0 !important;margin:0 !important;}</style><link href=\"https://coslovemetics.mk/wp-content/uploads/cropped-Cosmetilove-favicon-32x32.png\" rel=\"icon\" sizes=\"32x32\"/>\n",
              "<link href=\"https://coslovemetics.mk/wp-content/uploads/cropped-Cosmetilove-favicon-192x192.png\" rel=\"icon\" sizes=\"192x192\"/>\n",
              "<link href=\"https://coslovemetics.mk/wp-content/uploads/cropped-Cosmetilove-favicon-180x180.png\" rel=\"apple-touch-icon\"/>\n",
              "<meta content=\"https://coslovemetics.mk/wp-content/uploads/cropped-Cosmetilove-favicon-270x270.png\" name=\"msapplication-TileImage\">\n",
              "<style id=\"wp-custom-css\" type=\"text/css\">\n",
              "\t\t\t#shipping_address_2_field .optional {display:none !important;}\n",
              "\n",
              "#cookie-law-info-bar {\n",
              "    height: 130px;\n",
              "}\n",
              "\n",
              "@media (max-width: 800px){\n",
              "\t#cookie-law-info-bar {\n",
              "    height: 160px;\n",
              "}\n",
              "\t#cookie-law-info-bar span {\n",
              "    vertical-align: middle;\n",
              "    font-size: .9rem;\n",
              "}\n",
              "}\n",
              "\n",
              "@media (max-width: 600px){\n",
              "\t#cookie-law-info-bar {\n",
              "    height: 230px;\n",
              "}\n",
              "\t#cookie-law-info-bar span {\n",
              "    vertical-align: middle;\n",
              "    font-size: .9rem;\n",
              "}\n",
              "}\t\t</style>\n",
              "<style type=\"text/css\">/** Mega Menu CSS: fs **/</style>\n",
              "<!-- WooCommerce Google Analytics Integration -->\n",
              "<script type=\"text/javascript\">\n",
              "\t\t\tvar gaProperty = 'UA-166467448-1';\n",
              "\t\t\tvar disableStr = 'ga-disable-' + gaProperty;\n",
              "\t\t\tif ( document.cookie.indexOf( disableStr + '=true' ) > -1 ) {\n",
              "\t\t\t\twindow[disableStr] = true;\n",
              "\t\t\t}\n",
              "\t\t\tfunction gaOptout() {\n",
              "\t\t\t\tdocument.cookie = disableStr + '=true; expires=Thu, 31 Dec 2099 23:59:59 UTC; path=/';\n",
              "\t\t\t\twindow[disableStr] = true;\n",
              "\t\t\t}\n",
              "\t\t</script>\n",
              "<script type=\"text/javascript\">(function(i,s,o,g,r,a,m){i['GoogleAnalyticsObject']=r;i[r]=i[r]||function(){\n",
              "\t\t(i[r].q=i[r].q||[]).push(arguments)},i[r].l=1*new Date();a=s.createElement(o),\n",
              "\t\tm=s.getElementsByTagName(o)[0];a.async=1;a.src=g;m.parentNode.insertBefore(a,m)\n",
              "\t\t})(window,document,'script', '//www.google-analytics.com/analytics.js','ga');ga( 'create', 'UA-166467448-1', 'auto' );ga( 'require', 'linkid' );ga( 'set', 'anonymizeIp', true );\n",
              "\t\tga( 'set', 'dimension1', 'no' );\n",
              "ga( 'require', 'ec' );</script>\n",
              "<!-- /WooCommerce Google Analytics Integration -->\n",
              "<!-- Global site tag (gtag.js) - Google Analytics -->\n",
              "<script async=\"\" src=\"https://www.googletagmanager.com/gtag/js?id=UA-173478352-2\"></script>\n",
              "<script src=\"https://cdn.jsdelivr.net/npm/jquery-validation@1.19.3/dist/jquery.validate.js\" type=\"text/javascript\"></script>\n",
              "<script src=\"https://cdn.jsdelivr.net/npm/jquery-validation@1.17.0/dist/localization/messages_mk.js\" type=\"text/javascript\"></script>\n",
              "<script type=\"text/javascript\">\n",
              "jQuery.extend( jQuery.validator.messages, {\n",
              "\trequired: \"Полето е задолжително.\",\n",
              "\tremote: \"Поправете го ова поле\",\n",
              "\temail: \"Внесете правилна e-mail адреса\",\n",
              "\turl: \"Внесете правилен URL.\",\n",
              "\tdate: \"Внесете правилен датум\",\n",
              "\tdateISO: \"Внесете правилен датум (ISO).\",\n",
              "\tnumber: \"Внесете правилен број.\",\n",
              "\tdigits: \"Внесете само бројки.\",\n",
              "\tcreditcard: \"Внесете правилен број на кредитната картичка.\",\n",
              "\tequalTo: \"Внесете ја истата вредност повторно.\",\n",
              "\textension: \"Внесете вредност со соодветна екстензија.\",\n",
              "\tmaxlength: jQuery.validator.format( \"Внесете максимално {0} знаци.\" ),\n",
              "\tminlength: jQuery.validator.format( \"Внесете барем {0} знаци.\" ),\n",
              "\trangelength: jQuery.validator.format( \"Внесете вредност со должина помеѓу {0} и {1} знаци.\" ),\n",
              "\trange: jQuery.validator.format( \"Внесете вредност помеѓу {0} и {1}.\" ),\n",
              "\tmax: jQuery.validator.format( \"Внесете вредност помала или еднаква на {0}.\" ),\n",
              "\tmin: jQuery.validator.format( \"Внесете вредност поголема или еднаква на {0}\" )\n",
              "} );\n",
              "</script>\n",
              "<script>\n",
              "  window.dataLayer = window.dataLayer || [];\n",
              "  function gtag(){dataLayer.push(arguments);}\n",
              "  gtag('js', new Date());\n",
              "\n",
              "  gtag('config', 'UA-173478352-2');\n",
              "</script>\n",
              "<title>Coslovemetics</title>\n",
              "<meta content=\"Добредојдовте на cosLOVEmetics.mk место каде може да ги најдете најдобрите светски брендови..\" property=\"og:description\">\n",
              "<meta content=\"Coslovemetics\" property=\"og:title\">\n",
              "<meta content=\"https://coslovemetics.mk/wp-content/uploads/header-2.png\" property=\"og:image\"/>\n",
              "</meta></meta></meta></meta></link></link></meta></head>\n",
              "<body class=\"archive tax-product_cat term-summersale term-549 wp-embed-responsive theme-bebehome woocommerce woocommerce-page woocommerce-no-js mega-menu-primary yith-wcan-free yith-wcms show_checkout_login_reminder yith-wcms-pro group-blog hfeed\">\n",
              "<div class=\"site\" id=\"page\">\n",
              "<div id=\"wrapper-navbar\" itemscope=\"\" itemtype=\"http://schema.org/WebSite\">\n",
              "<div class=\"container-fluid bg-top\">\n",
              "<div class=\"container py-2 px-0\">\n",
              "<div class=\"col-md-12 text-center px-0\">\n",
              "<p class=\"m-0 banner-text-top\">БЕСПЛАТНА достава за нарачки над 300 денари</p>\n",
              "</div>\n",
              "</div>\n",
              "</div>\n",
              "<nav class=\"navbar navbar-expand-lg navbar-light border-bottom px-0\">\n",
              "<div class=\"container big-container\">\n",
              "<!-- Your site title as branding in the menu -->\n",
              "<a class=\" navbar-brand \" href=\"https://coslovemetics.mk/\" itemprop=\"url\" rel=\"home\" title=\"Coslovemetics.mk\">Coslovemetics.mk</a>\n",
              "<div class=\" topbar-right-menu d-flex header-menu order-lg-4 order-2\">\n",
              "<!-- \t\t\t\t\t<a class=\"header-icon icon-menu d-lg-none\" data-toggle=\"collapse\" data-target=\"#navbarNavDropdown\" aria-controls=\"navbarNavDropdown\" aria-expanded=\"false\" aria-label=\"Toggle navigation\"></a> -->\n",
              "<a class=\"header-icon icon-search\" href=\"https://coslovemetics.mk/search\">Search</a>\n",
              "<a class=\"header-icon icon-my-account lrm-login\" data-placement=\"bottom\" data-toggle=\"tooltip\" href=\"https://coslovemetics.mk/my-account\" title=\"Моја сметка\">Моја сметка</a>\n",
              "<a class=\"header-icon icon-cart added_to_cart \" data-placement=\"bottom\" data-toggle=\"tooltip\" href=\"#\" title=\"Кошничка\">Кошничка\t\t\t\t\t\t\t\t\t\t\t<span class=\"item-count xoo-wsc-items-count\">\n",
              "\t\t\t\t\t\t\t\t\t0\t\t\t\t\t\t\t\t</span></a>\n",
              "<a class=\"header-icon icon-wishlist\" data-placement=\"bottom\" data-toggle=\"tooltip\" href=\"https://coslovemetics.mk/wishlist\" title=\"Омилено\">Омилено</a>\n",
              "</div>\n",
              "<div class=\"mega-menu-wrap\" id=\"mega-menu-wrap-primary\"><div class=\"mega-menu-toggle\"><div class=\"mega-toggle-blocks-left\"></div><div class=\"mega-toggle-blocks-center\"></div><div class=\"mega-toggle-blocks-right\"><div class=\"mega-toggle-block mega-menu-toggle-block mega-toggle-block-1\" id=\"mega-toggle-block-1\" tabindex=\"0\"><span aria-expanded=\"false\" class=\"mega-toggle-label\" role=\"button\"><span class=\"mega-toggle-label-closed\"></span><span class=\"mega-toggle-label-open\"></span></span></div></div></div><ul class=\"mega-menu max-mega-menu mega-menu-horizontal mega-no-js\" data-breakpoint=\"600\" data-document-click=\"collapse\" data-effect=\"fade_up\" data-effect-mobile=\"disabled\" data-effect-speed=\"200\" data-effect-speed-mobile=\"0\" data-event=\"hover_intent\" data-hover-intent-interval=\"100\" data-hover-intent-timeout=\"300\" data-mobile-force-width=\"body\" data-mobile-state=\"collapse_all\" data-second-click=\"go\" data-unbind=\"true\" data-vertical-behaviour=\"standard\" id=\"mega-menu-primary\"><li class=\"mega-menu-item mega-menu-item-type-post_type mega-menu-item-object-page mega-align-bottom-left mega-menu-flyout mega-menu-item-19413\" id=\"mega-menu-item-19413\"><a class=\"mega-menu-link\" href=\"https://coslovemetics.mk/%d0%b7%d0%b0-%d0%bd%d0%b0%d1%81/\" tabindex=\"0\">За Нас</a></li><li class=\"mega-menu-item mega-menu-item-type-post_type mega-menu-item-object-page mega-menu-item-has-children mega-align-bottom-left mega-menu-flyout mega-menu-item-19299\" id=\"mega-menu-item-19299\"><a aria-expanded=\"false\" aria-haspopup=\"true\" class=\"mega-menu-link\" href=\"https://coslovemetics.mk/brands/\" tabindex=\"0\">Брендови<span class=\"mega-indicator\"></span></a>\n",
              "<ul class=\"mega-sub-menu\">\n",
              "<li class=\"mega-menu-item mega-menu-item-type-taxonomy mega-menu-item-object-product_cat mega-menu-item-20876\" id=\"mega-menu-item-20876\"><a class=\"mega-menu-link\" href=\"https://coslovemetics.mk/product-category/brands/purito/\">Purito</a></li><li class=\"mega-menu-item mega-menu-item-type-taxonomy mega-menu-item-object-product_cat mega-menu-item-31294\" id=\"mega-menu-item-31294\"><a class=\"mega-menu-link\" href=\"https://coslovemetics.mk/product-category/brands/mary-n-may/\">Mary n May</a></li><li class=\"mega-menu-item mega-menu-item-type-taxonomy mega-menu-item-object-product_cat mega-menu-item-20874\" id=\"mega-menu-item-20874\"><a class=\"mega-menu-link\" href=\"https://coslovemetics.mk/product-category/brands/geekgorgeous/\">Geek&amp;Gorgeous</a></li><li class=\"mega-menu-item mega-menu-item-type-taxonomy mega-menu-item-object-product_cat mega-menu-item-20873\" id=\"mega-menu-item-20873\"><a class=\"mega-menu-link\" href=\"https://coslovemetics.mk/product-category/brands/cosrx/\">COSRX</a></li><li class=\"mega-menu-item mega-menu-item-type-taxonomy mega-menu-item-object-product_cat mega-menu-item-34321\" id=\"mega-menu-item-34321\"><a class=\"mega-menu-link\" href=\"https://coslovemetics.mk/product-category/brands/enough/\">Enough</a></li><li class=\"mega-menu-item mega-menu-item-type-taxonomy mega-menu-item-object-product_cat mega-menu-item-23688\" id=\"mega-menu-item-23688\"><a class=\"mega-menu-link\" href=\"https://coslovemetics.mk/product-category/brands/altruist/\">Altruist</a></li><li class=\"mega-menu-item mega-menu-item-type-taxonomy mega-menu-item-object-product_cat mega-menu-item-20871\" id=\"mega-menu-item-20871\"><a class=\"mega-menu-link\" href=\"https://coslovemetics.mk/product-category/brands/benton/\">Benton</a></li><li class=\"mega-menu-item mega-menu-item-type-taxonomy mega-menu-item-object-product_cat mega-menu-item-20908\" id=\"mega-menu-item-20908\"><a class=\"mega-menu-link\" href=\"https://coslovemetics.mk/product-category/brands/dr-jart/\">Dr.Jart+</a></li><li class=\"mega-menu-item mega-menu-item-type-taxonomy mega-menu-item-object-product_cat mega-menu-item-20875\" id=\"mega-menu-item-20875\"><a class=\"mega-menu-link\" href=\"https://coslovemetics.mk/product-category/brands/iunik/\">iUNIK</a></li><li class=\"mega-menu-item mega-menu-item-type-taxonomy mega-menu-item-object-product_cat mega-menu-item-20878\" id=\"mega-menu-item-20878\"><a class=\"mega-menu-link\" href=\"https://coslovemetics.mk/product-category/brands/some-by-mi/\">Some by mi</a></li><li class=\"mega-menu-item mega-menu-item-type-taxonomy mega-menu-item-object-product_cat mega-menu-item-20877\" id=\"mega-menu-item-20877\"><a class=\"mega-menu-link\" href=\"https://coslovemetics.mk/product-category/brands/pyunkang-yul/\">Pyunkang Yul</a></li><li class=\"mega-menu-item mega-menu-item-type-taxonomy mega-menu-item-object-product_cat mega-menu-item-22084\" id=\"mega-menu-item-22084\"><a class=\"mega-menu-link\" href=\"https://coslovemetics.mk/product-category/brands/tiam/\">TIAM</a></li><li class=\"mega-menu-item mega-menu-item-type-taxonomy mega-menu-item-object-product_cat mega-menu-item-22346\" id=\"mega-menu-item-22346\"><a class=\"mega-menu-link\" href=\"https://coslovemetics.mk/product-category/brands/heimish/\">HEIMISH</a></li><li class=\"mega-menu-item mega-menu-item-type-taxonomy mega-menu-item-object-product_cat mega-menu-item-38055\" id=\"mega-menu-item-38055\"><a class=\"mega-menu-link\" href=\"https://coslovemetics.mk/product-category/brands/tocobo/\">TOCOBO</a></li><li class=\"mega-menu-item mega-menu-item-type-taxonomy mega-menu-item-object-product_cat mega-menu-item-20939\" id=\"mega-menu-item-20939\"><a class=\"mega-menu-link\" href=\"https://coslovemetics.mk/product-category/brands/innisfree/\">innisfree</a></li><li class=\"mega-menu-item mega-menu-item-type-taxonomy mega-menu-item-object-product_cat mega-menu-item-20937\" id=\"mega-menu-item-20937\"><a class=\"mega-menu-link\" href=\"https://coslovemetics.mk/product-category/brands/laneige/\">Laneige</a></li><li class=\"mega-menu-item mega-menu-item-type-taxonomy mega-menu-item-object-product_cat mega-menu-item-20938\" id=\"mega-menu-item-20938\"><a class=\"mega-menu-link\" href=\"https://coslovemetics.mk/product-category/brands/missha/\">MISSHA</a></li><li class=\"mega-menu-item mega-menu-item-type-taxonomy mega-menu-item-object-product_cat mega-menu-item-38284\" id=\"mega-menu-item-38284\"><a class=\"mega-menu-link\" href=\"https://coslovemetics.mk/product-category/brands/farmstay/\">FARM STAY</a></li><li class=\"mega-menu-item mega-menu-item-type-taxonomy mega-menu-item-object-product_cat mega-menu-item-23287\" id=\"mega-menu-item-23287\"><a class=\"mega-menu-link\" href=\"https://coslovemetics.mk/product-category/brands/haruharu/\">HaruHaru</a></li><li class=\"mega-menu-item mega-menu-item-type-taxonomy mega-menu-item-object-product_cat mega-menu-item-20940\" id=\"mega-menu-item-20940\"><a class=\"mega-menu-link\" href=\"https://coslovemetics.mk/product-category/brands/banila-co/\">Banila Co</a></li><li class=\"mega-menu-item mega-menu-item-type-taxonomy mega-menu-item-object-product_cat mega-menu-item-24179\" id=\"mega-menu-item-24179\"><a class=\"mega-menu-link\" href=\"https://coslovemetics.mk/product-category/brands/neogen/\">Neogen</a></li><li class=\"mega-menu-item mega-menu-item-type-taxonomy mega-menu-item-object-product_cat mega-menu-item-23328\" id=\"mega-menu-item-23328\"><a class=\"mega-menu-link\" href=\"https://coslovemetics.mk/product-category/brands/isntree/\">isntree</a></li><li class=\"mega-menu-item mega-menu-item-type-taxonomy mega-menu-item-object-product_cat mega-menu-item-22348\" id=\"mega-menu-item-22348\"><a class=\"mega-menu-link\" href=\"https://coslovemetics.mk/product-category/brands/etudehouse/\">Etude House</a></li><li class=\"mega-menu-item mega-menu-item-type-taxonomy mega-menu-item-object-product_cat mega-menu-item-26678\" id=\"mega-menu-item-26678\"><a class=\"mega-menu-link\" href=\"https://coslovemetics.mk/product-category/brands/beauty-of-joseon/\">Beauty of Joseon</a></li><li class=\"mega-menu-item mega-menu-item-type-taxonomy mega-menu-item-object-product_cat mega-menu-item-21553\" id=\"mega-menu-item-21553\"><a class=\"mega-menu-link\" href=\"https://coslovemetics.mk/product-category/brands/cp-1/\">CP-1</a></li><li class=\"mega-menu-item mega-menu-item-type-taxonomy mega-menu-item-object-product_cat mega-menu-item-34389\" id=\"mega-menu-item-34389\"><a class=\"mega-menu-link\" href=\"https://coslovemetics.mk/product-category/brands/ahc/\">AHC</a></li><li class=\"mega-menu-item mega-menu-item-type-taxonomy mega-menu-item-object-product_cat mega-menu-item-35588\" id=\"mega-menu-item-35588\"><a class=\"mega-menu-link\" href=\"https://coslovemetics.mk/product-category/brands/apieu/\">APIEU</a></li><li class=\"mega-menu-item mega-menu-item-type-taxonomy mega-menu-item-object-product_cat mega-menu-item-24178\" id=\"mega-menu-item-24178\"><a class=\"mega-menu-link\" href=\"https://coslovemetics.mk/product-category/brands/surmedic/\">Sur.Medic+</a></li><li class=\"mega-menu-item mega-menu-item-type-taxonomy mega-menu-item-object-product_cat mega-menu-item-22352\" id=\"mega-menu-item-22352\"><a class=\"mega-menu-link\" href=\"https://coslovemetics.mk/product-category/brands/frudia/\">Frudia</a></li><li class=\"mega-menu-item mega-menu-item-type-taxonomy mega-menu-item-object-product_cat mega-menu-item-22344\" id=\"mega-menu-item-22344\"><a class=\"mega-menu-link\" href=\"https://coslovemetics.mk/product-category/brands/tonymoly/\">Tonymoly</a></li><li class=\"mega-menu-item mega-menu-item-type-taxonomy mega-menu-item-object-product_cat mega-menu-item-22350\" id=\"mega-menu-item-22350\"><a class=\"mega-menu-link\" href=\"https://coslovemetics.mk/product-category/brands/naturerepublic/\">Nature Republic</a></li><li class=\"mega-menu-item mega-menu-item-type-taxonomy mega-menu-item-object-product_cat mega-menu-item-24673\" id=\"mega-menu-item-24673\"><a class=\"mega-menu-link\" href=\"https://coslovemetics.mk/product-category/brands/romnd/\">Rom&amp;ND</a></li><li class=\"mega-menu-item mega-menu-item-type-taxonomy mega-menu-item-object-product_cat mega-menu-item-24674\" id=\"mega-menu-item-24674\"><a class=\"mega-menu-link\" href=\"https://coslovemetics.mk/product-category/brands/double-dare/\">Double Dare</a></li><li class=\"mega-menu-item mega-menu-item-type-taxonomy mega-menu-item-object-product_cat mega-menu-item-38056\" id=\"mega-menu-item-38056\"><a class=\"mega-menu-link\" href=\"https://coslovemetics.mk/product-category/brands/suntique/\">Suntique</a></li><li class=\"mega-menu-item mega-menu-item-type-taxonomy mega-menu-item-object-product_cat mega-menu-item-26682\" id=\"mega-menu-item-26682\"><a class=\"mega-menu-link\" href=\"https://coslovemetics.mk/product-category/brands/face-shop/\">FACE SHOP</a></li><li class=\"mega-menu-item mega-menu-item-type-taxonomy mega-menu-item-object-product_cat mega-menu-item-26680\" id=\"mega-menu-item-26680\"><a class=\"mega-menu-link\" href=\"https://coslovemetics.mk/product-category/brands/skinfood/\">SKINFOOD</a></li><li class=\"mega-menu-item mega-menu-item-type-taxonomy mega-menu-item-object-product_cat mega-menu-item-26681\" id=\"mega-menu-item-26681\"><a class=\"mega-menu-link\" href=\"https://coslovemetics.mk/product-category/brands/snp/\">SNP</a></li><li class=\"mega-menu-item mega-menu-item-type-taxonomy mega-menu-item-object-product_cat mega-menu-item-20870\" id=\"mega-menu-item-20870\"><a class=\"mega-menu-link\" href=\"https://coslovemetics.mk/product-category/brands/attitude-living/\">Attitude Living</a></li><li class=\"mega-menu-item mega-menu-item-type-taxonomy mega-menu-item-object-product_cat mega-menu-item-20941\" id=\"mega-menu-item-20941\"><a class=\"mega-menu-link\" href=\"https://coslovemetics.mk/product-category/brands/coslovemeticscategory/\">cosLOVEmetics</a></li></ul>\n",
              "</li><li class=\"mega-menu-item mega-menu-item-type-post_type mega-menu-item-object-page mega-menu-item-has-children mega-menu-megamenu mega-align-bottom-left mega-menu-grid mega-menu-item-16638\" id=\"mega-menu-item-16638\"><a aria-expanded=\"false\" aria-haspopup=\"true\" class=\"mega-menu-link\" href=\"https://coslovemetics.mk/shop/\" tabindex=\"0\">Производи<span class=\"mega-indicator\"></span></a>\n",
              "<ul class=\"mega-sub-menu\">\n",
              "<li class=\"mega-menu-row\" id=\"mega-menu-16638-0\">\n",
              "<ul class=\"mega-sub-menu\">\n",
              "<li class=\"mega-menu-column mega-menu-columns-4-of-12\" id=\"mega-menu-16638-0-0\">\n",
              "<ul class=\"mega-sub-menu\">\n",
              "<li class=\"mega-font-weight-bold mega-menu-item mega-menu-item-type-taxonomy mega-menu-item-object-product_cat mega-menu-item-has-children mega-menu-item-19360 font-weight-bold\" id=\"mega-menu-item-19360\"><a class=\"mega-menu-link\" href=\"https://coslovemetics.mk/product-category/tip-na-koza/\">Тип на кожа<span class=\"mega-indicator\"></span></a>\n",
              "<ul class=\"mega-sub-menu\">\n",
              "<li class=\"mega-menu-item mega-menu-item-type-taxonomy mega-menu-item-object-product_cat mega-menu-item-19370\" id=\"mega-menu-item-19370\"><a class=\"mega-menu-link\" href=\"https://coslovemetics.mk/product-category/tip-na-koza/%d0%ba%d0%be%d0%bc%d0%b1%d0%b8%d0%bd%d0%b8%d1%80%d0%b0%d0%bd%d0%b0/\">КОМБИНИРАНА</a></li><li class=\"mega-menu-item mega-menu-item-type-taxonomy mega-menu-item-object-product_cat mega-menu-item-19371\" id=\"mega-menu-item-19371\"><a class=\"mega-menu-link\" href=\"https://coslovemetics.mk/product-category/tip-na-koza/%d1%81%d1%83%d0%b2%d0%b0/\">СУВА</a></li><li class=\"mega-menu-item mega-menu-item-type-taxonomy mega-menu-item-object-product_cat mega-menu-item-19372\" id=\"mega-menu-item-19372\"><a class=\"mega-menu-link\" href=\"https://coslovemetics.mk/product-category/tip-na-koza/%d0%bd%d0%be%d1%80%d0%bc%d0%b0%d0%bb%d0%bd%d0%b0/\">НОРМАЛНА</a></li><li class=\"mega-menu-item mega-menu-item-type-taxonomy mega-menu-item-object-product_cat mega-menu-item-19373\" id=\"mega-menu-item-19373\"><a class=\"mega-menu-link\" href=\"https://coslovemetics.mk/product-category/tip-na-koza/%d0%bc%d1%80%d1%81%d0%bd%d0%b0/\">МРСНА</a></li><li class=\"mega-menu-item mega-menu-item-type-taxonomy mega-menu-item-object-product_cat mega-menu-item-20917\" id=\"mega-menu-item-20917\"><a class=\"mega-menu-link\" href=\"https://coslovemetics.mk/product-category/tip-na-koza/%d1%87%d1%83%d0%b2%d1%81%d1%82%d0%b2%d0%b8%d1%82%d0%b5%d0%bb%d0%bd%d0%b0/\">ЧУВСТВИТЕЛНА</a></li> </ul>\n",
              "</li> </ul>\n",
              "</li><li class=\"mega-menu-column mega-menu-columns-4-of-12\" id=\"mega-menu-16638-0-1\">\n",
              "<ul class=\"mega-sub-menu\">\n",
              "<li class=\"mega-font-weight-bold mega-menu-item mega-menu-item-type-taxonomy mega-menu-item-object-product_cat mega-menu-item-has-children mega-menu-item-19359 font-weight-bold\" id=\"mega-menu-item-19359\"><a class=\"mega-menu-link\" href=\"https://coslovemetics.mk/product-category/nega/\">Нега за кожа и коса<span class=\"mega-indicator\"></span></a>\n",
              "<ul class=\"mega-sub-menu\">\n",
              "<li class=\"mega-menu-item mega-menu-item-type-taxonomy mega-menu-item-object-product_cat mega-menu-item-19366\" id=\"mega-menu-item-19366\"><a class=\"mega-menu-link\" href=\"https://coslovemetics.mk/product-category/nega/category-1-nega/\">ЧИСТАЧИ</a></li><li class=\"mega-menu-item mega-menu-item-type-taxonomy mega-menu-item-object-product_cat mega-menu-item-19367\" id=\"mega-menu-item-19367\"><a class=\"mega-menu-link\" href=\"https://coslovemetics.mk/product-category/nega/category-2-nega/\">КРЕМИ</a></li><li class=\"mega-menu-item mega-menu-item-type-taxonomy mega-menu-item-object-product_cat mega-menu-item-19368\" id=\"mega-menu-item-19368\"><a class=\"mega-menu-link\" href=\"https://coslovemetics.mk/product-category/nega/category-3-nega/\">ТОНЕРИ</a></li><li class=\"mega-menu-item mega-menu-item-type-taxonomy mega-menu-item-object-product_cat mega-menu-item-19369\" id=\"mega-menu-item-19369\"><a class=\"mega-menu-link\" href=\"https://coslovemetics.mk/product-category/nega/category-4-nega/\">ЕСЕНЦИИ</a></li><li class=\"mega-menu-item mega-menu-item-type-taxonomy mega-menu-item-object-product_cat mega-menu-item-20925\" id=\"mega-menu-item-20925\"><a class=\"mega-menu-link\" href=\"https://coslovemetics.mk/product-category/nega/%d1%81%d0%b5%d1%80%d1%83%d0%bc%d0%b8%d0%bc%d0%b0%d1%81%d0%bb%d0%b0%d0%b0%d0%bc%d0%bf%d1%83%d0%bb%d0%b8/\">СЕРУМИ / МАСЛА / АМПУЛИ</a></li><li class=\"mega-menu-item mega-menu-item-type-taxonomy mega-menu-item-object-product_cat mega-menu-item-20926\" id=\"mega-menu-item-20926\"><a class=\"mega-menu-link\" href=\"https://coslovemetics.mk/product-category/nega/%d1%81%d0%bf%d1%84%d0%ba%d1%80%d0%b5%d0%bc%d0%b8/\">СПФ КРЕМИ</a></li><li class=\"mega-menu-item mega-menu-item-type-taxonomy mega-menu-item-object-product_cat mega-menu-item-20951\" id=\"mega-menu-item-20951\"><a class=\"mega-menu-link\" href=\"https://coslovemetics.mk/product-category/nega/%d0%b1%d0%b1%d0%ba%d1%80%d0%b5%d0%bc%d0%b8/\">ББ КРЕМИ</a></li><li class=\"mega-menu-item mega-menu-item-type-taxonomy mega-menu-item-object-product_cat mega-menu-item-20927\" id=\"mega-menu-item-20927\"><a class=\"mega-menu-link\" href=\"https://coslovemetics.mk/product-category/nega/%d0%bc%d0%b0%d1%81%d0%ba%d0%b8-nega/\">МАСКИ</a></li><li class=\"mega-menu-item mega-menu-item-type-taxonomy mega-menu-item-object-product_cat mega-menu-item-20928\" id=\"mega-menu-item-20928\"><a class=\"mega-menu-link\" href=\"https://coslovemetics.mk/product-category/nega/%d0%ba%d1%80%d0%b5%d0%bc%d0%b8%d0%b7%d0%b0%d0%be%d1%87%d0%b8/\">КРЕМИ ЗА ОЧИ</a></li><li class=\"mega-menu-item mega-menu-item-type-taxonomy mega-menu-item-object-product_cat mega-menu-item-20929\" id=\"mega-menu-item-20929\"><a class=\"mega-menu-link\" href=\"https://coslovemetics.mk/product-category/nega/%d0%b5%d0%ba%d1%81%d1%84%d0%be%d0%bb%d0%b8%d1%98%d0%b0%d0%bd%d1%82%d0%b8/\">ЕКСФОЛИЈАНТИ</a></li><li class=\"mega-menu-item mega-menu-item-type-taxonomy mega-menu-item-object-product_cat mega-menu-item-20930\" id=\"mega-menu-item-20930\"><a class=\"mega-menu-link\" href=\"https://coslovemetics.mk/product-category/nega/%d1%81%d0%bf%d0%be%d1%82-%d1%82%d1%80%d0%b5%d1%82%d0%bc%d0%b0%d0%bd%d0%b8/\">СПОТ ТРЕТМАНИ</a></li><li class=\"mega-menu-item mega-menu-item-type-taxonomy mega-menu-item-object-product_cat mega-menu-item-20931\" id=\"mega-menu-item-20931\"><a class=\"mega-menu-link\" href=\"https://coslovemetics.mk/product-category/nega/%d1%81%d0%b5%d1%82%d0%be%d0%b2%d0%b8-nega/\">СЕТОВИ</a></li><li class=\"mega-menu-item mega-menu-item-type-taxonomy mega-menu-item-object-product_cat mega-menu-item-20932\" id=\"mega-menu-item-20932\"><a class=\"mega-menu-link\" href=\"https://coslovemetics.mk/product-category/nega/%d1%83%d1%81%d0%bd%d0%b8%d1%80%d0%b0%d1%86%d0%b5/\">УСНИ / РАЦЕ</a></li><li class=\"mega-menu-item mega-menu-item-type-taxonomy mega-menu-item-object-product_cat mega-menu-item-20933\" id=\"mega-menu-item-20933\"><a class=\"mega-menu-link\" href=\"https://coslovemetics.mk/product-category/nega/%d0%bd%d0%b5%d0%b3%d0%b0%d0%b7%d0%b0%d1%82%d0%b5%d0%bb%d0%be/\">НЕГА ЗА ТЕЛО</a></li><li class=\"mega-menu-item mega-menu-item-type-taxonomy mega-menu-item-object-product_cat mega-menu-item-20934\" id=\"mega-menu-item-20934\"><a class=\"mega-menu-link\" href=\"https://coslovemetics.mk/product-category/nega/%d0%bd%d0%b5%d0%b3%d0%b0%d0%b7%d0%b0%d0%ba%d0%be%d1%81%d0%b0/\">НЕГА ЗА КОСА</a></li><li class=\"mega-menu-item mega-menu-item-type-taxonomy mega-menu-item-object-product_cat mega-menu-item-20935\" id=\"mega-menu-item-20935\"><a class=\"mega-menu-link\" href=\"https://coslovemetics.mk/product-category/nega/%d0%bd%d0%b5%d0%b3%d0%b0%d0%b7%d0%b0%d0%b4%d0%b5%d1%86%d0%b0/\">НЕГА ЗА ДЕЦА</a></li><li class=\"mega-menu-item mega-menu-item-type-taxonomy mega-menu-item-object-product_cat mega-menu-item-20936\" id=\"mega-menu-item-20936\"><a class=\"mega-menu-link\" href=\"https://coslovemetics.mk/product-category/nega/%d0%b0%d0%ba%d1%81%d0%b5%d1%81%d0%be%d0%b0%d1%80%d0%b8/\">АКСЕСОАРИ</a></li> </ul>\n",
              "</li> </ul>\n",
              "</li><li class=\"mega-menu-column mega-menu-columns-4-of-12\" id=\"mega-menu-16638-0-2\">\n",
              "<ul class=\"mega-sub-menu\">\n",
              "<li class=\"mega-font-weight-bold mega-menu-item mega-menu-item-type-taxonomy mega-menu-item-object-product_cat mega-menu-item-has-children mega-menu-item-24100 font-weight-bold\" id=\"mega-menu-item-24100\"><a class=\"mega-menu-link\" href=\"https://coslovemetics.mk/product-category/dekorativnakozmetika/\">Декоративна Козметика<span class=\"mega-indicator\"></span></a>\n",
              "<ul class=\"mega-sub-menu\">\n",
              "<li class=\"mega-menu-item mega-menu-item-type-taxonomy mega-menu-item-object-product_cat mega-menu-item-24101\" id=\"mega-menu-item-24101\"><a class=\"mega-menu-link\" href=\"https://coslovemetics.mk/product-category/watertint/\">WATER TINT ЗА УСНИ</a></li><li class=\"mega-menu-item mega-menu-item-type-taxonomy mega-menu-item-object-product_cat mega-menu-item-24672\" id=\"mega-menu-item-24672\"><a class=\"mega-menu-link\" href=\"https://coslovemetics.mk/product-category/dekorativnakozmetika/karmini/\">КАРМИНИ</a></li><li class=\"mega-menu-item mega-menu-item-type-taxonomy mega-menu-item-object-product_cat mega-menu-item-24104\" id=\"mega-menu-item-24104\"><a class=\"mega-menu-link\" href=\"https://coslovemetics.mk/product-category/senkizaoci/\">СЕНКИ ЗА ОЧИ</a></li><li class=\"mega-menu-item mega-menu-item-type-taxonomy mega-menu-item-object-product_cat mega-menu-item-24103\" id=\"mega-menu-item-24103\"><a class=\"mega-menu-link\" href=\"https://coslovemetics.mk/product-category/molivi/\">МОЛИВИ ЗА ВЕЃИ</a></li><li class=\"mega-menu-item mega-menu-item-type-taxonomy mega-menu-item-object-product_cat mega-menu-item-24102\" id=\"mega-menu-item-24102\"><a class=\"mega-menu-link\" href=\"https://coslovemetics.mk/product-category/eyeliners/\">АЈЛАЈНЕРИ</a></li><li class=\"mega-menu-item mega-menu-item-type-taxonomy mega-menu-item-object-product_cat mega-menu-item-24105\" id=\"mega-menu-item-24105\"><a class=\"mega-menu-link\" href=\"https://coslovemetics.mk/product-category/highlighters/\">ХАЈЛАЈТЕРИ</a></li><li class=\"mega-menu-item mega-menu-item-type-taxonomy mega-menu-item-object-product_cat mega-menu-item-24106\" id=\"mega-menu-item-24106\"><a class=\"mega-menu-link\" href=\"https://coslovemetics.mk/product-category/nega/%d0%b1%d0%b1%d0%ba%d1%80%d0%b5%d0%bc%d0%b8/\">ББ КРЕМИ</a></li> </ul>\n",
              "</li> </ul>\n",
              "</li> </ul>\n",
              "</li></ul>\n",
              "</li><li class=\"mega-menu-item mega-menu-item-type-taxonomy mega-menu-item-object-product_cat mega-current-menu-item mega-align-bottom-left mega-menu-flyout mega-menu-item-26024\" id=\"mega-menu-item-26024\"><a class=\"mega-menu-link\" href=\"https://coslovemetics.mk/product-category/summersale/\" tabindex=\"0\">SALE! SALE!</a></li><li class=\"mega-menu-item mega-menu-item-type-post_type mega-menu-item-object-page mega-align-bottom-left mega-menu-flyout mega-menu-item-16570\" id=\"mega-menu-item-16570\"><a class=\"mega-menu-link\" href=\"https://coslovemetics.mk/blog/\" tabindex=\"0\">Блог</a></li><li class=\"mega-menu-item mega-menu-item-type-post_type mega-menu-item-object-page mega-align-bottom-left mega-menu-flyout mega-menu-item-21141\" id=\"mega-menu-item-21141\"><a class=\"mega-menu-link\" href=\"https://coslovemetics.mk/vib-loyalty/\" tabindex=\"0\">VIB Loyalty</a></li><li class=\"mega-menu-item mega-menu-item-type-post_type mega-menu-item-object-page mega-align-bottom-left mega-menu-flyout mega-menu-item-16639\" id=\"mega-menu-item-16639\"><a class=\"mega-menu-link\" href=\"https://coslovemetics.mk/kontakt/\" tabindex=\"0\">Контакт</a></li></ul></div>\n",
              "</div><!-- .container -->\n",
              "</nav><!-- .site-navigation -->\n",
              "</div><!-- #wrapper-navbar end -->\n",
              "<div class=\"row mx-0 w-100 submenu-content-wrapper position-absolute bg-white\">\n",
              "<div class=\"search-form-big col-md-12\">\n",
              "<div class=\"container\">\n",
              "<div id=\"right-topbar\">\n",
              "<div class=\"yith-ajaxsearchform-container\">\n",
              "<form action=\"https://coslovemetics.mk/\" id=\"yith-ajaxsearchform\" method=\"get\" role=\"search\">\n",
              "<div>\n",
              "<label class=\"screen-reader-text\" for=\"yith-s\">Search for:</label>\n",
              "<input class=\"yith-s\" data-loader-icon=\"\" data-min-chars=\"3\" id=\"yith-s\" name=\"s\" placeholder=\"Пребарај\" type=\"search\" value=\"\"/>\n",
              "<input id=\"yith-searchsubmit\" type=\"submit\" value=\"Пребарај\"/>\n",
              "<input name=\"post_type\" type=\"hidden\" value=\"product\"/>\n",
              "</div>\n",
              "</form>\n",
              "</div>\n",
              "</div> </div>\n",
              "</div>\n",
              "</div>\n",
              "<!-- submenu content end --><div class=\"archive-header-bg-image\">\n",
              "<div class=\"container big-container\">\n",
              "<header class=\"woocommerce-products-header py-4 \">\n",
              "<h1 class=\"woocommerce-products-header__title page-title\">SALE! SALE!</h1>\n",
              "<nav class=\"woocommerce-breadcrumb\"><a href=\"https://coslovemetics.mk\">Почетна</a> / SALE! SALE!</nav>\n",
              "</header>\n",
              "</div>\n",
              "</div>\n",
              "<div class=\"container mt-4\">\n",
              "<div class=\"row mx-0\">\n",
              "<div class=\"col-md-12 col-12 col-xl-3 my-3 mx-auto\" id=\"main-sidebar-wrapper\">\n",
              "<aside class=\"widget woocommerce widget_product_search yith_woocommerce_ajax_search\" id=\"yith_woocommerce_ajax_search-4\">\n",
              "<div class=\"yith-ajaxsearchform-container\">\n",
              "<form action=\"https://coslovemetics.mk/\" id=\"yith-ajaxsearchform\" method=\"get\" role=\"search\">\n",
              "<div>\n",
              "<label class=\"screen-reader-text\" for=\"yith-s\">Search for:</label>\n",
              "<input class=\"yith-s\" data-loader-icon=\"\" data-min-chars=\"3\" id=\"yith-s\" name=\"s\" placeholder=\"Пребарај\" type=\"search\" value=\"\"/>\n",
              "<input id=\"yith-searchsubmit\" type=\"submit\" value=\"Пребарај\"/>\n",
              "<input name=\"post_type\" type=\"hidden\" value=\"product\"/>\n",
              "</div>\n",
              "</form>\n",
              "</div>\n",
              "</aside><aside class=\"widget widget_yith_wc_category_accordion\" id=\"yith_wc_category_accordion-3\"><div class=\"ywcca_container ywcca_widget_container_style_4\"><h3 class=\"ywcca_widget_title\">Категории</h3><ul class=\"ywcca_category_accordion_widget category_accordion\" data-highlight_curr_cat=\"on\" data-ywcca_order=\"asc\" data-ywcca_orderby=\"id\" data-ywcca_style=\"style_4\"> <li class=\"cat-item cat-item-199\" data-cat_level=\"0\"><a class=\"round\" href=\"https://coslovemetics.mk/product-category/best-seller/\">Best Seller</a>\n",
              "</li>\n",
              "<li class=\"cat-item cat-item-399\" data-cat_level=\"0\"><a class=\"round\" href=\"https://coslovemetics.mk/product-category/tip-na-koza/\">Тип на кожа</a>\n",
              "<ul class=\"yith-children\">\n",
              "<li class=\"cat-item cat-item-401\" data-cat_level=\"1\"><a class=\"round\" href=\"https://coslovemetics.mk/product-category/tip-na-koza/%d0%ba%d0%be%d0%bc%d0%b1%d0%b8%d0%bd%d0%b8%d1%80%d0%b0%d0%bd%d0%b0/\">КОМБИНИРАНА</a>\n",
              "</li>\n",
              "<li class=\"cat-item cat-item-402\" data-cat_level=\"1\"><a class=\"round\" href=\"https://coslovemetics.mk/product-category/tip-na-koza/%d1%81%d1%83%d0%b2%d0%b0/\">СУВА</a>\n",
              "</li>\n",
              "<li class=\"cat-item cat-item-403\" data-cat_level=\"1\"><a class=\"round\" href=\"https://coslovemetics.mk/product-category/tip-na-koza/%d0%bd%d0%be%d1%80%d0%bc%d0%b0%d0%bb%d0%bd%d0%b0/\">НОРМАЛНА</a>\n",
              "</li>\n",
              "<li class=\"cat-item cat-item-404\" data-cat_level=\"1\"><a class=\"round\" href=\"https://coslovemetics.mk/product-category/tip-na-koza/%d0%bc%d1%80%d1%81%d0%bd%d0%b0/\">МРСНА</a>\n",
              "</li>\n",
              "<li class=\"cat-item cat-item-524\" data-cat_level=\"1\"><a class=\"round\" href=\"https://coslovemetics.mk/product-category/tip-na-koza/%d1%87%d1%83%d0%b2%d1%81%d1%82%d0%b2%d0%b8%d1%82%d0%b5%d0%bb%d0%bd%d0%b0/\">ЧУВСТВИТЕЛНА</a>\n",
              "</li>\n",
              "</ul>\n",
              "</li>\n",
              "<li class=\"cat-item cat-item-400\" data-cat_level=\"0\"><a class=\"round\" href=\"https://coslovemetics.mk/product-category/nega/\">Нега за кожа и коса</a>\n",
              "<ul class=\"yith-children\">\n",
              "<li class=\"cat-item cat-item-405\" data-cat_level=\"1\"><a class=\"round\" href=\"https://coslovemetics.mk/product-category/nega/category-1-nega/\">ЧИСТАЧИ</a>\n",
              "</li>\n",
              "<li class=\"cat-item cat-item-406\" data-cat_level=\"1\"><a class=\"round\" href=\"https://coslovemetics.mk/product-category/nega/category-2-nega/\">КРЕМИ</a>\n",
              "</li>\n",
              "<li class=\"cat-item cat-item-407\" data-cat_level=\"1\"><a class=\"round\" href=\"https://coslovemetics.mk/product-category/nega/category-3-nega/\">ТОНЕРИ</a>\n",
              "</li>\n",
              "<li class=\"cat-item cat-item-408\" data-cat_level=\"1\"><a class=\"round\" href=\"https://coslovemetics.mk/product-category/nega/category-4-nega/\">ЕСЕНЦИИ</a>\n",
              "</li>\n",
              "<li class=\"cat-item cat-item-526\" data-cat_level=\"1\"><a class=\"round\" href=\"https://coslovemetics.mk/product-category/nega/%d1%81%d0%b5%d1%80%d1%83%d0%bc%d0%b8%d0%bc%d0%b0%d1%81%d0%bb%d0%b0%d0%b0%d0%bc%d0%bf%d1%83%d0%bb%d0%b8/\">СЕРУМИ / МАСЛА / АМПУЛИ</a>\n",
              "</li>\n",
              "<li class=\"cat-item cat-item-527\" data-cat_level=\"1\"><a class=\"round\" href=\"https://coslovemetics.mk/product-category/nega/%d1%81%d0%bf%d1%84%d0%ba%d1%80%d0%b5%d0%bc%d0%b8/\">СПФ КРЕМИ</a>\n",
              "</li>\n",
              "<li class=\"cat-item cat-item-528\" data-cat_level=\"1\"><a class=\"round\" href=\"https://coslovemetics.mk/product-category/nega/%d0%bc%d0%b0%d1%81%d0%ba%d0%b8-nega/\">МАСКИ</a>\n",
              "</li>\n",
              "<li class=\"cat-item cat-item-529\" data-cat_level=\"1\"><a class=\"round\" href=\"https://coslovemetics.mk/product-category/nega/%d0%ba%d1%80%d0%b5%d0%bc%d0%b8%d0%b7%d0%b0%d0%be%d1%87%d0%b8/\">КРЕМИ ЗА ОЧИ</a>\n",
              "</li>\n",
              "<li class=\"cat-item cat-item-530\" data-cat_level=\"1\"><a class=\"round\" href=\"https://coslovemetics.mk/product-category/nega/%d0%b5%d0%ba%d1%81%d1%84%d0%be%d0%bb%d0%b8%d1%98%d0%b0%d0%bd%d1%82%d0%b8/\">ЕКСФОЛИЈАНТИ</a>\n",
              "</li>\n",
              "<li class=\"cat-item cat-item-531\" data-cat_level=\"1\"><a class=\"round\" href=\"https://coslovemetics.mk/product-category/nega/%d1%81%d0%bf%d0%be%d1%82-%d1%82%d1%80%d0%b5%d1%82%d0%bc%d0%b0%d0%bd%d0%b8/\">СПОТ ТРЕТМАНИ</a>\n",
              "</li>\n",
              "<li class=\"cat-item cat-item-532\" data-cat_level=\"1\"><a class=\"round\" href=\"https://coslovemetics.mk/product-category/nega/%d1%81%d0%b5%d1%82%d0%be%d0%b2%d0%b8-nega/\">СЕТОВИ</a>\n",
              "</li>\n",
              "<li class=\"cat-item cat-item-533\" data-cat_level=\"1\"><a class=\"round\" href=\"https://coslovemetics.mk/product-category/nega/%d1%83%d1%81%d0%bd%d0%b8%d1%80%d0%b0%d1%86%d0%b5/\">УСНИ / РАЦЕ</a>\n",
              "</li>\n",
              "<li class=\"cat-item cat-item-534\" data-cat_level=\"1\"><a class=\"round\" href=\"https://coslovemetics.mk/product-category/nega/%d0%bd%d0%b5%d0%b3%d0%b0%d0%b7%d0%b0%d1%82%d0%b5%d0%bb%d0%be/\">НЕГА ЗА ТЕЛО</a>\n",
              "</li>\n",
              "<li class=\"cat-item cat-item-535\" data-cat_level=\"1\"><a class=\"round\" href=\"https://coslovemetics.mk/product-category/nega/%d0%bd%d0%b5%d0%b3%d0%b0%d0%b7%d0%b0%d0%ba%d0%be%d1%81%d0%b0/\">НЕГА ЗА КОСА</a>\n",
              "</li>\n",
              "<li class=\"cat-item cat-item-536\" data-cat_level=\"1\"><a class=\"round\" href=\"https://coslovemetics.mk/product-category/nega/%d0%bd%d0%b5%d0%b3%d0%b0%d0%b7%d0%b0%d0%b4%d0%b5%d1%86%d0%b0/\">НЕГА ЗА ДЕЦА</a>\n",
              "</li>\n",
              "<li class=\"cat-item cat-item-537\" data-cat_level=\"1\"><a class=\"round\" href=\"https://coslovemetics.mk/product-category/nega/%d0%b0%d0%ba%d1%81%d0%b5%d1%81%d0%be%d0%b0%d1%80%d0%b8/\">АКСЕСОАРИ</a>\n",
              "</li>\n",
              "<li class=\"cat-item cat-item-538\" data-cat_level=\"1\"><a class=\"round\" href=\"https://coslovemetics.mk/product-category/nega/%d0%b1%d0%b1%d0%ba%d1%80%d0%b5%d0%bc%d0%b8/\">ББ КРЕМИ</a>\n",
              "</li>\n",
              "</ul>\n",
              "</li>\n",
              "<li class=\"cat-item cat-item-519\" data-cat_level=\"0\"><a class=\"round\" href=\"https://coslovemetics.mk/product-category/brands/\">Брендови</a>\n",
              "<ul class=\"yith-children\">\n",
              "<li class=\"cat-item cat-item-451\" data-cat_level=\"1\"><a class=\"round\" href=\"https://coslovemetics.mk/product-category/brands/purito/\">Purito</a>\n",
              "</li>\n",
              "<li class=\"cat-item cat-item-470\" data-cat_level=\"1\"><a class=\"round\" href=\"https://coslovemetics.mk/product-category/brands/attitude-living/\">Attitude Living</a>\n",
              "</li>\n",
              "<li class=\"cat-item cat-item-499\" data-cat_level=\"1\"><a class=\"round\" href=\"https://coslovemetics.mk/product-category/brands/some-by-mi/\">Some by mi</a>\n",
              "</li>\n",
              "<li class=\"cat-item cat-item-508\" data-cat_level=\"1\"><a class=\"round\" href=\"https://coslovemetics.mk/product-category/brands/pyunkang-yul/\">Pyunkang Yul</a>\n",
              "</li>\n",
              "<li class=\"cat-item cat-item-511\" data-cat_level=\"1\"><a class=\"round\" href=\"https://coslovemetics.mk/product-category/brands/geekgorgeous/\">Geek&amp;Gorgeous</a>\n",
              "</li>\n",
              "<li class=\"cat-item cat-item-515\" data-cat_level=\"1\"><a class=\"round\" href=\"https://coslovemetics.mk/product-category/brands/iunik/\">iUNIK</a>\n",
              "</li>\n",
              "<li class=\"cat-item cat-item-516\" data-cat_level=\"1\"><a class=\"round\" href=\"https://coslovemetics.mk/product-category/brands/benton/\">Benton</a>\n",
              "</li>\n",
              "<li class=\"cat-item cat-item-517\" data-cat_level=\"1\"><a class=\"round\" href=\"https://coslovemetics.mk/product-category/brands/cosrx/\">COSRX</a>\n",
              "</li>\n",
              "<li class=\"cat-item cat-item-518\" data-cat_level=\"1\"><a class=\"round\" href=\"https://coslovemetics.mk/product-category/brands/dr-jart/\">Dr.Jart+</a>\n",
              "</li>\n",
              "<li class=\"cat-item cat-item-520\" data-cat_level=\"1\"><a class=\"round\" href=\"https://coslovemetics.mk/product-category/brands/laneige/\">Laneige</a>\n",
              "</li>\n",
              "<li class=\"cat-item cat-item-521\" data-cat_level=\"1\"><a class=\"round\" href=\"https://coslovemetics.mk/product-category/brands/missha/\">MISSHA</a>\n",
              "</li>\n",
              "<li class=\"cat-item cat-item-522\" data-cat_level=\"1\"><a class=\"round\" href=\"https://coslovemetics.mk/product-category/brands/innisfree/\">innisfree</a>\n",
              "</li>\n",
              "<li class=\"cat-item cat-item-523\" data-cat_level=\"1\"><a class=\"round\" href=\"https://coslovemetics.mk/product-category/brands/banila-co/\">Banila Co</a>\n",
              "</li>\n",
              "<li class=\"cat-item cat-item-539\" data-cat_level=\"1\"><a class=\"round\" href=\"https://coslovemetics.mk/product-category/brands/coslovemeticscategory/\">cosLOVEmetics</a>\n",
              "</li>\n",
              "<li class=\"cat-item cat-item-540\" data-cat_level=\"1\"><a class=\"round\" href=\"https://coslovemetics.mk/product-category/brands/cp-1/\">CP-1</a>\n",
              "</li>\n",
              "<li class=\"cat-item cat-item-543\" data-cat_level=\"1\"><a class=\"round\" href=\"https://coslovemetics.mk/product-category/brands/tiam/\">TIAM</a>\n",
              "</li>\n",
              "<li class=\"cat-item cat-item-544\" data-cat_level=\"1\"><a class=\"round\" href=\"https://coslovemetics.mk/product-category/brands/heimish/\">HEIMISH</a>\n",
              "</li>\n",
              "<li class=\"cat-item cat-item-545\" data-cat_level=\"1\"><a class=\"round\" href=\"https://coslovemetics.mk/product-category/brands/etudehouse/\">Etude House</a>\n",
              "</li>\n",
              "<li class=\"cat-item cat-item-546\" data-cat_level=\"1\"><a class=\"round\" href=\"https://coslovemetics.mk/product-category/brands/tonymoly/\">Tonymoly</a>\n",
              "</li>\n",
              "<li class=\"cat-item cat-item-547\" data-cat_level=\"1\"><a class=\"round\" href=\"https://coslovemetics.mk/product-category/brands/frudia/\">Frudia</a>\n",
              "</li>\n",
              "<li class=\"cat-item cat-item-548\" data-cat_level=\"1\"><a class=\"round\" href=\"https://coslovemetics.mk/product-category/brands/naturerepublic/\">Nature Republic</a>\n",
              "</li>\n",
              "<li class=\"cat-item cat-item-550\" data-cat_level=\"1\"><a class=\"round\" href=\"https://coslovemetics.mk/product-category/brands/haruharu/\">HaruHaru</a>\n",
              "</li>\n",
              "<li class=\"cat-item cat-item-551\" data-cat_level=\"1\"><a class=\"round\" href=\"https://coslovemetics.mk/product-category/brands/isntree/\">isntree</a>\n",
              "</li>\n",
              "<li class=\"cat-item cat-item-552\" data-cat_level=\"1\"><a class=\"round\" href=\"https://coslovemetics.mk/product-category/brands/altruist/\">Altruist</a>\n",
              "</li>\n",
              "<li class=\"cat-item cat-item-553\" data-cat_level=\"1\"><a class=\"round\" href=\"https://coslovemetics.mk/product-category/brands/neogen/\">Neogen</a>\n",
              "</li>\n",
              "<li class=\"cat-item cat-item-554\" data-cat_level=\"1\"><a class=\"round\" href=\"https://coslovemetics.mk/product-category/brands/surmedic/\">Sur.Medic+</a>\n",
              "</li>\n",
              "<li class=\"cat-item cat-item-561\" data-cat_level=\"1\"><a class=\"round\" href=\"https://coslovemetics.mk/product-category/brands/romnd/\">Rom&amp;ND</a>\n",
              "</li>\n",
              "<li class=\"cat-item cat-item-562\" data-cat_level=\"1\"><a class=\"round\" href=\"https://coslovemetics.mk/product-category/brands/double-dare/\">Double Dare</a>\n",
              "</li>\n",
              "<li class=\"cat-item cat-item-567\" data-cat_level=\"1\"><a class=\"round\" href=\"https://coslovemetics.mk/product-category/brands/axis-y/\">AXIS-Y</a>\n",
              "</li>\n",
              "<li class=\"cat-item cat-item-569\" data-cat_level=\"1\"><a class=\"round\" href=\"https://coslovemetics.mk/product-category/brands/beauty-of-joseon/\">Beauty of Joseon</a>\n",
              "</li>\n",
              "<li class=\"cat-item cat-item-570\" data-cat_level=\"1\"><a class=\"round\" href=\"https://coslovemetics.mk/product-category/brands/skinfood/\">SKINFOOD</a>\n",
              "</li>\n",
              "<li class=\"cat-item cat-item-571\" data-cat_level=\"1\"><a class=\"round\" href=\"https://coslovemetics.mk/product-category/brands/face-shop/\">FACE SHOP</a>\n",
              "</li>\n",
              "<li class=\"cat-item cat-item-572\" data-cat_level=\"1\"><a class=\"round\" href=\"https://coslovemetics.mk/product-category/brands/snp/\">SNP</a>\n",
              "</li>\n",
              "<li class=\"cat-item cat-item-588\" data-cat_level=\"1\"><a class=\"round\" href=\"https://coslovemetics.mk/product-category/brands/ahc/\">AHC</a>\n",
              "</li>\n",
              "<li class=\"cat-item cat-item-589\" data-cat_level=\"1\"><a class=\"round\" href=\"https://coslovemetics.mk/product-category/brands/mary-n-may/\">Mary n May</a>\n",
              "</li>\n",
              "<li class=\"cat-item cat-item-590\" data-cat_level=\"1\"><a class=\"round\" href=\"https://coslovemetics.mk/product-category/brands/momi/\">MoMi</a>\n",
              "</li>\n",
              "<li class=\"cat-item cat-item-591\" data-cat_level=\"1\"><a class=\"round\" href=\"https://coslovemetics.mk/product-category/brands/qkids/\">QKIDS</a>\n",
              "</li>\n",
              "<li class=\"cat-item cat-item-592\" data-cat_level=\"1\"><a class=\"round\" href=\"https://coslovemetics.mk/product-category/brands/enough/\">Enough</a>\n",
              "</li>\n",
              "<li class=\"cat-item cat-item-593\" data-cat_level=\"1\"><a class=\"round\" href=\"https://coslovemetics.mk/product-category/brands/apieu/\">APIEU</a>\n",
              "</li>\n",
              "<li class=\"cat-item cat-item-594\" data-cat_level=\"1\"><a class=\"round\" href=\"https://coslovemetics.mk/product-category/brands/tocobo/\">TOCOBO</a>\n",
              "</li>\n",
              "<li class=\"cat-item cat-item-595\" data-cat_level=\"1\"><a class=\"round\" href=\"https://coslovemetics.mk/product-category/brands/suntique/\">Suntique</a>\n",
              "</li>\n",
              "<li class=\"cat-item cat-item-596\" data-cat_level=\"1\"><a class=\"round\" href=\"https://coslovemetics.mk/product-category/brands/farmstay/\">FARM STAY</a>\n",
              "</li>\n",
              "</ul>\n",
              "</li>\n",
              "<li class=\"cat-item cat-item-549 current-cat\" data-cat_level=\"0\"><a class=\"round\" href=\"https://coslovemetics.mk/product-category/summersale/\">SALE! SALE!</a>\n",
              "</li>\n",
              "<li class=\"cat-item cat-item-555\" data-cat_level=\"0\"><a class=\"round\" href=\"https://coslovemetics.mk/product-category/dekorativnakozmetika/\">Декоративна Козметика</a>\n",
              "<ul class=\"yith-children\">\n",
              "<li class=\"cat-item cat-item-563\" data-cat_level=\"1\"><a class=\"round\" href=\"https://coslovemetics.mk/product-category/dekorativnakozmetika/karmini/\">КАРМИНИ</a>\n",
              "</li>\n",
              "<li class=\"cat-item cat-item-566\" data-cat_level=\"1\"><a class=\"round\" href=\"https://coslovemetics.mk/product-category/dekorativnakozmetika/maskari/\">МАСКАРИ</a>\n",
              "</li>\n",
              "</ul>\n",
              "</li>\n",
              "<li class=\"cat-item cat-item-556\" data-cat_level=\"0\"><a class=\"round\" href=\"https://coslovemetics.mk/product-category/watertint/\">Water Tint за усни</a>\n",
              "</li>\n",
              "<li class=\"cat-item cat-item-557\" data-cat_level=\"0\"><a class=\"round\" href=\"https://coslovemetics.mk/product-category/senkizaoci/\">Сенки за очи</a>\n",
              "</li>\n",
              "<li class=\"cat-item cat-item-558\" data-cat_level=\"0\"><a class=\"round\" href=\"https://coslovemetics.mk/product-category/highlighters/\">Хајлајтери</a>\n",
              "</li>\n",
              "<li class=\"cat-item cat-item-559\" data-cat_level=\"0\"><a class=\"round\" href=\"https://coslovemetics.mk/product-category/molivi/\">Моливи за веѓи</a>\n",
              "</li>\n",
              "<li class=\"cat-item cat-item-560\" data-cat_level=\"0\"><a class=\"round\" href=\"https://coslovemetics.mk/product-category/eyeliners/\">Ајлајнери</a>\n",
              "</li>\n",
              "</ul></div></aside><aside class=\"widget woocommerce widget_price_filter\" id=\"woocommerce_price_filter-3\"><h3 class=\"widget-title\">Филтер по цена</h3>\n",
              "<form action=\"https://coslovemetics.mk/product-category/summersale/\" method=\"get\">\n",
              "<div class=\"price_slider_wrapper\">\n",
              "<div class=\"price_slider\" style=\"display:none;\"></div>\n",
              "<div class=\"price_slider_amount\" data-step=\"10\">\n",
              "<input data-min=\"200\" id=\"min_price\" name=\"min_price\" placeholder=\"Мин. цена\" type=\"text\" value=\"200\"/>\n",
              "<input data-max=\"1700\" id=\"max_price\" name=\"max_price\" placeholder=\"Максимална цена\" type=\"text\" value=\"1700\"/>\n",
              "<button class=\"button\" type=\"submit\">Филтрирај</button>\n",
              "<div class=\"price_label\" style=\"display:none;\">\n",
              "\t\t\t\tЦена: <span class=\"from\"></span> — <span class=\"to\"></span>\n",
              "</div>\n",
              "<div class=\"clear\"></div>\n",
              "</div>\n",
              "</div>\n",
              "</form>\n",
              "</aside><aside class=\"widget yith-woocommerce-ajax-product-filter yith-woo-ajax-reset-navigation yith-woo-ajax-navigation woocommerce widget_layered_nav\" id=\"yith-woo-ajax-reset-navigation-3\" style=\"display:none\"></aside>\n",
              "</div>\n",
              "<div class=\"col-md-12 col-12 col-xl-9 my-3 mx-auto\">\n",
              "<div class=\"woocommerce-notices-wrapper\"></div><p class=\"woocommerce-result-count\">\n",
              "\tПрикажувам 1–12 од 32 резултати</p>\n",
              "<form class=\"woocommerce-ordering\" method=\"get\">\n",
              "<select aria-label=\"Нарачка\" class=\"orderby\" name=\"orderby\">\n",
              "<option selected=\"selected\" value=\"menu_order\">Стандардно подредување</option>\n",
              "<option value=\"price\">Подреди по цена: ниска кон висока</option>\n",
              "<option value=\"price-desc\">Подреди по цена: висока кон ниска</option>\n",
              "</select>\n",
              "<input name=\"paged\" type=\"hidden\" value=\"1\"/>\n",
              "</form>\n",
              "<ul class=\"products columns-3\">\n",
              "<div class=\"col-md-4 mb-4\">\n",
              "<div class=\"product type-product post-23514 status-publish first instock product_cat-summersale has-post-thumbnail sale shipping-taxable purchasable product-type-simple\">\n",
              "<div class=\"content-single-product-wrapper border p-2\">\n",
              "<a class=\"woocommerce-LoopProduct-link woocommerce-loop-product__link\" href=\"https://coslovemetics.mk/product/bebe-confort-well-beeing-oragnic-oil-for-baby-set/\">\n",
              "<span class=\"onsale\">28% попуст </span>\n",
              "<img alt=\"\" class=\"attachment-woocommerce_thumbnail size-woocommerce_thumbnail\" height=\"300\" loading=\"lazy\" src=\"https://coslovemetics.mk/wp-content/uploads/71omg4DPZzL._AC_SL1500_.jpg\" width=\"290\"/><h2 class=\"woocommerce-loop-product__title\">Bebe Confort Well Beeing Oragnic oil for baby set</h2>\n",
              "<span class=\"price\"><del><span class=\"woocommerce-Price-amount amount\">2.090<span class=\"woocommerce-Price-currencySymbol\">ден</span></span></del> <ins><span class=\"woocommerce-Price-amount amount\">1.512<span class=\"woocommerce-Price-currencySymbol\">ден</span></span></ins></span>\n",
              "</a><a aria-label=\"Додади “Bebe Confort Well Beeing Oragnic oil for baby set” во твојата кошничка\" class=\"button product_type_simple add_to_cart_button ajax_add_to_cart\" data-product_id=\"23514\" data-product_sku=\"Д-3107203300\" data-quantity=\"0\" href=\"?add-to-cart=23514\" rel=\"nofollow\" title=\"Minimum qty is 0\">Додади во кошничка</a> </div>\n",
              "</div>\n",
              "</div>\n",
              "<div class=\"col-md-4 mb-4\">\n",
              "<div class=\"product type-product post-20704 status-publish instock product_cat-benton product_cat-summersale product_cat-530 product_cat-401 product_cat-404 product_cat-403 product_cat-category-3-nega has-post-thumbnail sale shipping-taxable purchasable product-type-simple\">\n",
              "<div class=\"content-single-product-wrapper border p-2\">\n",
              "<a class=\"woocommerce-LoopProduct-link woocommerce-loop-product__link\" href=\"https://coslovemetics.mk/product/benton-aloe-bha-skin-toner-200ml/\">\n",
              "<span class=\"onsale\">30% попуст </span>\n",
              "<img alt=\"\" class=\"attachment-woocommerce_thumbnail size-woocommerce_thumbnail\" height=\"300\" loading=\"lazy\" src=\"https://coslovemetics.mk/wp-content/uploads/benton-aloe-bha-skin-toner.jpg\" width=\"240\"/><h2 class=\"woocommerce-loop-product__title\">Benton Aloe BHA Skin Toner 200ml</h2>\n",
              "<span class=\"price\"><del><span class=\"woocommerce-Price-amount amount\">1.354<span class=\"woocommerce-Price-currencySymbol\">ден</span></span></del> <ins><span class=\"woocommerce-Price-amount amount\">948<span class=\"woocommerce-Price-currencySymbol\">ден</span></span></ins></span>\n",
              "</a><a aria-label=\"Додади “Benton Aloe BHA Skin Toner 200ml” во твојата кошничка\" class=\"button product_type_simple add_to_cart_button ajax_add_to_cart\" data-product_id=\"20704\" data-product_sku=\"8809540510237\" data-quantity=\"0\" href=\"?add-to-cart=20704\" rel=\"nofollow\" title=\"Minimum qty is 0\">Додади во кошничка</a> </div>\n",
              "</div>\n",
              "</div>\n",
              "<div class=\"col-md-4 mb-4\">\n",
              "<div class=\"product type-product post-20705 status-publish last instock product_cat-benton product_cat-summersale product_cat-401 product_cat-category-2-nega product_cat-404 product_cat-403 product_cat-402 product_cat-524 has-post-thumbnail sale shipping-taxable purchasable product-type-simple\">\n",
              "<div class=\"content-single-product-wrapper border p-2\">\n",
              "<a class=\"woocommerce-LoopProduct-link woocommerce-loop-product__link\" href=\"https://coslovemetics.mk/product/benton-aloe-hyaluron-cream-50gr/\">\n",
              "<span class=\"onsale\">30% попуст </span>\n",
              "<img alt=\"\" class=\"attachment-woocommerce_thumbnail size-woocommerce_thumbnail\" height=\"300\" loading=\"lazy\" src=\"https://coslovemetics.mk/wp-content/uploads/benton-aloe-hyaluron-cream3-1.jpg\" width=\"240\"/><h2 class=\"woocommerce-loop-product__title\">BENTON Aloe Hyaluron Cream 50gr</h2>\n",
              "<span class=\"price\"><del><span class=\"woocommerce-Price-amount amount\">1.354<span class=\"woocommerce-Price-currencySymbol\">ден</span></span></del> <ins><span class=\"woocommerce-Price-amount amount\">948<span class=\"woocommerce-Price-currencySymbol\">ден</span></span></ins></span>\n",
              "</a><a aria-label=\"Додади “BENTON Aloe Hyaluron Cream 50gr” во твојата кошничка\" class=\"button product_type_simple add_to_cart_button ajax_add_to_cart\" data-product_id=\"20705\" data-product_sku=\"8809566990464\" data-quantity=\"0\" href=\"?add-to-cart=20705\" rel=\"nofollow\" title=\"Minimum qty is 0\">Додади во кошничка</a> </div>\n",
              "</div>\n",
              "</div>\n",
              "<div class=\"col-md-4 mb-4\">\n",
              "<div class=\"product type-product post-20717 status-publish first instock product_cat-benton product_cat-summersale product_cat-401 product_cat-404 product_cat-526 product_cat-524 has-post-thumbnail sale shipping-taxable purchasable product-type-simple\">\n",
              "<div class=\"content-single-product-wrapper border p-2\">\n",
              "<a class=\"woocommerce-LoopProduct-link woocommerce-loop-product__link\" href=\"https://coslovemetics.mk/product/benton-deep-green-tea-serum-30ml/\">\n",
              "<span class=\"onsale\">29% попуст </span>\n",
              "<img alt=\"\" class=\"attachment-woocommerce_thumbnail size-woocommerce_thumbnail\" height=\"300\" loading=\"lazy\" src=\"https://coslovemetics.mk/wp-content/uploads/benton-deep-green-tea-serum.jpg\" width=\"300\"/><h2 class=\"woocommerce-loop-product__title\">BENTON Deep Green Tea Serum 30ml</h2>\n",
              "<span class=\"price\"><del><span class=\"woocommerce-Price-amount amount\">1.320<span class=\"woocommerce-Price-currencySymbol\">ден</span></span></del> <ins><span class=\"woocommerce-Price-amount amount\">937<span class=\"woocommerce-Price-currencySymbol\">ден</span></span></ins></span>\n",
              "</a><a aria-label=\"Додади “BENTON Deep Green Tea Serum 30ml” во твојата кошничка\" class=\"button product_type_simple add_to_cart_button ajax_add_to_cart\" data-product_id=\"20717\" data-product_sku=\"8809566990822\" data-quantity=\"0\" href=\"?add-to-cart=20717\" rel=\"nofollow\" title=\"Minimum qty is 0\">Додади во кошничка</a> </div>\n",
              "</div>\n",
              "</div>\n",
              "<div class=\"col-md-4 mb-4\">\n",
              "<div class=\"product type-product post-20700 status-publish instock product_cat-benton product_cat-summersale has-post-thumbnail sale shipping-taxable purchasable product-type-simple\">\n",
              "<div class=\"content-single-product-wrapper border p-2\">\n",
              "<a class=\"woocommerce-LoopProduct-link woocommerce-loop-product__link\" href=\"https://coslovemetics.mk/product/benton-snail-bee-ultimate-eye-cream-30gr/\">\n",
              "<span class=\"onsale\">37% попуст </span>\n",
              "<img alt=\"\" class=\"attachment-woocommerce_thumbnail size-woocommerce_thumbnail\" height=\"300\" loading=\"lazy\" src=\"https://coslovemetics.mk/wp-content/uploads/benton-snail-bee-ultimate-eye-cream-30g-697.jpg\" width=\"300\"/><h2 class=\"woocommerce-loop-product__title\">Benton Snail Bee Ultimate Eye Cream 30gr.</h2>\n",
              "<span class=\"price\"><del><span class=\"woocommerce-Price-amount amount\">2.031<span class=\"woocommerce-Price-currencySymbol\">ден</span></span></del> <ins><span class=\"woocommerce-Price-amount amount\">1.280<span class=\"woocommerce-Price-currencySymbol\">ден</span></span></ins></span>\n",
              "</a><a aria-label=\"Додади “Benton Snail Bee Ultimate Eye Cream 30gr.” во твојата кошничка\" class=\"button product_type_simple add_to_cart_button ajax_add_to_cart\" data-product_id=\"20700\" data-product_sku=\"8809566990938\" data-quantity=\"0\" href=\"?add-to-cart=20700\" rel=\"nofollow\" title=\"Minimum qty is 0\">Додади во кошничка</a> </div>\n",
              "</div>\n",
              "</div>\n",
              "<div class=\"col-md-4 mb-4\">\n",
              "<div class=\"product type-product post-20709 status-publish last instock product_cat-benton product_cat-summersale product_cat-401 product_cat-404 product_cat-403 product_cat-402 product_cat-category-3-nega product_cat-524 has-post-thumbnail sale shipping-taxable purchasable product-type-simple\">\n",
              "<div class=\"content-single-product-wrapper border p-2\">\n",
              "<a class=\"woocommerce-LoopProduct-link woocommerce-loop-product__link\" href=\"https://coslovemetics.mk/product/benton-tea-tree-mist-80ml/\">\n",
              "<span class=\"onsale\">50% попуст </span>\n",
              "<img alt=\"\" class=\"attachment-woocommerce_thumbnail size-woocommerce_thumbnail\" height=\"300\" loading=\"lazy\" src=\"https://coslovemetics.mk/wp-content/uploads/bentonteatreemist.jpg\" width=\"300\"/><h2 class=\"woocommerce-loop-product__title\">BENTON Tea tree Mist 80ml</h2>\n",
              "<span class=\"price\"><del><span class=\"woocommerce-Price-amount amount\">1.538<span class=\"woocommerce-Price-currencySymbol\">ден</span></span></del> <ins><span class=\"woocommerce-Price-amount amount\">769<span class=\"woocommerce-Price-currencySymbol\">ден</span></span></ins></span>\n",
              "</a><a aria-label=\"Додади “BENTON Tea tree Mist 80ml” во твојата кошничка\" class=\"button product_type_simple add_to_cart_button ajax_add_to_cart\" data-product_id=\"20709\" data-product_sku=\"8809566990044\" data-quantity=\"0\" href=\"?add-to-cart=20709\" rel=\"nofollow\" title=\"Minimum qty is 0\">Додади во кошничка</a> </div>\n",
              "</div>\n",
              "</div>\n",
              "<div class=\"col-md-4 mb-4\">\n",
              "<div class=\"product type-product post-27690 status-publish first instock product_cat-cosrx product_cat-summersale product_cat-402 product_cat-category-3-nega product_cat-524 has-post-thumbnail sale shipping-taxable purchasable product-type-simple\">\n",
              "<div class=\"content-single-product-wrapper border p-2\">\n",
              "<a class=\"woocommerce-LoopProduct-link woocommerce-loop-product__link\" href=\"https://coslovemetics.mk/product/cosrx-balancium-comfort-ceramide-cream-mist-120ml/\">\n",
              "<span class=\"onsale\">27% попуст </span>\n",
              "<img alt=\"\" class=\"attachment-woocommerce_thumbnail size-woocommerce_thumbnail\" height=\"300\" loading=\"lazy\" src=\"https://coslovemetics.mk/wp-content/uploads/COSRX-Balancium-Comfort-Ceramide-Cream-Mist-120ml.jpeg\" width=\"300\"/><h2 class=\"woocommerce-loop-product__title\">COSRX Balancium Comfort Ceramide Cream Mist 120ml</h2>\n",
              "<span class=\"price\"><del><span class=\"woocommerce-Price-amount amount\">1.590<span class=\"woocommerce-Price-currencySymbol\">ден</span></span></del> <ins><span class=\"woocommerce-Price-amount amount\">1.161<span class=\"woocommerce-Price-currencySymbol\">ден</span></span></ins></span>\n",
              "</a><a aria-label=\"Додади “COSRX Balancium Comfort Ceramide Cream Mist 120ml” во твојата кошничка\" class=\"button product_type_simple add_to_cart_button ajax_add_to_cart\" data-product_id=\"27690\" data-product_sku=\"8809598453081\" data-quantity=\"0\" href=\"?add-to-cart=27690\" rel=\"nofollow\" title=\"Minimum qty is 0\">Додади во кошничка</a> </div>\n",
              "</div>\n",
              "</div>\n",
              "<div class=\"col-md-4 mb-4\">\n",
              "<div class=\"product type-product post-20820 status-publish instock product_cat-cosrx product_cat-summersale product_cat-401 product_cat-404 product_cat-403 product_cat-526 product_cat-402 product_cat-524 has-post-thumbnail sale shipping-taxable purchasable product-type-simple\">\n",
              "<div class=\"content-single-product-wrapper border p-2\">\n",
              "<a class=\"woocommerce-LoopProduct-link woocommerce-loop-product__link\" href=\"https://coslovemetics.mk/product/cosrx-hydrium-centella-aqua-soothing-ampoule-40ml/\">\n",
              "<span class=\"onsale\">30% попуст </span>\n",
              "<img alt=\"\" class=\"attachment-woocommerce_thumbnail size-woocommerce_thumbnail\" height=\"300\" loading=\"lazy\" src=\"https://coslovemetics.mk/wp-content/uploads/COSRX-Hydrium-Centella-Aqua-Soothing-Ampoule-40ml.jpg\" width=\"300\"/><h2 class=\"woocommerce-loop-product__title\">COSRX Hydrium Centella Aqua Soothing Ampoule 40ml</h2>\n",
              "<span class=\"price\"><del><span class=\"woocommerce-Price-amount amount\">1.590<span class=\"woocommerce-Price-currencySymbol\">ден</span></span></del> <ins><span class=\"woocommerce-Price-amount amount\">1.113<span class=\"woocommerce-Price-currencySymbol\">ден</span></span></ins></span>\n",
              "</a><a aria-label=\"Додади “COSRX Hydrium Centella Aqua Soothing Ampoule 40ml” во твојата кошничка\" class=\"button product_type_simple add_to_cart_button ajax_add_to_cart\" data-product_id=\"20820\" data-product_sku=\"8809598450660\" data-quantity=\"0\" href=\"?add-to-cart=20820\" rel=\"nofollow\" title=\"Minimum qty is 0\">Додади во кошничка</a> </div>\n",
              "</div>\n",
              "</div>\n",
              "<div class=\"col-md-4 mb-4\">\n",
              "<div class=\"product type-product post-35559 status-publish last instock product_cat-cosrx product_cat-summersale product_cat-category-3-nega has-post-thumbnail sale shipping-taxable purchasable product-type-simple\">\n",
              "<div class=\"content-single-product-wrapper border p-2\">\n",
              "<a class=\"woocommerce-LoopProduct-link woocommerce-loop-product__link\" href=\"https://coslovemetics.mk/product/cosrx-oil-free-ultra-moisturizing-lotion-100ml/\">\n",
              "<span class=\"onsale\">30% попуст </span>\n",
              "<img alt=\"\" class=\"attachment-woocommerce_thumbnail size-woocommerce_thumbnail\" height=\"296\" loading=\"lazy\" src=\"https://coslovemetics.mk/wp-content/uploads/COSRX-Oil-Free-Ultra-Moisturizing-Lotion-with-Birch-Sap-100-ml.jpg\" width=\"300\"/><h2 class=\"woocommerce-loop-product__title\">COSRX Oil-Free Ultra-Moisturizing Lotion 100ml</h2>\n",
              "<span class=\"price\"><del><span class=\"woocommerce-Price-amount amount\">1.490<span class=\"woocommerce-Price-currencySymbol\">ден</span></span></del> <ins><span class=\"woocommerce-Price-amount amount\">1.043<span class=\"woocommerce-Price-currencySymbol\">ден</span></span></ins></span>\n",
              "</a><a aria-label=\"Додади “COSRX Oil-Free Ultra-Moisturizing Lotion 100ml” во твојата кошничка\" class=\"button product_type_simple add_to_cart_button ajax_add_to_cart\" data-product_id=\"35559\" data-product_sku=\"8809416470559\" data-quantity=\"0\" href=\"?add-to-cart=35559\" rel=\"nofollow\" title=\"Minimum qty is 0\">Додади во кошничка</a> </div>\n",
              "</div>\n",
              "</div>\n",
              "<div class=\"col-md-4 mb-4\">\n",
              "<div class=\"product type-product post-26312 status-publish first outofstock product_cat-dr-jart product_cat-summersale product_cat-401 product_cat-category-2-nega product_cat-404 product_cat-403 product_cat-402 product_cat-524 has-post-thumbnail sale shipping-taxable purchasable product-type-simple\">\n",
              "<div class=\"content-single-product-wrapper border p-2\">\n",
              "<a class=\"woocommerce-LoopProduct-link woocommerce-loop-product__link\" href=\"https://coslovemetics.mk/product/dr-jart-ctrl-a-teatreement-moisturizer-50ml/\">\n",
              "<span class=\"onsale\">15% попуст </span>\n",
              "<img alt=\"\" class=\"attachment-woocommerce_thumbnail size-woocommerce_thumbnail\" height=\"300\" loading=\"lazy\" src=\"https://coslovemetics.mk/wp-content/uploads/Dr.-Jart-CtrlA-Teatreement-Moisturizer-50-ml.jpg\" width=\"300\"/><h2 class=\"woocommerce-loop-product__title\">Dr.Jart Ctrl-A Teatreement Moisturizer 50ml</h2>\n",
              "<span class=\"price\"><del><span class=\"woocommerce-Price-amount amount\">1.990<span class=\"woocommerce-Price-currencySymbol\">ден</span></span></del> <ins><span class=\"woocommerce-Price-amount amount\">1.692<span class=\"woocommerce-Price-currencySymbol\">ден</span></span></ins></span>\n",
              "</a><a aria-label=\"Прочитај повеќе за “Dr.Jart Ctrl-A Teatreement Moisturizer 50ml”\" class=\"button product_type_simple\" data-product_id=\"26312\" data-product_sku=\"8809642712881\" data-quantity=\"0\" href=\"https://coslovemetics.mk/product/dr-jart-ctrl-a-teatreement-moisturizer-50ml/\" rel=\"nofollow\" title=\"Minimum qty is 0\">Прочитај повеќе</a> </div>\n",
              "</div>\n",
              "</div>\n",
              "<div class=\"col-md-4 mb-4\">\n",
              "<div class=\"product type-product post-24826 status-publish instock product_cat-etudehouse product_cat-summersale has-post-thumbnail sale shipping-taxable purchasable product-type-simple\">\n",
              "<div class=\"content-single-product-wrapper border p-2\">\n",
              "<a class=\"woocommerce-LoopProduct-link woocommerce-loop-product__link\" href=\"https://coslovemetics.mk/product/etude-house-look-at-my-eyes-veil-breeze-br435/\">\n",
              "<span class=\"onsale\">35% попуст </span>\n",
              "<img alt=\"\" class=\"attachment-woocommerce_thumbnail size-woocommerce_thumbnail\" height=\"300\" loading=\"lazy\" src=\"https://coslovemetics.mk/wp-content/uploads/Etude-Look-At-My-Eyes-Veil-Breeze-BR435.png\" width=\"300\"/><h2 class=\"woocommerce-loop-product__title\">Etude House Look At My Eyes Veil Breeze BR435</h2>\n",
              "<span class=\"price\"><del><span class=\"woocommerce-Price-amount amount\">320<span class=\"woocommerce-Price-currencySymbol\">ден</span></span></del> <ins><span class=\"woocommerce-Price-amount amount\">208<span class=\"woocommerce-Price-currencySymbol\">ден</span></span></ins></span>\n",
              "</a><a aria-label=\"Додади “Etude House Look At My Eyes Veil Breeze BR435” во твојата кошничка\" class=\"button product_type_simple add_to_cart_button ajax_add_to_cart\" data-product_id=\"24826\" data-product_sku=\"8809668012804\" data-quantity=\"0\" href=\"?add-to-cart=24826\" rel=\"nofollow\" title=\"Minimum qty is 0\">Додади во кошничка</a> </div>\n",
              "</div>\n",
              "</div>\n",
              "<div class=\"col-md-4 mb-4\">\n",
              "<div class=\"product type-product post-24832 status-publish last instock product_cat-etudehouse product_cat-summersale has-post-thumbnail sale shipping-taxable purchasable product-type-simple\">\n",
              "<div class=\"content-single-product-wrapper border p-2\">\n",
              "<a class=\"woocommerce-LoopProduct-link woocommerce-loop-product__link\" href=\"https://coslovemetics.mk/product/etude-house-look-at-my-eyes-veil-breeze-cafe-or211/\">\n",
              "<span class=\"onsale\">35% попуст </span>\n",
              "<img alt=\"\" class=\"attachment-woocommerce_thumbnail size-woocommerce_thumbnail\" height=\"300\" loading=\"lazy\" src=\"https://coslovemetics.mk/wp-content/uploads/Etude-House-Look-At-My-Eyes-Veil-Breeze-Cafe-OR211.png\" width=\"300\"/><h2 class=\"woocommerce-loop-product__title\">Etude House Look At My Eyes Veil Breeze Café OR211</h2>\n",
              "<span class=\"price\"><del><span class=\"woocommerce-Price-amount amount\">320<span class=\"woocommerce-Price-currencySymbol\">ден</span></span></del> <ins><span class=\"woocommerce-Price-amount amount\">208<span class=\"woocommerce-Price-currencySymbol\">ден</span></span></ins></span>\n",
              "</a><a aria-label=\"Додади “Etude House Look At My Eyes Veil Breeze Café OR211” во твојата кошничка\" class=\"button product_type_simple add_to_cart_button ajax_add_to_cart\" data-product_id=\"24832\" data-product_sku=\"8809668012811\" data-quantity=\"0\" href=\"?add-to-cart=24832\" rel=\"nofollow\" title=\"Minimum qty is 0\">Додади во кошничка</a> </div>\n",
              "</div>\n",
              "</div>\n",
              "</ul>\n",
              "<nav class=\"woocommerce-pagination\">\n",
              "<ul class=\"page-numbers\">\n",
              "<li><span aria-current=\"page\" class=\"page-numbers current\">1</span></li>\n",
              "<li><a class=\"page-numbers\" href=\"https://coslovemetics.mk/product-category/summersale/page/2/\">2</a></li>\n",
              "<li><a class=\"page-numbers\" href=\"https://coslovemetics.mk/product-category/summersale/page/3/\">3</a></li>\n",
              "<li><a class=\"next page-numbers\" href=\"https://coslovemetics.mk/product-category/summersale/page/2/\">→</a></li>\n",
              "</ul>\n",
              "</nav>\n",
              "</div>\n",
              "</div>\n",
              "</div>\n",
              "<!-- Subscribe -->\n",
              "<div class=\"container-fluid mx-0 border-bottom border-top px-0 py-4\" id=\"wrapper-subscribe\">\n",
              "<div class=\"container py-2\">\n",
              "<div class=\"row mx-0 px-0\">\n",
              "<div class=\"col-md-6\">\n",
              "<h2 class=\"text-primary fancy-font subscribe-message\">Добивај ги најновите информации!</h2>\n",
              "</div>\n",
              "<div class=\"col-md-6 d-flex align-items-center\" id=\"subscribe-form\">\n",
              "<div class=\"wpcf7\" dir=\"ltr\" id=\"wpcf7-f244-o1\" lang=\"mk-MK\" role=\"form\">\n",
              "<div class=\"screen-reader-response\"></div>\n",
              "<form action=\"/product-category/summersale/#wpcf7-f244-o1\" class=\"wpcf7-form\" method=\"post\" novalidate=\"novalidate\">\n",
              "<div style=\"display: none;\">\n",
              "<input name=\"_wpcf7\" type=\"hidden\" value=\"244\"/>\n",
              "<input name=\"_wpcf7_version\" type=\"hidden\" value=\"5.1.7\"/>\n",
              "<input name=\"_wpcf7_locale\" type=\"hidden\" value=\"mk_MK\"/>\n",
              "<input name=\"_wpcf7_unit_tag\" type=\"hidden\" value=\"wpcf7-f244-o1\"/>\n",
              "<input name=\"_wpcf7_container_post\" type=\"hidden\" value=\"0\"/>\n",
              "<input name=\"g-recaptcha-response\" type=\"hidden\" value=\"\"/>\n",
              "</div>\n",
              "<div <br=\"\" class=\"row mx-0 px-0\"></div>\n",
              "<span class=\"wpcf7-form-control-wrap email-688\"><input aria-invalid=\"false\" aria-required=\"true\" class=\"wpcf7-form-control wpcf7-text wpcf7-email wpcf7-validates-as-required wpcf7-validates-as-email form-control subscribe-input\" name=\"email-688\" placeholder=\"Внеси емаил адреса\" size=\"40\" type=\"email\" value=\"\"/></span><br/>\n",
              "<input class=\"wpcf7-form-control wpcf7-submit btn btn-light subscribe-submit\" type=\"submit\" value=\"пријави се\"/>\n",
              "</form></div>\n",
              "<div class=\"wpcf7-response-output wpcf7-display-none\"></div></div></div></div></div></div></body></html> \n",
              "\n",
              "\n",
              "\n",
              "<!-- Subscribe end -->\n",
              "<div class=\"container-fluid mx-0 px-0 py-4\" id=\"wrapper-footer\">\n",
              "<div class=\"container\">\n",
              "<div class=\"row mx-0 px-0\">\n",
              "<div class=\"col-md-6 col-xl-3 col-12\">\n",
              "<div class=\"footer-widget-wrapper\" id=\"footer-widget-wrapper-1\"><h3 class=\"footer-widget-title\">Мапа на сајтот</h3><div class=\"menu-footer-2-container\"><ul class=\"menu\" id=\"menu-footer-2\"><li class=\"menu-item menu-item-type-post_type menu-item-object-page menu-item-19417\" id=\"menu-item-19417\"><a href=\"https://coslovemetics.mk/%d0%b7%d0%b0-%d0%bd%d0%b0%d1%81/\">За Нас</a></li>\n",
              "<li class=\"menu-item menu-item-type-post_type menu-item-object-page menu-item-17580\" id=\"menu-item-17580\"><a href=\"https://coslovemetics.mk/brands/\">Брендови</a></li>\n",
              "<li class=\"menu-item menu-item-type-post_type menu-item-object-page menu-item-19392\" id=\"menu-item-19392\"><a href=\"https://coslovemetics.mk/shop/\">Продавница</a></li>\n",
              "<li class=\"menu-item menu-item-type-post_type menu-item-object-page menu-item-17579\" id=\"menu-item-17579\"><a href=\"https://coslovemetics.mk/blog/\">Блог</a></li>\n",
              "<li class=\"menu-item menu-item-type-post_type menu-item-object-page menu-item-21157\" id=\"menu-item-21157\"><a href=\"https://coslovemetics.mk/vib-loyalty/\">VIB Loyalty</a></li>\n",
              "<li class=\"menu-item menu-item-type-post_type menu-item-object-page menu-item-187\" id=\"menu-item-187\"><a href=\"https://coslovemetics.mk/kontakt/\">Контакт</a></li>\n",
              "</ul></div></div> </div>\n",
              "<div class=\"col-md-6 col-xl-3 col-12\">\n",
              "<div class=\"footer-widget-wrapper\" id=\"footer-widget-wrapper-1\"><h3 class=\"footer-widget-title\">Политики</h3><div class=\"menu-politiki-container\"><ul class=\"menu\" id=\"menu-politiki\"><li class=\"menu-item menu-item-type-post_type menu-item-object-page menu-item-17584\" id=\"menu-item-17584\"><a href=\"https://coslovemetics.mk/terms-and-conditions/\">Услови на користење</a></li>\n",
              "<li class=\"menu-item menu-item-type-post_type menu-item-object-page menu-item-privacy-policy menu-item-17581\" id=\"menu-item-17581\"><a href=\"https://coslovemetics.mk/polisa-za-privatnost/\">Политика на приватност</a></li>\n",
              "<li class=\"menu-item menu-item-type-post_type menu-item-object-page menu-item-17582\" id=\"menu-item-17582\"><a href=\"https://coslovemetics.mk/nacin-isporuke/\">Политика за достава</a></li>\n",
              "<li class=\"menu-item menu-item-type-post_type menu-item-object-page menu-item-17583\" id=\"menu-item-17583\"><a href=\"https://coslovemetics.mk/finansiranje/\">Политика за рефундирање</a></li>\n",
              "<li class=\"menu-item menu-item-type-post_type menu-item-object-page menu-item-21973\" id=\"menu-item-21973\"><a href=\"https://coslovemetics.mk/%d0%bf%d0%be%d0%bb%d0%b8%d1%82%d0%b8%d0%ba%d0%b0-%d0%bd%d0%b0-%d0%ba%d0%be%d0%bb%d0%b0%d1%87%d0%b8%d1%9a%d0%b0/\">Политика на колачиња</a></li>\n",
              "</ul></div></div> </div>\n",
              "<div class=\"col-md-6 col-xl-2 col-12\">\n",
              "<div class=\"footer-widget-wrapper\" id=\"footer-widget-wrapper-4\"><h3 class=\"footer-widget-title\">Категории</h3><div class=\"menu-footer-1-container\"><ul class=\"menu\" id=\"menu-footer-1\"><li class=\"menu-item menu-item-type-taxonomy menu-item-object-product_cat menu-item-20891\" id=\"menu-item-20891\"><a href=\"https://coslovemetics.mk/product-category/brands/attitude-living/\">Attitude Living</a></li>\n",
              "<li class=\"menu-item menu-item-type-taxonomy menu-item-object-product_cat menu-item-20892\" id=\"menu-item-20892\"><a href=\"https://coslovemetics.mk/product-category/brands/benton/\">Benton</a></li>\n",
              "<li class=\"menu-item menu-item-type-taxonomy menu-item-object-product_cat menu-item-20894\" id=\"menu-item-20894\"><a href=\"https://coslovemetics.mk/product-category/brands/cosrx/\">COSRX</a></li>\n",
              "</ul></div></div> </div>\n",
              "<div class=\"col-md-6 col-xl-2 col-12\">\n",
              "<div class=\"footer-widget-wrapper\" id=\"footer-widget-wrapper-4\"><div class=\"menu-footer-4-container\"><ul class=\"menu\" id=\"menu-footer-4\"><li class=\"menu-item menu-item-type-taxonomy menu-item-object-product_cat menu-item-20895\" id=\"menu-item-20895\"><a href=\"https://coslovemetics.mk/product-category/brands/geekgorgeous/\">Geek&amp;Gorgeous</a></li>\n",
              "<li class=\"menu-item menu-item-type-taxonomy menu-item-object-product_cat menu-item-20896\" id=\"menu-item-20896\"><a href=\"https://coslovemetics.mk/product-category/brands/iunik/\">iUNIK</a></li>\n",
              "<li class=\"menu-item menu-item-type-taxonomy menu-item-object-product_cat menu-item-20897\" id=\"menu-item-20897\"><a href=\"https://coslovemetics.mk/product-category/brands/purito/\">Purito</a></li>\n",
              "<li class=\"menu-item menu-item-type-taxonomy menu-item-object-product_cat menu-item-20898\" id=\"menu-item-20898\"><a href=\"https://coslovemetics.mk/product-category/brands/pyunkang-yul/\">Pyunkang Yul</a></li>\n",
              "<li class=\"menu-item menu-item-type-taxonomy menu-item-object-product_cat menu-item-20899\" id=\"menu-item-20899\"><a href=\"https://coslovemetics.mk/product-category/brands/some-by-mi/\">Some by mi</a></li>\n",
              "</ul></div></div> </div>\n",
              "<div class=\"col-md-6 col-xl-2 col-12\">\n",
              "<div class=\"footer-widget-wrapper\" id=\"footer-widget-wrapper-1\"><h3 class=\"footer-widget-title\">Следете не</h3><div class=\"menu-footer-3-container\"><ul class=\"menu\" id=\"menu-footer-3\"><li class=\"social-media-icon instagram-icon menu-item menu-item-type-custom menu-item-object-custom menu-item-191\" id=\"menu-item-191\"><a href=\"https://www.instagram.com/coslovemetics.mk/\" rel=\"noopener\" target=\"_blank\">Instagram</a></li>\n",
              "<li class=\"social-media-icon facebook-icon menu-item menu-item-type-custom menu-item-object-custom menu-item-19388\" id=\"menu-item-19388\"><a href=\"https://www.facebook.com/cosLOVEmetics.mk/\" rel=\"noopener\" target=\"_blank\">Facebook</a></li>\n",
              "<li class=\"social-media-icon twitter-icon menu-item menu-item-type-custom menu-item-object-custom menu-item-19389\" id=\"menu-item-19389\"><a href=\"https://twitter.com/cosLOVEmetics\" rel=\"noopener\" target=\"_blank\">Twitter</a></li>\n",
              "</ul></div></div> </div>\n",
              "</div><!-- row end -->\n",
              "</div><!-- container end -->\n",
              "</div><!-- wrapper end -->\n",
              "<!-- Credits -->\n",
              "<div class=\"container-fluid mx-0 px-0 bg-light py-2\" id=\"wrapper-footer\">\n",
              "<div class=\"container\">\n",
              "<div class=\"row\">\n",
              "<div class=\"col-md-12 text-center\">\n",
              "<p class=\"text-muted my-1\"><span class=\"small\">© coslovemetics.mk 2022 | Powered by </span> <a class=\"small\" href=\"https://vendor.com.mk/\" target=\"_blank\">Vendor®</a></p>\n",
              "</div>\n",
              "</div><!-- row end -->\n",
              "</div><!-- container end -->\n",
              "</div><!-- wrapper end -->\n",
              "<!-- Credits -->\n",
              "\n",
              "<!-- Contact info Modal end -->\n",
              "<!-- Custom scripts -->\n",
              "<script src=\"https://cdn.jsdelivr.net/npm/jquery-validation@1.19.3/dist/jquery.validate.js\" type=\"text/javascript\"></script>\n",
              "<script type=\"text/javascript\">\n",
              "\tvar $jq = jQuery.noConflict();\n",
              "\n",
              "\t/*\n",
              " * Translated default messages for the jQuery validation plugin.\n",
              " * Locale: MK (Macedonian; македонски јазик)\n",
              " */\n",
              "$jq.extend( $jq.validator.messages, {\n",
              "\trequired: \"Полето е задолжително.\",\n",
              "\tremote: \"Поправете го ова поле\",\n",
              "\temail: \"Внесете правилна e-mail адреса\",\n",
              "\turl: \"Внесете правилен URL.\",\n",
              "\tdate: \"Внесете правилен датум\",\n",
              "\tdateISO: \"Внесете правилен датум (ISO).\",\n",
              "\tnumber: \"Внесете правилен број.\",\n",
              "\tdigits: \"Внесете само бројки.\",\n",
              "\tcreditcard: \"Внесете правилен број на кредитната картичка.\",\n",
              "\tequalTo: \"Внесете ја истата вредност повторно.\",\n",
              "\textension: \"Внесете вредност со соодветна екстензија.\",\n",
              "\tmaxlength: $jq.validator.format( \"Внесете максимално {0} знаци.\" ),\n",
              "\tminlength: $jq.validator.format( \"Внесете барем {0} знаци.\" ),\n",
              "\trangelength: $jq.validator.format( \"Внесете вредност со должина помеѓу {0} и {1} знаци.\" ),\n",
              "\trange: $jq.validator.format( \"Внесете вредност помеѓу {0} и {1}.\" ),\n",
              "\tmax: $jq.validator.format( \"Внесете вредност помала или еднаква на {0}.\" ),\n",
              "\tmin: $jq.validator.format( \"Внесете вредност поголема или еднаква на {0}\" )\n",
              "} );\n",
              "\n",
              "\t$jq(document).ready(function() { \n",
              "\t $jq('.main-slider').slick({\n",
              "\t\t\t\t  dots: false,\n",
              "\t\t\t\t  arrows:true,\n",
              "\t\t\t\t  infinite: true,\n",
              "\t\t\t\t  fade:true,\n",
              "\t\t\t\t  speed: 400,\n",
              "\t\t\t\t  slidesToShow: 1,\n",
              "\t\t\t\t  slidesToScroll: 1,\n",
              "\t\t\t\t  autoplay: true,\n",
              "  \t\t\t\t  autoplaySpeed: 3000,\n",
              "\n",
              "\t});\n",
              "\n",
              "\n",
              "\n",
              "\t$jq('.main-slider-mobile').slick({\n",
              "\t\t\t\t  dots: false,\n",
              "\t\t\t\t  arrows:true,\n",
              "\t\t\t\t  infinite: true,\n",
              "\t\t\t\t  fade:true,\n",
              "\t\t\t\t  speed: 400,\n",
              "\t\t\t\t  slidesToShow: 1,\n",
              "\t\t\t\t  slidesToScroll: 1,\n",
              "\t\t\t\t  autoplay: true,\n",
              "  \t\t\t\t  autoplaySpeed: 3000,\n",
              "\n",
              "\t});\n",
              "\t});\n",
              "\t</script>\n",
              "<style>/* LRM */\n",
              "body.logged-in .lrm-hide-if-logged-in { display: none !important; }\n",
              "body.logged-in [class*='lrm-hide-if-logged-in'] { display: none !important; }\n",
              "body:not(.logged-in) .lrm-show-if-logged-in { display: none !important; }\n",
              "body:not(.logged-in) [class*='lrm-show-if-logged-in'] { display: none !important; }\n",
              "</style>\n",
              "<!--\n",
              "-->\n",
              "<div class=\"lrm-main lrm-font-svg lrm-user-modal lrm-btn-style--default\" style=\"visibility: hidden;\"> <!-- this is the entire modal form, including the background -->\n",
              "<!--<div class=\"lrm-user-modal\" style=\"visibility: hidden;\">  this is the entire modal form, including the background -->\n",
              "<div class=\"lrm-user-modal-container\"> <!-- this is the container wrapper -->\n",
              "<div class=\"lrm-user-modal-container-inner\"> <!-- this is the container wrapper -->\n",
              "<ul class=\"lrm-switcher -is-login-only\">\n",
              "<li><a class=\"lrm-switch-to-link lrm-switch-to--login lrm-ficon-login selected\" href=\"#0\">\n",
              "\t\t\tНАЈАВА\t\t</a></li>\n",
              "</ul><div class=\"lrm-signin-section is-selected\"> <!-- log in form -->\n",
              "<form action=\"#0\" class=\"lrm-form\" data-action=\"login\">\n",
              "<div class=\"lrm-fieldset-wrap\">\n",
              "<div class=\"lrm-integrations lrm-integrations--login\">\n",
              "</div>\n",
              "<p class=\"lrm-form-message lrm-form-message--init\"></p>\n",
              "<div class=\"fieldset\">\n",
              "<label class=\"image-replace lrm-email lrm-ficon-mail\" title=\"E-mail\"></label>\n",
              "<input aria-label=\"E-mail\" autocomplete=\"username\" class=\"full-width has-padding has-border\" data-autofocus=\"1\" name=\"username\" placeholder=\"E-mail\" required=\"\" type=\"text\" value=\"\"/>\n",
              "<span class=\"lrm-error-message\"></span>\n",
              "</div>\n",
              "<div class=\"fieldset\">\n",
              "<label class=\"image-replace lrm-password lrm-ficon-key\" title=\"Лозинка\"></label>\n",
              "<input aria-label=\"Лозинка\" class=\"full-width has-padding has-border\" name=\"password\" placeholder=\"Лозинка\" required=\"\" type=\"password\" value=\"\"/>\n",
              "<span class=\"lrm-error-message\"></span>\n",
              "<span aria-label=\"Прикажи\" class=\"hide-password lrm-ficon-eye\" data-hide=\"Сокри\" data-show=\"Прикажи\"></span>\n",
              "</div>\n",
              "<div class=\"fieldset\">\n",
              "<label class=\"lrm-nice-checkbox__label lrm-remember-me-checkbox\">Запамти ме                        <input checked=\"\" class=\"lrm-nice-checkbox lrm-remember-me\" name=\"remember-me\" type=\"checkbox\"/>\n",
              "<div class=\"lrm-nice-checkbox__indicator\"></div>\n",
              "</label>\n",
              "</div>\n",
              "<div class=\"lrm-integrations lrm-integrations--login lrm-integrations-before-btn\">\n",
              "</div>\n",
              "<div class=\"lrm-integrations-otp\"></div>\n",
              "</div>\n",
              "<div class=\"fieldset fieldset--submit fieldset--default\">\n",
              "<button class=\"full-width has-padding\" type=\"submit\">\n",
              "                НАЈАВА            </button>\n",
              "</div>\n",
              "<div class=\"lrm-fieldset-wrap\">\n",
              "<div class=\"lrm-integrations lrm-integrations--login\">\n",
              "</div>\n",
              "</div>\n",
              "<input name=\"redirect_to\" type=\"hidden\" value=\"\"/>\n",
              "<input name=\"lrm_action\" type=\"hidden\" value=\"login\"/>\n",
              "<input name=\"wp-submit\" type=\"hidden\" value=\"1\"/>\n",
              "<!-- Fix for Eduma WP theme-->\n",
              "<input name=\"lp-ajax\" type=\"hidden\" value=\"login\"/>\n",
              "<input id=\"security-login\" name=\"security-login\" type=\"hidden\" value=\"43afe1e3fe\"><input name=\"_wp_http_referer\" type=\"hidden\" value=\"/product-category/summersale/\">\n",
              "<!-- For Invisible Recaptcha plugin -->\n",
              "<span class=\"wpcf7-submit\" style=\"display: none;\"></span>\n",
              "</input></input></form>\n",
              "<p class=\"lrm-form-bottom-message\"><a class=\"\" href=\"https://coslovemetics.mk/my-account/lost-password/\">Заборавена лозинка?</a>\n",
              "<a class=\"font-weight-bold text-uppercase d-block text-center mt-3\" href=\"https://coslovemetics.mk/my-account/?register=1\">Регистрирај се</a>\n",
              "</p>\n",
              "<!-- <a href=\"#0\" class=\"lrm-close-form\">Close</a> -->\n",
              "</div> <!-- lrm-login --><div class=\"lrm-reset-password-section \"> <!-- reset password form -->\n",
              "<form action=\"#0\" class=\"lrm-form\" data-action=\"lost-password\">\n",
              "<div class=\"lrm-fieldset-wrap\">\n",
              "<p class=\"lrm-form-message\">Заборавена лозинка? Внесете ја вашата е-маил адреса и ќе ви пристигне е-маил за ресетирање.</p>\n",
              "<div class=\"fieldset\">\n",
              "<label class=\"image-replace lrm-email lrm-ficon-mail\" title=\"Е-маил\"></label>\n",
              "<input aria-label=\"Е-маил\" class=\"full-width has-padding has-border\" data-autofocus=\"1\" name=\"user_login\" placeholder=\"Е-маил\" required=\"\" type=\"text\"/>\n",
              "<span class=\"lrm-error-message\"></span>\n",
              "</div>\n",
              "<div class=\"lrm-integrations lrm-integrations--reset-pass\">\n",
              "</div>\n",
              "<input name=\"lrm_action\" type=\"hidden\" value=\"lostpassword\"/>\n",
              "<input name=\"wp-submit\" type=\"hidden\" value=\"1\"/>\n",
              "<input id=\"security-lostpassword\" name=\"security-lostpassword\" type=\"hidden\" value=\"26f619c4e5\"><input name=\"_wp_http_referer\" type=\"hidden\" value=\"/product-category/summersale/\">\n",
              "</input></input></div>\n",
              "<div class=\"fieldset fieldset--submit fieldset--default\">\n",
              "<button class=\"full-width has-padding\" type=\"submit\">\n",
              "\t\t\t\tРесетирај лозинка\t\t\t</button>\n",
              "</div>\n",
              "<!-- For Invisible Recaptcha plugin -->\n",
              "<span class=\"wpcf7-submit\" style=\"display: none;\"></span>\n",
              "</form>\n",
              "<p class=\"lrm-form-bottom-message\"><a class=\"lrm-switch-to--login\" href=\"#0\">Назад кон најава</a></p>\n",
              "</div> <!-- lrm-reset-password -->\n",
              "</div> <!-- lrm-user-modal-container -->\n",
              "<a class=\"lrm-close-form\" href=\"#0\" title=\"затвори\">\n",
              "<span class=\"lrm-ficon-close\"></span>\n",
              "</a>\n",
              "</div> <!-- lrm-user-modal-container -->\n",
              "</div> <!-- lrm-user-modal -->\n",
              "<aside aria-label=\"GDPR Cookie Banner\" class=\"moove-gdpr-info-bar-hidden moove-gdpr-align-center moove-gdpr-light-scheme gdpr_infobar_postion_bottom\" id=\"moove_gdpr_cookie_info_bar\" role=\"note\" style=\"display: none;\">\n",
              "<div class=\"moove-gdpr-info-bar-container\">\n",
              "<div class=\"moove-gdpr-info-bar-content\">\n",
              "<div class=\"moove-gdpr-cookie-notice\">\n",
              "<p>Ние користиме колачиња за да ви го овозможиме најдоброто корисничко искуство на нашата веб-страница.<br/>\n",
              "За да дознаете повеќе за колачињата што ги користиме или доколку сакате да исклучите некое од нив притиснете тука за <span class=\"change-settings-button\" data-href=\"#moove_gdpr_cookie_modal\" role=\"link\" tabindex=\"0\">нагодување</span>.</p>\n",
              "</div>\n",
              "<!--  .moove-gdpr-cookie-notice -->\n",
              "<div class=\"moove-gdpr-button-holder\">\n",
              "<button aria-label=\"Прифаќам\" class=\"mgbutton moove-gdpr-infobar-allow-all\">Прифаќам</button>\n",
              "<button aria-label=\"Одбивам\" class=\"mgbutton moove-gdpr-infobar-reject-btn \">Одбивам</button>\n",
              "<button aria-label=\"Нагодување\" class=\"mgbutton moove-gdpr-infobar-settings-btn change-settings-button\" data-href=\"#moove_gdpr_cookie_modal\">Нагодување</button>\n",
              "</div>\n",
              "<!--  .button-container --> </div>\n",
              "<!-- moove-gdpr-info-bar-content -->\n",
              "</div>\n",
              "<!-- moove-gdpr-info-bar-container -->\n",
              "</aside>\n",
              "<!-- #moove_gdpr_cookie_info_bar -->\n",
              "<div id=\"yith-wacp-popup\">\n",
              "<div class=\"yith-wacp-overlay\"></div>\n",
              "<div class=\"yith-wacp-wrapper woocommerce\">\n",
              "<div class=\"yith-wacp-main\">\n",
              "<div class=\"yith-wacp-head\">\n",
              "<a class=\"yith-wacp-close\" href=\"#\">X</a>\n",
              "</div>\n",
              "<div class=\"yith-wacp-content\"></div>\n",
              "</div>\n",
              "</div>\n",
              "</div>\n",
              "<div class=\"xoo-wsc-modal\">\n",
              "<div class=\"xoo-wsc-container\">\n",
              "<div class=\"xoo-wsc-basket\">\n",
              "<span class=\"xoo-wsc-items-count\">0</span>\n",
              "<span class=\"xoo-wsc-bki xoo-wsc-icon-basket1\"></span>\n",
              "</div>\n",
              "<div class=\"xoo-wsc-header\">\n",
              "<div class=\"xoo-wsch-top\">\n",
              "<div class=\"xoo-wsc-notice-container\" data-section=\"cart\"><ul class=\"xoo-wsc-notices\"></ul></div>\n",
              "<span class=\"xoo-wsch-text\">Корпа</span>\n",
              "<span class=\"xoo-wsch-close xoo-wsc-icon-cross\"></span>\n",
              "</div>\n",
              "</div>\n",
              "<div class=\"xoo-wsc-body\">\n",
              "<div class=\"xoo-wsc-empty-cart\"><span>Кошничката е празна</span><a class=\"button btn\" href=\"https://coslovemetics.mk/shop/\">Продавница</a></div>\n",
              "</div>\n",
              "<div class=\"xoo-wsc-footer\">\n",
              "<div class=\"xoo-wsc-ft-buttons-cont\">\n",
              "<a class=\"xoo-wsc-ft-btn button btn xoo-wsc-ft-btn-continue\" href=\"#\">Продолжете со купување</a>\n",
              "</div>\n",
              "</div>\n",
              "<span class=\"xoo-wsc-loader\"></span>\n",
              "</div>\n",
              "<span class=\"xoo-wsc-opac\">\n",
              "</span></div><script type=\"application/ld+json\">{\"@context\":\"https:\\/\\/schema.org\\/\",\"@type\":\"BreadcrumbList\",\"itemListElement\":[{\"@type\":\"ListItem\",\"position\":1,\"item\":{\"name\":\"\\u041f\\u043e\\u0447\\u0435\\u0442\\u043d\\u0430\",\"@id\":\"https:\\/\\/coslovemetics.mk\"}},{\"@type\":\"ListItem\",\"position\":2,\"item\":{\"name\":\"SALE! SALE!\",\"@id\":\"https:\\/\\/coslovemetics.mk\\/product-category\\/summersale\\/\"}}]}</script> <script type=\"text/javascript\">\n",
              "\t\tvar c = document.body.className;\n",
              "\t\tc = c.replace(/woocommerce-no-js/, 'woocommerce-js');\n",
              "\t\tdocument.body.className = c;\n",
              "\t</script>\n",
              "<link href=\"https://coslovemetics.mk/wp-content/plugins/yith-woocommerce-category-accordion-premium/assets/css/ywcca_style.css?ver=1.0.31\" id=\"ywcca_accordion_style-css\" media=\"all\" rel=\"stylesheet\" type=\"text/css\"/>\n",
              "<style id=\"ywcca_accordion_style-inline-css\" type=\"text/css\">\n",
              ".ywcca_widget_container_style_1 .ywcca_widget_title { background: ; border-bottom-color: ; }\n",
              "\n",
              ".ywcca_widget_container_style_1 { border-color: ; }\n",
              "\n",
              ".ywcca_widget_container_style_1 ul.ywcca_category_accordion_widget li span.rectangle_count { background: ; border-color: ; }\n",
              "\n",
              ".ywcca_widget_container_style_1 ul.ywcca_category_accordion_widget li span.round_count { background: ; border-color: ; }\n",
              "\n",
              ".ywcca_widget_container_style_1 .ywcca_category_accordion_widget li.cat-item,\n",
              "                                    .ywcca_widget_container_style_1 .ywcca_category_accordion_widget ul.ywcca-menu li.menu-item,\n",
              "                                    .ywcca_widget_container_style_1 .ywcca_category_accordion_widget li.cat-item a,\n",
              "                                    .ywcca_widget_container_style_1 .ywcca_category_accordion_widget ul.ywcca-menu li.menu-item a {  }\n",
              "\n",
              ".ywcca_widget_container_style_1 .ywcca_category_accordion_widget li.cat-item,\n",
              "                                     .ywcca_widget_container_style_1 .ywcca_category_accordion_widget ul.ywcca-menu li.menu-item { background: ; border-bottom-color: ; }\n",
              "\n",
              ".ywcca_widget_container_style_1 .ywcca_category_accordion_widget ul.yith-children li,\n",
              "                                     .ywcca_widget_container_style_1 .ywcca_category_accordion_widget ul.ywcca-sub-menu li.menu-item,\n",
              "                                    .ywcca_widget_container_style_1 .ywcca_category_accordion_widget ul.yith-children li a,\n",
              "                                    .ywcca_widget_container_style_1 .ywcca_category_accordion_widget ul.ywcca-sub-menu li.menu-item a {  }\n",
              "\n",
              ".ywcca_widget_container_style_1 .ywcca_category_accordion_widget ul.yith-children li,\n",
              "                                     .ywcca_widget_container_style_1 .ywcca_category_accordion_widget ul.ywcca-sub-menu li.menu-item { background: ; border-bottom-color: ; }\n",
              "\n",
              ".ywcca_widget_container_style_2 .ywcca_widget_title { background: ; }\n",
              "\n",
              ".ywcca_widget_container_style_2 .ywcca_widget_title, .ywcca_widget_container_style_2 .ywcca_category_accordion_widget { border-color: ; }\n",
              "\n",
              ".ywcca_widget_container_style_2 ul.ywcca_category_accordion_widget li span.rectangle_count { background: ; border-color: ; }\n",
              "\n",
              ".ywcca_widget_container_style_2 ul.ywcca_category_accordion_widget li span.round_count { background: ; border-color: ; }\n",
              "\n",
              ".ywcca_widget_container_style_2 .ywcca_category_accordion_widget li.cat-item,\n",
              "                                    .ywcca_widget_container_style_2 .ywcca_category_accordion_widget ul.ywcca-menu li.menu-item,\n",
              "                                    .ywcca_widget_container_style_2 .ywcca_category_accordion_widget li.cat-item a,\n",
              "                                    .ywcca_widget_container_style_2 .ywcca_category_accordion_widget ul.ywcca-menu li.menu-item a {  }\n",
              "\n",
              ".ywcca_widget_container_style_2 .ywcca_category_accordion_widget li.cat-item,\n",
              "                                     .ywcca_widget_container_style_2 .ywcca_category_accordion_widget ul.ywcca-menu li.menu-item { background: ; border-bottom-color: #e2e2e2; }\n",
              "\n",
              ".ywcca_widget_container_style_2 .ywcca_category_accordion_widget ul.yith-children li,\n",
              "                                     .ywcca_widget_container_style_2 .ywcca_category_accordion_widget ul.ywcca-sub-menu li.menu-item,\n",
              "                                    .ywcca_widget_container_style_2 .ywcca_category_accordion_widget ul.yith-children li a,\n",
              "                                    .ywcca_widget_container_style_2 .ywcca_category_accordion_widget ul.ywcca-sub-menu li.menu-item a {  }\n",
              "\n",
              ".ywcca_widget_container_style_2 .ywcca_category_accordion_widget ul.yith-children li,\n",
              "                                     .ywcca_widget_container_style_2 .ywcca_category_accordion_widget ul.ywcca-sub-menu li.menu-item { background: ; border-bottom-color: ; }\n",
              "\n",
              ".ywcca_widget_container_style_3 .ywcca_widget_title { background: ; border-bottom-color: ; }\n",
              "\n",
              ".ywcca_widget_container_style_3 ul.ywcca_category_accordion_widget li span.rectangle_count { background: ; border-color: ; }\n",
              "\n",
              ".ywcca_widget_container_style_3 ul.ywcca_category_accordion_widget li span.round_count { background: ; border-color: ; }\n",
              "\n",
              ".ywcca_widget_container_style_3 .ywcca_category_accordion_widget li.cat-item,\n",
              "                                    .ywcca_widget_container_style_3 .ywcca_category_accordion_widget ul.ywcca-menu li.menu-item,\n",
              "                                    .ywcca_widget_container_style_3 .ywcca_category_accordion_widget li.cat-item a,\n",
              "                                    .ywcca_widget_container_style_3 .ywcca_category_accordion_widget ul.ywcca-menu li.menu-item a {  }\n",
              "\n",
              ".ywcca_widget_container_style_3 .ywcca_category_accordion_widget li.cat-item,\n",
              "                                     .ywcca_widget_container_style_3 .ywcca_category_accordion_widget ul.ywcca-menu li.menu-item { background: ; border-bottom-color: #e2e2e2; }\n",
              "\n",
              ".ywcca_widget_container_style_3 .ywcca_category_accordion_widget ul.yith-children li,\n",
              "                                     .ywcca_widget_container_style_3 .ywcca_category_accordion_widget ul.ywcca-sub-menu li.menu-item,\n",
              "                                    .ywcca_widget_container_style_3 .ywcca_category_accordion_widget ul.yith-children li a,\n",
              "                                    .ywcca_widget_container_style_3 .ywcca_category_accordion_widget ul.ywcca-sub-menu li.menu-item a {  }\n",
              "\n",
              ".ywcca_widget_container_style_3 .ywcca_category_accordion_widget ul.yith-children li,\n",
              "                                     .ywcca_widget_container_style_3 .ywcca_category_accordion_widget ul.ywcca-sub-menu li.menu-item { background: ; border-bottom-color: ; }\n",
              "\n",
              ".ywcca_widget_container_style_4 .ywcca_widget_title { font-size: 14px; color: #484848; font-style: normal; font-weight: 700; text-transform: uppercase; background: #ffffff; border-bottom-color: #f8f9fa; }\n",
              "\n",
              ".ywcca_widget_container_style_4 ul.ywcca_category_accordion_widget li span.rectangle_count { background: #f0f0f0; border-color: #e0e0e0; }\n",
              "\n",
              ".ywcca_widget_container_style_4 ul.ywcca_category_accordion_widget li span.round_count { background: ; border-color: #f8f9fa; }\n",
              "\n",
              ".ywcca_widget_container_style_4 .ywcca_category_accordion_widget li.cat-item,\n",
              "                                    .ywcca_widget_container_style_4 .ywcca_category_accordion_widget ul.ywcca-menu li.menu-item,\n",
              "                                    .ywcca_widget_container_style_4 .ywcca_category_accordion_widget li.cat-item a,\n",
              "                                    .ywcca_widget_container_style_4 .ywcca_category_accordion_widget ul.ywcca-menu li.menu-item a { font-size: 16px; color: #484848; font-style: normal; font-weight: 400; text-transform: none; }\n",
              "\n",
              ".ywcca_widget_container_style_4 .ywcca_category_accordion_widget li.cat-item,\n",
              "                                     .ywcca_widget_container_style_4 .ywcca_category_accordion_widget ul.ywcca-menu li.menu-item { background: #ffffff; border-bottom-color: #e2e2e2; }\n",
              "\n",
              ".ywcca_widget_container_style_4 .ywcca_category_accordion_widget ul.yith-children li,\n",
              "                                     .ywcca_widget_container_style_4 .ywcca_category_accordion_widget ul.ywcca-sub-menu li.menu-item,\n",
              "                                    .ywcca_widget_container_style_4 .ywcca_category_accordion_widget ul.yith-children li a,\n",
              "                                    .ywcca_widget_container_style_4 .ywcca_category_accordion_widget ul.ywcca-sub-menu li.menu-item a { font-size: 16px; color: #484848; font-style: normal; font-weight: 400; text-transform: none; }\n",
              "\n",
              ".ywcca_widget_container_style_4 .ywcca_category_accordion_widget ul.yith-children li,\n",
              "                                     .ywcca_widget_container_style_4 .ywcca_category_accordion_widget ul.ywcca-sub-menu li.menu-item { background: ; border-bottom-color: #25bdb8; }\n",
              "\n",
              "\n",
              "</style>\n",
              "<script id=\"lrm-modal-js-extra\" type=\"text/javascript\">\n",
              "/* <![CDATA[ */\n",
              "var LRM = {\"password_zxcvbn_js_src\":\"https:\\/\\/coslovemetics.mk\\/wp-includes\\/js\\/zxcvbn.min.js\",\"allow_weak_password\":\"\",\"password_strength_lib\":null,\"redirect_url\":\"\",\"ajax_url\":\"https:\\/\\/coslovemetics.mk\\/?lrm=1\",\"is_user_logged_in\":\"\",\"reload_after_login\":null,\"selectors_mapping\":{\"login\":\"\",\"register\":\"\"},\"is_customize_preview\":\"\",\"l10n\":{\"password_is_good\":\"\\u0414\\u043e\\u0431\\u0440\\u0430 \\u043b\\u043e\\u0437\\u0438\\u043d\\u043a\\u0430\",\"password_is_strong\":\"\\u0422\\u0435\\u0448\\u043a\\u0430 \\u043b\\u043e\\u0437\\u0438\\u043d\\u043a\\u0430\",\"password_is_short\":\"\\u041b\\u043e\\u0437\\u0438\\u043d\\u043a\\u0430\\u0442\\u0430 \\u0435 \\u043f\\u0440\\u0435\\u043c\\u043d\\u043e\\u0433\\u0443 \\u043a\\u0440\\u0430\\u0442\\u043a\\u0430\",\"password_is_bad\":\"\\u041b\\u043e\\u0448\\u0430 \\u043b\\u043e\\u0437\\u0438\\u043d\\u043a\\u0430\",\"passwords_is_mismatch\":\"\\u041b\\u043e\\u0437\\u0438\\u043d\\u043a\\u0438\\u0442\\u0435 \\u043d\\u0435 \\u0441\\u0435 \\u0441\\u043e\\u0432\\u043f\\u0430\\u0453\\u0430\\u0430\\u0442\",\"passwords_is_weak\":\"Error: Your password is very weak!\"}};\n",
              "/* ]]> */\n",
              "</script>\n",
              "<script id=\"lrm-modal-js\" src=\"https://coslovemetics.mk/wp-content/plugins/ajax-login-and-registration-modal-popup/assets/lrm-core.js?ver=32\" type=\"text/javascript\"></script>\n",
              "<script id=\"jquery-selectBox-js\" src=\"https://coslovemetics.mk/wp-content/plugins/yith-woocommerce-wishlist/assets/js/jquery.selectBox.min.js?ver=1.2.0\" type=\"text/javascript\"></script>\n",
              "<script id=\"jquery-yith-wcwl-js-extra\" type=\"text/javascript\">\n",
              "/* <![CDATA[ */\n",
              "var yith_wcwl_l10n = {\"ajax_url\":\"\\/wp-admin\\/admin-ajax.php\",\"redirect_to_cart\":\"yes\",\"multi_wishlist\":\"\",\"hide_add_button\":\"1\",\"enable_ajax_loading\":\"\",\"ajax_loader_url\":\"https:\\/\\/coslovemetics.mk\\/wp-content\\/plugins\\/yith-woocommerce-wishlist\\/assets\\/images\\/ajax-loader-alt.svg\",\"remove_from_wishlist_after_add_to_cart\":\"\",\"is_wishlist_responsive\":\"1\",\"labels\":{\"cookie_disabled\":\"We are sorry, but this feature is available only if cookies on your browser are enabled.\",\"added_to_cart_message\":\"<div class=\\\"woocommerce-notices-wrapper\\\"><div class=\\\"woocommerce-message\\\" role=\\\"alert\\\">\\u041f\\u0440\\u043e\\u0438\\u0437\\u0432\\u043e\\u0434\\u043e\\u0442 \\u0435 \\u0443\\u0441\\u043f\\u0435\\u0448\\u043d\\u043e \\u0434\\u043e\\u0434\\u0430\\u0434\\u0435\\u043d \\u0432\\u043e \\u043a\\u043e\\u0448\\u043d\\u0438\\u0447\\u043a\\u0430\\u0442\\u0430.<\\/div><\\/div>\"},\"actions\":{\"add_to_wishlist_action\":\"add_to_wishlist\",\"remove_from_wishlist_action\":\"remove_from_wishlist\",\"reload_wishlist_and_adding_elem_action\":\"reload_wishlist_and_adding_elem\",\"load_mobile_action\":\"load_mobile\",\"delete_item_action\":\"delete_item\",\"save_title_action\":\"save_title\",\"save_privacy_action\":\"save_privacy\",\"load_fragments\":\"load_fragments\"}};\n",
              "/* ]]> */\n",
              "</script>\n",
              "<script id=\"jquery-yith-wcwl-js\" src=\"https://coslovemetics.mk/wp-content/plugins/yith-woocommerce-wishlist/assets/js/jquery.yith-wcwl.js?ver=3.0.10\" type=\"text/javascript\"></script>\n",
              "<script id=\"contact-form-7-js-extra\" type=\"text/javascript\">\n",
              "/* <![CDATA[ */\n",
              "var wpcf7 = {\"apiSettings\":{\"root\":\"https:\\/\\/coslovemetics.mk\\/wp-json\\/contact-form-7\\/v1\",\"namespace\":\"contact-form-7\\/v1\"}};\n",
              "/* ]]> */\n",
              "</script>\n",
              "<script id=\"contact-form-7-js\" src=\"https://coslovemetics.mk/wp-content/plugins/contact-form-7/includes/js/scripts.js?ver=5.1.7\" type=\"text/javascript\"></script>\n",
              "<script id=\"jquery-blockui-js\" src=\"https://coslovemetics.mk/wp-content/plugins/woocommerce/assets/js/jquery-blockui/jquery.blockUI.min.js?ver=2.70\" type=\"text/javascript\"></script>\n",
              "<script id=\"wc-add-to-cart-js-extra\" type=\"text/javascript\">\n",
              "/* <![CDATA[ */\n",
              "var wc_add_to_cart_params = {\"ajax_url\":\"\\/wp-admin\\/admin-ajax.php\",\"wc_ajax_url\":\"\\/?wc-ajax=%%endpoint%%\",\"i18n_view_cart\":\"\\u0412\\u0438\\u0434\\u0438 \\u043a\\u043e\\u0440\\u043f\\u0430\",\"cart_url\":\"https:\\/\\/coslovemetics.mk\\/cart\\/\",\"is_cart\":\"\",\"cart_redirect_after_add\":\"no\"};\n",
              "/* ]]> */\n",
              "</script>\n",
              "<script id=\"wc-add-to-cart-js\" src=\"https://coslovemetics.mk/wp-content/plugins/woocommerce/assets/js/frontend/add-to-cart.min.js?ver=4.1.4\" type=\"text/javascript\"></script>\n",
              "<script id=\"js-cookie-js\" src=\"https://coslovemetics.mk/wp-content/plugins/woocommerce/assets/js/js-cookie/js.cookie.min.js?ver=2.1.4\" type=\"text/javascript\"></script>\n",
              "<script id=\"woocommerce-js-extra\" type=\"text/javascript\">\n",
              "/* <![CDATA[ */\n",
              "var woocommerce_params = {\"ajax_url\":\"\\/wp-admin\\/admin-ajax.php\",\"wc_ajax_url\":\"\\/?wc-ajax=%%endpoint%%\"};\n",
              "/* ]]> */\n",
              "</script>\n",
              "<script id=\"woocommerce-js\" src=\"https://coslovemetics.mk/wp-content/plugins/woocommerce/assets/js/frontend/woocommerce.min.js?ver=4.1.4\" type=\"text/javascript\"></script>\n",
              "<script id=\"wc-cart-fragments-js-extra\" type=\"text/javascript\">\n",
              "/* <![CDATA[ */\n",
              "var wc_cart_fragments_params = {\"ajax_url\":\"\\/wp-admin\\/admin-ajax.php\",\"wc_ajax_url\":\"\\/?wc-ajax=%%endpoint%%\",\"cart_hash_key\":\"wc_cart_hash_166c6cd06b0dd5258740bafa16357ddd\",\"fragment_name\":\"wc_fragments_166c6cd06b0dd5258740bafa16357ddd\",\"request_timeout\":\"5000\"};\n",
              "/* ]]> */\n",
              "</script>\n",
              "<script id=\"wc-cart-fragments-js\" src=\"https://coslovemetics.mk/wp-content/plugins/woocommerce/assets/js/frontend/cart-fragments.min.js?ver=4.1.4\" type=\"text/javascript\"></script>\n",
              "<script id=\"google-recaptcha-js\" src=\"https://www.google.com/recaptcha/api.js?render=6LcjDRAgAAAAAMpZxNeg2-TeqAc0vGNqw_KRO9Mc&amp;ver=3.0\" type=\"text/javascript\"></script>\n",
              "<script id=\"slick-js-js\" src=\"https://coslovemetics.mk/wp-content/plugins/woo-product-gallery-slider/assets/public/js/slick.min.js?ver=2.0\" type=\"text/javascript\"></script>\n",
              "<script id=\"venobox-js-js\" src=\"https://coslovemetics.mk/wp-content/plugins/woo-product-gallery-slider/assets/public/js/venobox.min.js?ver=2.0\" type=\"text/javascript\"></script>\n",
              "<script id=\"wpgsjs-js-extra\" type=\"text/javascript\">\n",
              "/* <![CDATA[ */\n",
              "var wpgs_var = {\"wLightboxframewidth\":\"600\",\"wcaption\":\"false\"};\n",
              "/* ]]> */\n",
              "</script>\n",
              "<script id=\"wpgsjs-js\" src=\"https://coslovemetics.mk/wp-content/plugins/woo-product-gallery-slider/assets/public/js/wpgs.js?ver=2.0\" type=\"text/javascript\"></script>\n",
              "<script id=\"wpgsjs-js-after\" type=\"text/javascript\">\n",
              "jQuery(document).ready(function(){\n",
              "jQuery('.wpgs-for').slick({slidesToShow:1,slidesToScroll:1,arrows:true,fade:!1,infinite:!1,autoplay:false,nextArrow:'<i class=\"flaticon-right-arrow\"></i>',prevArrow:'<i class=\"flaticon-back\"></i>',asNavFor:'.wpgs-nav'});jQuery('.wpgs-nav').slick({slidesToShow:4,slidesToScroll:1,asNavFor:'.wpgs-for',dots:!1,infinite:!1,arrows:true,centerMode:!1,focusOnSelect:!0,responsive:[{breakpoint:767,settings:{slidesToShow:3,slidesToScroll:1,vertical:!1,draggable:!0,autoplay:!1,isMobile:!0,arrows:!1}},],})\n",
              "\n",
              "      });\n",
              "</script>\n",
              "<script id=\"yith_autocomplete-js\" src=\"https://coslovemetics.mk/wp-content/plugins/yith-woocommerce-ajax-search/assets/js/yith-autocomplete.min.js?ver=1.2.7\" type=\"text/javascript\"></script>\n",
              "<script id=\"yith-infinitescroll-js\" src=\"https://coslovemetics.mk/wp-content/plugins/yith-infinite-scrolling/assets/js/yith.infinitescroll.min.js?ver=1.2.0\" type=\"text/javascript\"></script>\n",
              "<script id=\"yith-infs-js-extra\" type=\"text/javascript\">\n",
              "/* <![CDATA[ */\n",
              "var yith_infs = {\"navSelector\":\".woocommerce-pagination\",\"nextSelector\":\".woocommerce-pagination .next page-numbers\",\"itemSelector\":\"li.product\",\"contentSelector\":\"ul.products\",\"loader\":\"http:\\/\\/coslovemetics.mk\\/app\\/plugins\\/yith-infinite-scrolling\\/assets\\/images\\/loader.gif\",\"shop\":\"1\"};\n",
              "/* ]]> */\n",
              "</script>\n",
              "<script id=\"yith-infs-js\" src=\"https://coslovemetics.mk/wp-content/plugins/yith-infinite-scrolling/assets/js/yith-infs.min.js?ver=1.2.0\" type=\"text/javascript\"></script>\n",
              "<script id=\"yith-wacp-frontend-script-js\" src=\"https://coslovemetics.mk/wp-content/plugins/yith-woocommerce-added-to-cart-popup/assets/js/wacp-frontend.min.js?ver=1.4.1\" type=\"text/javascript\"></script>\n",
              "<script id=\"prettyPhoto-js\" src=\"//coslovemetics.mk/wp-content/plugins/woocommerce/assets/js/prettyPhoto/jquery.prettyPhoto.min.js?ver=3.1.6\" type=\"text/javascript\"></script>\n",
              "<script id=\"understrap-scripts-js\" src=\"https://coslovemetics.mk/wp-content/themes/bebehome/js/theme.min.js?ver=0.9.4.1572205988\" type=\"text/javascript\"></script>\n",
              "<script id=\"custom-scripts-js\" src=\"https://coslovemetics.mk/wp-content/themes/bebehome/js/main.js\" type=\"text/javascript\"></script>\n",
              "<script id=\"xoo-wsc-main-js-js-extra\" type=\"text/javascript\">\n",
              "/* <![CDATA[ */\n",
              "var xoo_wsc_params = {\"adminurl\":\"https:\\/\\/coslovemetics.mk\\/wp-admin\\/admin-ajax.php\",\"wc_ajax_url\":\"\\/?wc-ajax=%%endpoint%%\",\"qtyUpdateDelay\":\"500\",\"notificationTime\":\"5000\",\"html\":{\"successNotice\":\"<ul class=\\\"xoo-wsc-notices\\\"><li class=\\\"xoo-wsc-notice-success\\\"><span class=\\\"xoo-wsc-icon-check_circle\\\"><\\/span>%s%<\\/li><\\/ul>\",\"errorNotice\":\"<ul class=\\\"xoo-wsc-notices\\\"><li class=\\\"xoo-wsc-notice-error\\\"><span class=\\\"xoo-wsc-icon-cross\\\"><\\/span>%s%<\\/li><\\/ul>\"},\"strings\":{\"maxQtyError\":\"Only %s% in stock\",\"stepQtyError\":\"Quantity can only be purchased in multiple of %s%\",\"calculateCheckout\":\"Please use checkout form to calculate shipping\",\"couponEmpty\":\"Please enter promo code\"},\"isCheckout\":\"\",\"isCart\":\"\",\"sliderAutoClose\":\"1\",\"shippingEnabled\":\"1\",\"couponsEnabled\":\"1\",\"autoOpenCart\":\"yes\",\"addedToCart\":\"\",\"ajaxAddToCart\":\"yes\",\"showBasket\":\"always_hide\",\"flyToCart\":\"no\",\"productFlyClass\":\"\",\"refreshCart\":\"yes\",\"fetchDelay\":\"200\"};\n",
              "/* ]]> */\n",
              "</script>\n",
              "<script id=\"xoo-wsc-main-js-js\" src=\"https://coslovemetics.mk/wp-content/plugins/side-cart-woocommerce/assets/js/xoo-wsc-main.js?ver=2.1\" type=\"text/javascript\"></script>\n",
              "<script id=\"moove_gdpr_frontend-js-extra\" type=\"text/javascript\">\n",
              "/* <![CDATA[ */\n",
              "var moove_frontend_gdpr_scripts = {\"ajaxurl\":\"https:\\/\\/coslovemetics.mk\\/wp-admin\\/admin-ajax.php\",\"post_id\":\"23514\",\"plugin_dir\":\"https:\\/\\/coslovemetics.mk\\/wp-content\\/plugins\\/gdpr-cookie-compliance\",\"show_icons\":\"all\",\"is_page\":\"\",\"strict_init\":\"2\",\"enabled_default\":{\"third_party\":1,\"advanced\":1},\"geo_location\":\"false\",\"force_reload\":\"true\",\"is_single\":\"\",\"hide_save_btn\":\"false\",\"current_user\":\"0\",\"cookie_expiration\":\"0\",\"script_delay\":\"2000\",\"wp_lang\":\"\"};\n",
              "/* ]]> */\n",
              "</script>\n",
              "<script id=\"moove_gdpr_frontend-js\" src=\"https://coslovemetics.mk/wp-content/plugins/gdpr-cookie-compliance/dist/scripts/main.js?ver=4.5.6\" type=\"text/javascript\"></script>\n",
              "<script id=\"hoverIntent-js\" src=\"https://coslovemetics.mk/wp-includes/js/hoverIntent.min.js?ver=1.8.1\" type=\"text/javascript\"></script>\n",
              "<script id=\"megamenu-js-extra\" type=\"text/javascript\">\n",
              "/* <![CDATA[ */\n",
              "var megamenu = {\"timeout\":\"300\",\"interval\":\"100\"};\n",
              "/* ]]> */\n",
              "</script>\n",
              "<script id=\"megamenu-js\" src=\"https://coslovemetics.mk/wp-content/plugins/megamenu/js/maxmegamenu.js?ver=2.9.3\" type=\"text/javascript\"></script>\n",
              "<script id=\"wp-embed-js\" src=\"https://coslovemetics.mk/wp-includes/js/wp-embed.min.js?ver=5.7.8\" type=\"text/javascript\"></script>\n",
              "<script id=\"yith_wcas_frontend-js-extra\" type=\"text/javascript\">\n",
              "/* <![CDATA[ */\n",
              "var yith_wcas_params = {\"loading\":\"https:\\/\\/coslovemetics.mk\\/wp-content\\/plugins\\/yith-woocommerce-ajax-search\\/assets\\/images\\/ajax-loader.gif\",\"ajax_url\":\"https:\\/\\/coslovemetics.mk\\/wp-admin\\/admin-ajax.php\"};\n",
              "/* ]]> */\n",
              "</script>\n",
              "<script id=\"yith_wcas_frontend-js\" src=\"https://coslovemetics.mk/wp-content/plugins/yith-woocommerce-ajax-search/assets/js/frontend.min.js?ver=1.0\" type=\"text/javascript\"></script>\n",
              "<script id=\"ywcca_accordion-js-extra\" type=\"text/javascript\">\n",
              "/* <![CDATA[ */\n",
              "var ywcca_params = {\"highlight_current_cat\":\"\",\"event_type\":\"click\",\"accordion_speed\":\"400\",\"accordion_close\":\"1\",\"open_sub_cat_parent\":\"1\",\"toggle_always\":\"1\"};\n",
              "/* ]]> */\n",
              "</script>\n",
              "<script id=\"ywcca_accordion-js\" src=\"https://coslovemetics.mk/wp-content/plugins/yith-woocommerce-category-accordion-premium/assets/js/ywcca_accordion.min.js?ver=1.0.31\" type=\"text/javascript\"></script>\n",
              "<script id=\"hover_intent-js\" src=\"https://coslovemetics.mk/wp-content/plugins/yith-woocommerce-category-accordion-premium/assets/js/jquery.hoverIntent.min.js?ver=1.0.31\" type=\"text/javascript\"></script>\n",
              "<script id=\"jquery-ui-core-js\" src=\"https://coslovemetics.mk/wp-includes/js/jquery/ui/core.min.js?ver=1.12.1\" type=\"text/javascript\"></script>\n",
              "<script id=\"jquery-ui-mouse-js\" src=\"https://coslovemetics.mk/wp-includes/js/jquery/ui/mouse.min.js?ver=1.12.1\" type=\"text/javascript\"></script>\n",
              "<script id=\"jquery-ui-slider-js\" src=\"https://coslovemetics.mk/wp-includes/js/jquery/ui/slider.min.js?ver=1.12.1\" type=\"text/javascript\"></script>\n",
              "<script id=\"wc-jquery-ui-touchpunch-js\" src=\"https://coslovemetics.mk/wp-content/plugins/woocommerce/assets/js/jquery-ui-touch-punch/jquery-ui-touch-punch.min.js?ver=4.1.4\" type=\"text/javascript\"></script>\n",
              "<script id=\"accounting-js\" src=\"https://coslovemetics.mk/wp-content/plugins/woocommerce/assets/js/accounting/accounting.min.js?ver=0.4.2\" type=\"text/javascript\"></script>\n",
              "<script id=\"wc-price-slider-js-extra\" type=\"text/javascript\">\n",
              "/* <![CDATA[ */\n",
              "var woocommerce_price_slider_params = {\"currency_format_num_decimals\":\"0\",\"currency_format_symbol\":\"\\u0434\\u0435\\u043d\",\"currency_format_decimal_sep\":\",\",\"currency_format_thousand_sep\":\".\",\"currency_format\":\"%v%s\"};\n",
              "/* ]]> */\n",
              "</script>\n",
              "<script id=\"wc-price-slider-js\" src=\"https://coslovemetics.mk/wp-content/plugins/woocommerce/assets/js/frontend/price-slider.min.js?ver=4.1.4\" type=\"text/javascript\"></script>\n",
              "<!-- WooCommerce JavaScript -->\n",
              "<script type=\"text/javascript\">\n",
              "jQuery(function($) { \n",
              "\n",
              "\t\t\tga( 'ec:addImpression', {\n",
              "\t\t\t\t'id': '23514',\n",
              "\t\t\t\t'name': 'Bebe Confort Well Beeing Oragnic oil for baby set',\n",
              "\t\t\t\t'category': 'SALE! SALE!',\n",
              "\t\t\t\t'list': 'Product List',\n",
              "\t\t\t\t'position': '1'\n",
              "\t\t\t} );\n",
              "\t\t\n",
              "\n",
              "\n",
              "\t\t\t$( '.products .post-23514 a' ).click( function() {\n",
              "\t\t\t\tif ( true === $(this).hasClass( 'add_to_cart_button' ) ) {\n",
              "\t\t\t\t\treturn;\n",
              "\t\t\t\t}\n",
              "\n",
              "\t\t\t\tga( 'ec:addProduct', {\n",
              "\t\t\t\t\t'id': '23514',\n",
              "\t\t\t\t\t'name': 'Bebe Confort Well Beeing Oragnic oil for baby set',\n",
              "\t\t\t\t\t'category': 'SALE! SALE!',\n",
              "\t\t\t\t\t'position': '1'\n",
              "\t\t\t\t});\n",
              "\n",
              "\t\t\t\tga( 'ec:setAction', 'click', { list: 'Product List' });\n",
              "\t\t\t\tga( 'send', 'event', 'UX', 'click', ' Product List' );\n",
              "\t\t\t});\n",
              "\t\t\n",
              "\n",
              "\n",
              "\t\t\tga( 'ec:addImpression', {\n",
              "\t\t\t\t'id': '20704',\n",
              "\t\t\t\t'name': 'Benton Aloe BHA Skin Toner 200ml',\n",
              "\t\t\t\t'category': 'Benton/SALE! SALE!/ЕКСФОЛИЈАНТИ/КОМБИНИРАНА/МРСНА/НОРМАЛНА/ТОНЕРИ',\n",
              "\t\t\t\t'list': 'Product List',\n",
              "\t\t\t\t'position': '2'\n",
              "\t\t\t} );\n",
              "\t\t\n",
              "\n",
              "\n",
              "\t\t\t$( '.products .post-20704 a' ).click( function() {\n",
              "\t\t\t\tif ( true === $(this).hasClass( 'add_to_cart_button' ) ) {\n",
              "\t\t\t\t\treturn;\n",
              "\t\t\t\t}\n",
              "\n",
              "\t\t\t\tga( 'ec:addProduct', {\n",
              "\t\t\t\t\t'id': '20704',\n",
              "\t\t\t\t\t'name': 'Benton Aloe BHA Skin Toner 200ml',\n",
              "\t\t\t\t\t'category': 'Benton/SALE! SALE!/ЕКСФОЛИЈАНТИ/КОМБИНИРАНА/МРСНА/НОРМАЛНА/ТОНЕРИ',\n",
              "\t\t\t\t\t'position': '2'\n",
              "\t\t\t\t});\n",
              "\n",
              "\t\t\t\tga( 'ec:setAction', 'click', { list: 'Product List' });\n",
              "\t\t\t\tga( 'send', 'event', 'UX', 'click', ' Product List' );\n",
              "\t\t\t});\n",
              "\t\t\n",
              "\n",
              "\n",
              "\t\t\tga( 'ec:addImpression', {\n",
              "\t\t\t\t'id': '20705',\n",
              "\t\t\t\t'name': 'BENTON Aloe Hyaluron Cream 50gr',\n",
              "\t\t\t\t'category': 'Benton/SALE! SALE!/КОМБИНИРАНА/КРЕМИ/МРСНА/НОРМАЛНА/СУВА/ЧУВСТВИТЕЛНА',\n",
              "\t\t\t\t'list': 'Product List',\n",
              "\t\t\t\t'position': '3'\n",
              "\t\t\t} );\n",
              "\t\t\n",
              "\n",
              "\n",
              "\t\t\t$( '.products .post-20705 a' ).click( function() {\n",
              "\t\t\t\tif ( true === $(this).hasClass( 'add_to_cart_button' ) ) {\n",
              "\t\t\t\t\treturn;\n",
              "\t\t\t\t}\n",
              "\n",
              "\t\t\t\tga( 'ec:addProduct', {\n",
              "\t\t\t\t\t'id': '20705',\n",
              "\t\t\t\t\t'name': 'BENTON Aloe Hyaluron Cream 50gr',\n",
              "\t\t\t\t\t'category': 'Benton/SALE! SALE!/КОМБИНИРАНА/КРЕМИ/МРСНА/НОРМАЛНА/СУВА/ЧУВСТВИТЕЛНА',\n",
              "\t\t\t\t\t'position': '3'\n",
              "\t\t\t\t});\n",
              "\n",
              "\t\t\t\tga( 'ec:setAction', 'click', { list: 'Product List' });\n",
              "\t\t\t\tga( 'send', 'event', 'UX', 'click', ' Product List' );\n",
              "\t\t\t});\n",
              "\t\t\n",
              "\n",
              "\n",
              "\t\t\tga( 'ec:addImpression', {\n",
              "\t\t\t\t'id': '20717',\n",
              "\t\t\t\t'name': 'BENTON Deep Green Tea Serum 30ml',\n",
              "\t\t\t\t'category': 'Benton/SALE! SALE!/КОМБИНИРАНА/МРСНА/СЕРУМИ / МАСЛА / АМПУЛИ/ЧУВСТВИТЕЛНА',\n",
              "\t\t\t\t'list': 'Product List',\n",
              "\t\t\t\t'position': '4'\n",
              "\t\t\t} );\n",
              "\t\t\n",
              "\n",
              "\n",
              "\t\t\t$( '.products .post-20717 a' ).click( function() {\n",
              "\t\t\t\tif ( true === $(this).hasClass( 'add_to_cart_button' ) ) {\n",
              "\t\t\t\t\treturn;\n",
              "\t\t\t\t}\n",
              "\n",
              "\t\t\t\tga( 'ec:addProduct', {\n",
              "\t\t\t\t\t'id': '20717',\n",
              "\t\t\t\t\t'name': 'BENTON Deep Green Tea Serum 30ml',\n",
              "\t\t\t\t\t'category': 'Benton/SALE! SALE!/КОМБИНИРАНА/МРСНА/СЕРУМИ / МАСЛА / АМПУЛИ/ЧУВСТВИТЕЛНА',\n",
              "\t\t\t\t\t'position': '4'\n",
              "\t\t\t\t});\n",
              "\n",
              "\t\t\t\tga( 'ec:setAction', 'click', { list: 'Product List' });\n",
              "\t\t\t\tga( 'send', 'event', 'UX', 'click', ' Product List' );\n",
              "\t\t\t});\n",
              "\t\t\n",
              "\n",
              "\n",
              "\t\t\tga( 'ec:addImpression', {\n",
              "\t\t\t\t'id': '20700',\n",
              "\t\t\t\t'name': 'Benton Snail Bee Ultimate Eye Cream 30gr.',\n",
              "\t\t\t\t'category': 'Benton/SALE! SALE!',\n",
              "\t\t\t\t'list': 'Product List',\n",
              "\t\t\t\t'position': '5'\n",
              "\t\t\t} );\n",
              "\t\t\n",
              "\n",
              "\n",
              "\t\t\t$( '.products .post-20700 a' ).click( function() {\n",
              "\t\t\t\tif ( true === $(this).hasClass( 'add_to_cart_button' ) ) {\n",
              "\t\t\t\t\treturn;\n",
              "\t\t\t\t}\n",
              "\n",
              "\t\t\t\tga( 'ec:addProduct', {\n",
              "\t\t\t\t\t'id': '20700',\n",
              "\t\t\t\t\t'name': 'Benton Snail Bee Ultimate Eye Cream 30gr.',\n",
              "\t\t\t\t\t'category': 'Benton/SALE! SALE!',\n",
              "\t\t\t\t\t'position': '5'\n",
              "\t\t\t\t});\n",
              "\n",
              "\t\t\t\tga( 'ec:setAction', 'click', { list: 'Product List' });\n",
              "\t\t\t\tga( 'send', 'event', 'UX', 'click', ' Product List' );\n",
              "\t\t\t});\n",
              "\t\t\n",
              "\n",
              "\n",
              "\t\t\tga( 'ec:addImpression', {\n",
              "\t\t\t\t'id': '20709',\n",
              "\t\t\t\t'name': 'BENTON Tea tree Mist 80ml',\n",
              "\t\t\t\t'category': 'Benton/SALE! SALE!/КОМБИНИРАНА/МРСНА/НОРМАЛНА/СУВА/ТОНЕРИ/ЧУВСТВИТЕЛНА',\n",
              "\t\t\t\t'list': 'Product List',\n",
              "\t\t\t\t'position': '6'\n",
              "\t\t\t} );\n",
              "\t\t\n",
              "\n",
              "\n",
              "\t\t\t$( '.products .post-20709 a' ).click( function() {\n",
              "\t\t\t\tif ( true === $(this).hasClass( 'add_to_cart_button' ) ) {\n",
              "\t\t\t\t\treturn;\n",
              "\t\t\t\t}\n",
              "\n",
              "\t\t\t\tga( 'ec:addProduct', {\n",
              "\t\t\t\t\t'id': '20709',\n",
              "\t\t\t\t\t'name': 'BENTON Tea tree Mist 80ml',\n",
              "\t\t\t\t\t'category': 'Benton/SALE! SALE!/КОМБИНИРАНА/МРСНА/НОРМАЛНА/СУВА/ТОНЕРИ/ЧУВСТВИТЕЛНА',\n",
              "\t\t\t\t\t'position': '6'\n",
              "\t\t\t\t});\n",
              "\n",
              "\t\t\t\tga( 'ec:setAction', 'click', { list: 'Product List' });\n",
              "\t\t\t\tga( 'send', 'event', 'UX', 'click', ' Product List' );\n",
              "\t\t\t});\n",
              "\t\t\n",
              "\n",
              "\n",
              "\t\t\tga( 'ec:addImpression', {\n",
              "\t\t\t\t'id': '27690',\n",
              "\t\t\t\t'name': 'COSRX Balancium Comfort Ceramide Cream Mist 120ml',\n",
              "\t\t\t\t'category': 'COSRX/SALE! SALE!/СУВА/ТОНЕРИ/ЧУВСТВИТЕЛНА',\n",
              "\t\t\t\t'list': 'Product List',\n",
              "\t\t\t\t'position': '7'\n",
              "\t\t\t} );\n",
              "\t\t\n",
              "\n",
              "\n",
              "\t\t\t$( '.products .post-27690 a' ).click( function() {\n",
              "\t\t\t\tif ( true === $(this).hasClass( 'add_to_cart_button' ) ) {\n",
              "\t\t\t\t\treturn;\n",
              "\t\t\t\t}\n",
              "\n",
              "\t\t\t\tga( 'ec:addProduct', {\n",
              "\t\t\t\t\t'id': '27690',\n",
              "\t\t\t\t\t'name': 'COSRX Balancium Comfort Ceramide Cream Mist 120ml',\n",
              "\t\t\t\t\t'category': 'COSRX/SALE! SALE!/СУВА/ТОНЕРИ/ЧУВСТВИТЕЛНА',\n",
              "\t\t\t\t\t'position': '7'\n",
              "\t\t\t\t});\n",
              "\n",
              "\t\t\t\tga( 'ec:setAction', 'click', { list: 'Product List' });\n",
              "\t\t\t\tga( 'send', 'event', 'UX', 'click', ' Product List' );\n",
              "\t\t\t});\n",
              "\t\t\n",
              "\n",
              "\n",
              "\t\t\tga( 'ec:addImpression', {\n",
              "\t\t\t\t'id': '20820',\n",
              "\t\t\t\t'name': 'COSRX Hydrium Centella Aqua Soothing Ampoule 40ml',\n",
              "\t\t\t\t'category': 'COSRX/SALE! SALE!/КОМБИНИРАНА/МРСНА/НОРМАЛНА/СЕРУМИ / МАСЛА / АМПУЛИ/СУВА/ЧУВСТВИТЕЛНА',\n",
              "\t\t\t\t'list': 'Product List',\n",
              "\t\t\t\t'position': '8'\n",
              "\t\t\t} );\n",
              "\t\t\n",
              "\n",
              "\n",
              "\t\t\t$( '.products .post-20820 a' ).click( function() {\n",
              "\t\t\t\tif ( true === $(this).hasClass( 'add_to_cart_button' ) ) {\n",
              "\t\t\t\t\treturn;\n",
              "\t\t\t\t}\n",
              "\n",
              "\t\t\t\tga( 'ec:addProduct', {\n",
              "\t\t\t\t\t'id': '20820',\n",
              "\t\t\t\t\t'name': 'COSRX Hydrium Centella Aqua Soothing Ampoule 40ml',\n",
              "\t\t\t\t\t'category': 'COSRX/SALE! SALE!/КОМБИНИРАНА/МРСНА/НОРМАЛНА/СЕРУМИ / МАСЛА / АМПУЛИ/СУВА/ЧУВСТВИТЕЛНА',\n",
              "\t\t\t\t\t'position': '8'\n",
              "\t\t\t\t});\n",
              "\n",
              "\t\t\t\tga( 'ec:setAction', 'click', { list: 'Product List' });\n",
              "\t\t\t\tga( 'send', 'event', 'UX', 'click', ' Product List' );\n",
              "\t\t\t});\n",
              "\t\t\n",
              "\n",
              "\n",
              "\t\t\tga( 'ec:addImpression', {\n",
              "\t\t\t\t'id': '35559',\n",
              "\t\t\t\t'name': 'COSRX Oil-Free Ultra-Moisturizing Lotion 100ml',\n",
              "\t\t\t\t'category': 'COSRX/SALE! SALE!/ТОНЕРИ',\n",
              "\t\t\t\t'list': 'Product List',\n",
              "\t\t\t\t'position': '9'\n",
              "\t\t\t} );\n",
              "\t\t\n",
              "\n",
              "\n",
              "\t\t\t$( '.products .post-35559 a' ).click( function() {\n",
              "\t\t\t\tif ( true === $(this).hasClass( 'add_to_cart_button' ) ) {\n",
              "\t\t\t\t\treturn;\n",
              "\t\t\t\t}\n",
              "\n",
              "\t\t\t\tga( 'ec:addProduct', {\n",
              "\t\t\t\t\t'id': '35559',\n",
              "\t\t\t\t\t'name': 'COSRX Oil-Free Ultra-Moisturizing Lotion 100ml',\n",
              "\t\t\t\t\t'category': 'COSRX/SALE! SALE!/ТОНЕРИ',\n",
              "\t\t\t\t\t'position': '9'\n",
              "\t\t\t\t});\n",
              "\n",
              "\t\t\t\tga( 'ec:setAction', 'click', { list: 'Product List' });\n",
              "\t\t\t\tga( 'send', 'event', 'UX', 'click', ' Product List' );\n",
              "\t\t\t});\n",
              "\t\t\n",
              "\n",
              "\n",
              "\t\t\tga( 'ec:addImpression', {\n",
              "\t\t\t\t'id': '26312',\n",
              "\t\t\t\t'name': 'Dr.Jart Ctrl-A Teatreement Moisturizer 50ml',\n",
              "\t\t\t\t'category': 'Dr.Jart+/SALE! SALE!/КОМБИНИРАНА/КРЕМИ/МРСНА/НОРМАЛНА/СУВА/ЧУВСТВИТЕЛНА',\n",
              "\t\t\t\t'list': 'Product List',\n",
              "\t\t\t\t'position': '10'\n",
              "\t\t\t} );\n",
              "\t\t\n",
              "\n",
              "\n",
              "\t\t\t$( '.products .post-26312 a' ).click( function() {\n",
              "\t\t\t\tif ( true === $(this).hasClass( 'add_to_cart_button' ) ) {\n",
              "\t\t\t\t\treturn;\n",
              "\t\t\t\t}\n",
              "\n",
              "\t\t\t\tga( 'ec:addProduct', {\n",
              "\t\t\t\t\t'id': '26312',\n",
              "\t\t\t\t\t'name': 'Dr.Jart Ctrl-A Teatreement Moisturizer 50ml',\n",
              "\t\t\t\t\t'category': 'Dr.Jart+/SALE! SALE!/КОМБИНИРАНА/КРЕМИ/МРСНА/НОРМАЛНА/СУВА/ЧУВСТВИТЕЛНА',\n",
              "\t\t\t\t\t'position': '10'\n",
              "\t\t\t\t});\n",
              "\n",
              "\t\t\t\tga( 'ec:setAction', 'click', { list: 'Product List' });\n",
              "\t\t\t\tga( 'send', 'event', 'UX', 'click', ' Product List' );\n",
              "\t\t\t});\n",
              "\t\t\n",
              "\n",
              "\n",
              "\t\t\tga( 'ec:addImpression', {\n",
              "\t\t\t\t'id': '24826',\n",
              "\t\t\t\t'name': 'Etude House Look At My Eyes Veil Breeze BR435',\n",
              "\t\t\t\t'category': 'Etude House/SALE! SALE!',\n",
              "\t\t\t\t'list': 'Product List',\n",
              "\t\t\t\t'position': '11'\n",
              "\t\t\t} );\n",
              "\t\t\n",
              "\n",
              "\n",
              "\t\t\t$( '.products .post-24826 a' ).click( function() {\n",
              "\t\t\t\tif ( true === $(this).hasClass( 'add_to_cart_button' ) ) {\n",
              "\t\t\t\t\treturn;\n",
              "\t\t\t\t}\n",
              "\n",
              "\t\t\t\tga( 'ec:addProduct', {\n",
              "\t\t\t\t\t'id': '24826',\n",
              "\t\t\t\t\t'name': 'Etude House Look At My Eyes Veil Breeze BR435',\n",
              "\t\t\t\t\t'category': 'Etude House/SALE! SALE!',\n",
              "\t\t\t\t\t'position': '11'\n",
              "\t\t\t\t});\n",
              "\n",
              "\t\t\t\tga( 'ec:setAction', 'click', { list: 'Product List' });\n",
              "\t\t\t\tga( 'send', 'event', 'UX', 'click', ' Product List' );\n",
              "\t\t\t});\n",
              "\t\t\n",
              "\n",
              "\n",
              "\t\t\tga( 'ec:addImpression', {\n",
              "\t\t\t\t'id': '24832',\n",
              "\t\t\t\t'name': 'Etude House Look At My Eyes Veil Breeze Café OR211',\n",
              "\t\t\t\t'category': 'Etude House/SALE! SALE!',\n",
              "\t\t\t\t'list': 'Product List',\n",
              "\t\t\t\t'position': '12'\n",
              "\t\t\t} );\n",
              "\t\t\n",
              "\n",
              "\n",
              "\t\t\t$( '.products .post-24832 a' ).click( function() {\n",
              "\t\t\t\tif ( true === $(this).hasClass( 'add_to_cart_button' ) ) {\n",
              "\t\t\t\t\treturn;\n",
              "\t\t\t\t}\n",
              "\n",
              "\t\t\t\tga( 'ec:addProduct', {\n",
              "\t\t\t\t\t'id': '24832',\n",
              "\t\t\t\t\t'name': 'Etude House Look At My Eyes Veil Breeze Café OR211',\n",
              "\t\t\t\t\t'category': 'Etude House/SALE! SALE!',\n",
              "\t\t\t\t\t'position': '12'\n",
              "\t\t\t\t});\n",
              "\n",
              "\t\t\t\tga( 'ec:setAction', 'click', { list: 'Product List' });\n",
              "\t\t\t\tga( 'send', 'event', 'UX', 'click', ' Product List' );\n",
              "\t\t\t});\n",
              "\t\t\n",
              "\n",
              "\n",
              "\t\t\t\t\t$( '.add_to_cart_button:not(.product_type_variable, .product_type_grouped)' ).click( function() {\n",
              "\t\t\t\t\t\tga( 'ec:addProduct', {'id': ($(this).data('product_sku')) ? ($(this).data('product_sku')) : ('#' + $(this).data('product_id')),'quantity': $(this).data('quantity')} );\n",
              "\t\t\t\t\t\tga( 'ec:setAction', 'add' );\n",
              "\t\t\t\t\t\tga( 'send', 'event', 'UX', 'click', 'add to cart' );\n",
              "\t\t\t\t\t});\n",
              "\t\t\t\t\n",
              "\n",
              "ga( 'send', 'pageview' ); \n",
              " });\n",
              "</script>\n",
              "<script type=\"text/javascript\">\n",
              "( function( grecaptcha, sitekey, actions ) {\n",
              "\n",
              "\tvar wpcf7recaptcha = {\n",
              "\n",
              "\t\texecute: function( action ) {\n",
              "\t\t\tgrecaptcha.execute(\n",
              "\t\t\t\tsitekey,\n",
              "\t\t\t\t{ action: action }\n",
              "\t\t\t).then( function( token ) {\n",
              "\t\t\t\tvar forms = document.getElementsByTagName( 'form' );\n",
              "\n",
              "\t\t\t\tfor ( var i = 0; i < forms.length; i++ ) {\n",
              "\t\t\t\t\tvar fields = forms[ i ].getElementsByTagName( 'input' );\n",
              "\n",
              "\t\t\t\t\tfor ( var j = 0; j < fields.length; j++ ) {\n",
              "\t\t\t\t\t\tvar field = fields[ j ];\n",
              "\n",
              "\t\t\t\t\t\tif ( 'g-recaptcha-response' === field.getAttribute( 'name' ) ) {\n",
              "\t\t\t\t\t\t\tfield.setAttribute( 'value', token );\n",
              "\t\t\t\t\t\t\tbreak;\n",
              "\t\t\t\t\t\t}\n",
              "\t\t\t\t\t}\n",
              "\t\t\t\t}\n",
              "\t\t\t} );\n",
              "\t\t},\n",
              "\n",
              "\t\texecuteOnHomepage: function() {\n",
              "\t\t\twpcf7recaptcha.execute( actions[ 'homepage' ] );\n",
              "\t\t},\n",
              "\n",
              "\t\texecuteOnContactform: function() {\n",
              "\t\t\twpcf7recaptcha.execute( actions[ 'contactform' ] );\n",
              "\t\t},\n",
              "\n",
              "\t};\n",
              "\n",
              "\tgrecaptcha.ready(\n",
              "\t\twpcf7recaptcha.executeOnHomepage\n",
              "\t);\n",
              "\n",
              "\tdocument.addEventListener( 'change',\n",
              "\t\twpcf7recaptcha.executeOnContactform, false\n",
              "\t);\n",
              "\n",
              "\tdocument.addEventListener( 'wpcf7submit',\n",
              "\t\twpcf7recaptcha.executeOnHomepage, false\n",
              "\t);\n",
              "\n",
              "} )(\n",
              "\tgrecaptcha,\n",
              "\t'6LcjDRAgAAAAAMpZxNeg2-TeqAc0vGNqw_KRO9Mc',\n",
              "\t{\"homepage\":\"homepage\",\"contactform\":\"contactform\"}\n",
              ");\n",
              "</script>\n",
              "<!-- V1 -->\n",
              "<div aria-label=\"GDPR Settings Screen\" class=\"gdpr_lightbox-hide\" id=\"moove_gdpr_cookie_modal\" role=\"complementary\">\n",
              "<div class=\"moove-gdpr-modal-content moove-clearfix logo-position-left moove_gdpr_modal_theme_v1\">\n",
              "<button aria-label=\"Close GDPR Cookie Settings\" class=\"moove-gdpr-modal-close\">\n",
              "<span class=\"gdpr-sr-only\">Close GDPR Cookie Settings</span>\n",
              "<span class=\"gdpr-icon moovegdpr-arrow-close\"></span>\n",
              "</button>\n",
              "<div class=\"moove-gdpr-modal-left-content\">\n",
              "<div class=\"moove-gdpr-company-logo-holder\">\n",
              "<img alt=\"Coslovemetics.mk\" class=\"img-responsive\" src=\"https://coslovemetics.mk/wp-content/themes/bebehome/img/logo.svg\" title=\"Coslovemetics.mk\"/>\n",
              "</div>\n",
              "<!--  .moove-gdpr-company-logo-holder --> <ul id=\"moove-gdpr-menu\">\n",
              "<li class=\"menu-item-on menu-item-privacy_overview menu-item-selected\">\n",
              "<button aria-label=\"Политика на колачиња\" class=\"moove-gdpr-tab-nav\" data-href=\"#privacy_overview\">\n",
              "<span class=\"gdpr-svg-icon\">\n",
              "<svg class=\"icon icon-privacy-overview\" viewbox=\"0 0 26 32\">\n",
              "<path d=\"M11.082 27.443l1.536 0.666 1.715-0.717c5.018-2.099 8.294-7.014 8.294-12.442v-5.734l-9.958-5.325-9.702 5.325v5.862c0 5.376 3.2 10.24 8.115 12.365zM4.502 10.138l8.166-4.506 8.397 4.506v4.813c0 4.838-2.893 9.19-7.347 11.034l-1.101 0.461-0.922-0.41c-4.352-1.894-7.194-6.195-7.194-10.957v-4.941zM12.029 14.259h1.536v7.347h-1.536v-7.347zM12.029 10.394h1.536v2.483h-1.536v-2.483z\" fill=\"currentColor\"></path>\n",
              "</svg>\n",
              "</span>\n",
              "<span class=\"gdpr-nav-tab-title\">Политика на колачиња</span>\n",
              "</button>\n",
              "</li>\n",
              "<li class=\"menu-item-strict-necessary-cookies menu-item-off\">\n",
              "<button aria-label=\"Неопходни и функционални колачиња\" class=\"moove-gdpr-tab-nav\" data-href=\"#strict-necessary-cookies\">\n",
              "<span class=\"gdpr-svg-icon\">\n",
              "<svg class=\"icon icon-strict-necessary\" viewbox=\"0 0 26 32\">\n",
              "<path d=\"M22.685 5.478l-9.984 10.752-2.97-4.070c-0.333-0.461-0.973-0.538-1.434-0.205-0.435 0.333-0.538 0.947-0.23 1.408l3.686 5.094c0.179 0.256 0.461 0.41 0.768 0.435h0.051c0.282 0 0.538-0.102 0.742-0.307l10.854-11.699c0.358-0.435 0.333-1.075-0.102-1.434-0.384-0.384-0.998-0.358-1.382 0.026v0zM22.301 12.954c-0.563 0.102-0.922 0.64-0.794 1.203 0.128 0.614 0.179 1.229 0.179 1.843 0 5.094-4.122 9.216-9.216 9.216s-9.216-4.122-9.216-9.216 4.122-9.216 9.216-9.216c1.536 0 3.021 0.384 4.378 1.101 0.512 0.23 1.126 0 1.357-0.538 0.205-0.461 0.051-0.998-0.384-1.254-5.478-2.944-12.314-0.922-15.283 4.557s-0.922 12.314 4.557 15.258 12.314 0.922 15.258-4.557c0.896-1.638 1.357-3.482 1.357-5.35 0-0.768-0.077-1.51-0.23-2.253-0.102-0.538-0.64-0.896-1.178-0.794z\" fill=\"currentColor\"></path>\n",
              "</svg>\n",
              "</span>\n",
              "<span class=\"gdpr-nav-tab-title\">Неопходни и функционални колачиња</span>\n",
              "</button>\n",
              "</li>\n",
              "<li class=\"menu-item-off menu-item-third_party_cookies\">\n",
              "<button aria-label=\"Колачиња за аналитика\" class=\"moove-gdpr-tab-nav\" data-href=\"#third_party_cookies\">\n",
              "<span class=\"gdpr-svg-icon\">\n",
              "<svg class=\"icon icon-3rd-party\" viewbox=\"0 0 26 32\">\n",
              "<path d=\"M25.367 3.231c-0.020 0-0.040 0-0.060 0.020l-4.98 1.080c-0.16 0.040-0.2 0.16-0.080 0.28l1.42 1.42-10.060 10.040 1.14 1.14 10.060-10.060 1.42 1.42c0.12 0.12 0.24 0.080 0.28-0.080l1.060-5.020c0-0.14-0.080-0.26-0.2-0.24zM1.427 6.371c-0.74 0-1.4 0.66-1.4 1.4v19.6c0 0.74 0.66 1.4 1.4 1.4h19.6c0.74 0 1.4-0.66 1.4-1.4v-14.6h-1.6v14.4h-19.2v-19.2h14.38v-1.6h-14.58z\" fill=\"currentColor\"></path>\n",
              "</svg>\n",
              "</span>\n",
              "<span class=\"gdpr-nav-tab-title\">Колачиња за аналитика</span>\n",
              "</button>\n",
              "</li>\n",
              "</ul>\n",
              "<div class=\"moove-gdpr-branding-cnt\">\n",
              "</div>\n",
              "<!--  .moove-gdpr-branding --> </div>\n",
              "<!--  .moove-gdpr-modal-left-content -->\n",
              "<div class=\"moove-gdpr-modal-right-content\">\n",
              "<div class=\"moove-gdpr-modal-title\">\n",
              "</div>\n",
              "<!-- .moove-gdpr-modal-ritle -->\n",
              "<div class=\"main-modal-content\">\n",
              "<div class=\"moove-gdpr-tab-content\">\n",
              "<div class=\"moove-gdpr-tab-main\" id=\"privacy_overview\">\n",
              "<span class=\"tab-title\">Политика на колачиња</span>\n",
              "<div class=\"moove-gdpr-tab-main-content\">\n",
              "<p>Оваа веб-страница користи колачиња за да можеме да ви го овозможиме најдоброто можно корисничко искуство.<br/>\n",
              "Информациите за колачињата се зачувани во вашиот прелистувач и извршуваат функции како што е препознавањето кога ќе се вратите на нашата веб-страница и им помагаат на нашиот тим да разбере кои делови од веб-страницата ги сметате за најинтересни и корисни.</p>\n",
              "</div>\n",
              "<!--  .moove-gdpr-tab-main-content -->\n",
              "</div>\n",
              "<!-- #privacy_overview -->\n",
              "<div class=\"moove-gdpr-tab-main\" id=\"strict-necessary-cookies\" style=\"display:none\">\n",
              "<span class=\"tab-title\">Неопходни и функционални колачиња</span>\n",
              "<div class=\"moove-gdpr-tab-main-content\">\n",
              "<p>Неопходните колачиња треба да бидат овозможени во секое време за да можеме да ги зачуваме вашите преференции за поставките за колачиња.</p>\n",
              "<p>За функционалноста на веб-страницата користиме и таканаречени функционални колачиња кои се од суштинско значење. Обработката од функционалните колачиња е неопходна за да ви овозможиме да ја посетувате веб-страницата и истите обезбедуваат основна функционалност, како на пример помнење на содржината на вашиот список со желби;</p>\n",
              "<div class=\"moove-gdpr-status-bar gdpr-checkbox-disabled checkbox-selected\">\n",
              "<div class=\"gdpr-cc-form-wrap\">\n",
              "<div class=\"gdpr-cc-form-fieldset\">\n",
              "<label class=\"cookie-switch\" for=\"moove_gdpr_strict_cookies\">\n",
              "<span class=\"gdpr-sr-only\">Enable or Disable Cookies</span>\n",
              "<input aria-label=\"Неопходни и функционални колачиња\" checked=\"checked\" disabled=\"\" id=\"moove_gdpr_strict_cookies\" name=\"moove_gdpr_strict_cookies\" type=\"checkbox\" value=\"check\"/>\n",
              "<span class=\"cookie-slider cookie-round\" data-text-disabled=\"Оневозможи\" data-text-enable=\"Овозможено\"></span>\n",
              "</label>\n",
              "</div>\n",
              "<!-- .gdpr-cc-form-fieldset -->\n",
              "</div>\n",
              "<!-- .gdpr-cc-form-wrap -->\n",
              "</div>\n",
              "<!-- .moove-gdpr-status-bar -->\n",
              "<div class=\"moove-gdpr-strict-warning-message\" style=\"margin-top: 10px;\">\n",
              "<p>Ако ги оневозможите овие колачиња, нема да можеме да ги зачуваме вашите преференции. ТОа значи дека секогаш кога ќе ја посетите нашата веб-страница ќе треба повторно да овозможите или оневозможите колачиња.</p>\n",
              "</div>\n",
              "<!--  .moove-gdpr-tab-main-content -->\n",
              "</div>\n",
              "<!--  .moove-gdpr-tab-main-content -->\n",
              "</div>\n",
              "<!-- #strict-necesarry-cookies -->\n",
              "<div class=\"moove-gdpr-tab-main\" id=\"third_party_cookies\" style=\"display:none\">\n",
              "<span class=\"tab-title\">Колачиња за аналитика</span>\n",
              "<div class=\"moove-gdpr-tab-main-content\">\n",
              "<p>Оваа веб-страница користи Google Analytics за да добие анонимни информации, како што се бројот на посетители на страницата и најпопуларните делови од истата.</p>\n",
              "<div class=\"moove-gdpr-status-bar\">\n",
              "<div class=\"gdpr-cc-form-wrap\">\n",
              "<div class=\"gdpr-cc-form-fieldset\">\n",
              "<label class=\"cookie-switch\" for=\"moove_gdpr_performance_cookies\">\n",
              "<span class=\"gdpr-sr-only\">Enable or Disable Cookies</span>\n",
              "<input aria-label=\"Колачиња за аналитика\" id=\"moove_gdpr_performance_cookies\" name=\"moove_gdpr_performance_cookies\" type=\"checkbox\" value=\"check\"/>\n",
              "<span class=\"cookie-slider cookie-round\" data-text-disabled=\"Оневозможи\" data-text-enable=\"Овозможено\"></span>\n",
              "</label>\n",
              "</div>\n",
              "<!-- .gdpr-cc-form-fieldset -->\n",
              "</div>\n",
              "<!-- .gdpr-cc-form-wrap -->\n",
              "</div>\n",
              "<!-- .moove-gdpr-status-bar -->\n",
              "<div class=\"moove-gdpr-strict-secondary-warning-message\" style=\"margin-top: 10px; display: none;\">\n",
              "<p>&lt;p&gt;Ве молиме одобрете ги Неопходните колачиња прво.&lt;/p&gt;</p>\n",
              "</div>\n",
              "<!--  .moove-gdpr-tab-main-content -->\n",
              "</div>\n",
              "<!--  .moove-gdpr-tab-main-content -->\n",
              "</div>\n",
              "<!-- #third_party_cookies -->\n",
              "</div>\n",
              "<!--  .moove-gdpr-tab-content -->\n",
              "</div>\n",
              "<!--  .main-modal-content -->\n",
              "<div class=\"moove-gdpr-modal-footer-content\">\n",
              "<div class=\"moove-gdpr-button-holder\">\n",
              "<button aria-label=\"Прифати ги сите\" class=\"mgbutton moove-gdpr-modal-allow-all button-visible\">Прифати ги сите</button>\n",
              "<button aria-label=\"Зачувај\" class=\"mgbutton moove-gdpr-modal-save-settings button-visible\">Зачувај</button>\n",
              "</div>\n",
              "<!--  .moove-gdpr-button-holder --> </div>\n",
              "<!--  .moove-gdpr-modal-footer-content -->\n",
              "</div>\n",
              "<!--  .moove-gdpr-modal-right-content -->\n",
              "<div class=\"moove-clearfix\"></div>\n",
              "</div>\n",
              "<!--  .moove-gdpr-modal-content -->\n",
              "</div>\n",
              "<!-- #moove_gdpr_cookie_modal -->\n",
              "\n"
            ]
          },
          "metadata": {},
          "execution_count": 107
        }
      ]
    },
    {
      "cell_type": "markdown",
      "metadata": {
        "id": "mqvuxiNJvOT8"
      },
      "source": [
        "# <font color='Orange'>Extracting data</font>"
      ]
    },
    {
      "cell_type": "markdown",
      "metadata": {
        "id": "gbdg1SjjvTmB"
      },
      "source": [
        "From the printed HTML code search for the data you need for building the dataset, find the classes for groupby option.\n",
        "\n",
        "**In the following text-box write the attributes you are going to use**"
      ]
    },
    {
      "cell_type": "markdown",
      "source": [
        "<font color='red'> You need to extract a minimum of four features (lists/columns) from the web site (example: titles, posting time, comments, likes, ...)</font>"
      ],
      "metadata": {
        "id": "6ygtTW4PmNmW"
      }
    },
    {
      "cell_type": "markdown",
      "metadata": {
        "id": "s4-413sPvzUy"
      },
      "source": [
        "`процент на попуст, наслов, редовна цена, намалена цена`"
      ]
    },
    {
      "cell_type": "markdown",
      "metadata": {
        "id": "rl9n1bepzUdy"
      },
      "source": [
        "**Try to select the first element from your attributes. Find out from the html code what part do you need.**"
      ]
    },
    {
      "cell_type": "markdown",
      "source": [
        "**Процент на попуст**"
      ],
      "metadata": {
        "id": "0eTy7NpE8gZa"
      }
    },
    {
      "cell_type": "code",
      "source": [
        "html.select_one('.onsale')"
      ],
      "metadata": {
        "colab": {
          "base_uri": "https://localhost:8080/"
        },
        "id": "tkc9bsow8f0X",
        "outputId": "c73843a3-0196-4790-f0b3-185fbc85254b"
      },
      "execution_count": 108,
      "outputs": [
        {
          "output_type": "execute_result",
          "data": {
            "text/plain": [
              "<span class=\"onsale\">28% попуст </span>"
            ]
          },
          "metadata": {},
          "execution_count": 108
        }
      ]
    },
    {
      "cell_type": "markdown",
      "source": [
        "**Наслов**"
      ],
      "metadata": {
        "id": "vffKdyI7LGml"
      }
    },
    {
      "cell_type": "code",
      "metadata": {
        "id": "z7JDG2pGvSTo",
        "colab": {
          "base_uri": "https://localhost:8080/"
        },
        "outputId": "80744ea9-5eb2-4383-b6c5-f798bb70a7a4"
      },
      "source": [
        "html.select_one('.woocommerce-loop-product__title')"
      ],
      "execution_count": 109,
      "outputs": [
        {
          "output_type": "execute_result",
          "data": {
            "text/plain": [
              "<h2 class=\"woocommerce-loop-product__title\">Bebe Confort Well Beeing Oragnic oil for baby set</h2>"
            ]
          },
          "metadata": {},
          "execution_count": 109
        }
      ]
    },
    {
      "cell_type": "markdown",
      "source": [
        "**Редовна цена**"
      ],
      "metadata": {
        "id": "BwNa8T1_9Bvo"
      }
    },
    {
      "cell_type": "code",
      "source": [
        "html.select_one('del')"
      ],
      "metadata": {
        "colab": {
          "base_uri": "https://localhost:8080/"
        },
        "id": "Ms4GIw1G9Eh7",
        "outputId": "396dad51-0480-45a0-87da-599523a73589"
      },
      "execution_count": 110,
      "outputs": [
        {
          "output_type": "execute_result",
          "data": {
            "text/plain": [
              "<del><span class=\"woocommerce-Price-amount amount\">2.090<span class=\"woocommerce-Price-currencySymbol\">ден</span></span></del>"
            ]
          },
          "metadata": {},
          "execution_count": 110
        }
      ]
    },
    {
      "cell_type": "markdown",
      "source": [
        "**Намалена цена**"
      ],
      "metadata": {
        "id": "vx3rMQ3Z9OwG"
      }
    },
    {
      "cell_type": "code",
      "source": [
        "html.select_one('ins')"
      ],
      "metadata": {
        "colab": {
          "base_uri": "https://localhost:8080/"
        },
        "id": "zGhf-V2l9Rgm",
        "outputId": "301da8ef-4834-4918-a0de-0d036b9bf51d"
      },
      "execution_count": 111,
      "outputs": [
        {
          "output_type": "execute_result",
          "data": {
            "text/plain": [
              "<ins><span class=\"woocommerce-Price-amount amount\">1.512<span class=\"woocommerce-Price-currencySymbol\">ден</span></span></ins>"
            ]
          },
          "metadata": {},
          "execution_count": 111
        }
      ]
    },
    {
      "cell_type": "markdown",
      "metadata": {
        "id": "XLlJNiHBwB_V"
      },
      "source": [
        "**Add as many codeboxes as you need for selecting all the html elements**"
      ]
    },
    {
      "cell_type": "markdown",
      "source": [
        "*Проценти на попусти*"
      ],
      "metadata": {
        "id": "O14v4AYE_8-K"
      }
    },
    {
      "cell_type": "code",
      "source": [
        "percent_off = html.find_all(\"span\", {\"class\": \"onsale\"})\n",
        "len(percent_off)"
      ],
      "metadata": {
        "colab": {
          "base_uri": "https://localhost:8080/"
        },
        "id": "WCdC4rk4ABIM",
        "outputId": "608be586-ed5e-464f-ae8f-52aabc93228f"
      },
      "execution_count": 112,
      "outputs": [
        {
          "output_type": "execute_result",
          "data": {
            "text/plain": [
              "12"
            ]
          },
          "metadata": {},
          "execution_count": 112
        }
      ]
    },
    {
      "cell_type": "markdown",
      "source": [
        "*Наслови*"
      ],
      "metadata": {
        "id": "61knGOZ8-E9B"
      }
    },
    {
      "cell_type": "code",
      "source": [
        "product_titles = html.find_all(\"h2\", {\"class\": \"woocommerce-loop-product__title\"})\n",
        "len(product_titles)"
      ],
      "metadata": {
        "colab": {
          "base_uri": "https://localhost:8080/"
        },
        "id": "u7RAfgUv-HxH",
        "outputId": "fbd7cded-4994-49da-b2a4-5468313c6544"
      },
      "execution_count": 113,
      "outputs": [
        {
          "output_type": "execute_result",
          "data": {
            "text/plain": [
              "12"
            ]
          },
          "metadata": {},
          "execution_count": 113
        }
      ]
    },
    {
      "cell_type": "markdown",
      "source": [
        "*Цени*"
      ],
      "metadata": {
        "id": "mIFU_EXLFGmx"
      }
    },
    {
      "cell_type": "code",
      "source": [
        "prices = html.find_all(\"span\", {\"class\": \"woocommerce-Price-amount amount\"})\n",
        "len(prices)"
      ],
      "metadata": {
        "colab": {
          "base_uri": "https://localhost:8080/"
        },
        "id": "zTkNsYzcFKrs",
        "outputId": "d734bb38-ab81-40c0-cdb3-e3ead24af658"
      },
      "execution_count": 114,
      "outputs": [
        {
          "output_type": "execute_result",
          "data": {
            "text/plain": [
              "24"
            ]
          },
          "metadata": {},
          "execution_count": 114
        }
      ]
    },
    {
      "cell_type": "markdown",
      "metadata": {
        "id": "3FYrNwA2xRYi"
      },
      "source": [
        "**Create lists with the extracted data from the html elements that you selected**"
      ]
    },
    {
      "cell_type": "markdown",
      "source": [
        "*Проценти на попусти*"
      ],
      "metadata": {
        "id": "waqjNk8cTrFQ"
      }
    },
    {
      "cell_type": "code",
      "source": [
        "percent_off_elements = []\n",
        "\n",
        "for i in range(0, len(percent_off)):\n",
        "  percent_off_elements.append(percent_off[i].text)"
      ],
      "metadata": {
        "id": "uBqlrwg9TjJM"
      },
      "execution_count": 115,
      "outputs": []
    },
    {
      "cell_type": "markdown",
      "source": [
        "*Наслови*"
      ],
      "metadata": {
        "id": "vPdMkEkxUSYZ"
      }
    },
    {
      "cell_type": "code",
      "source": [
        "product_titles_elements = []\n",
        "\n",
        "for i in range(0, len(product_titles)):\n",
        "  product_titles_elements.append(product_titles[i].text)"
      ],
      "metadata": {
        "id": "3Y6mAFHlUUzP"
      },
      "execution_count": 116,
      "outputs": []
    },
    {
      "cell_type": "markdown",
      "source": [
        "*Цени*"
      ],
      "metadata": {
        "id": "gomS-9_1UgcO"
      }
    },
    {
      "cell_type": "code",
      "source": [
        "prices_elements = []\n",
        "\n",
        "for i in range(0, len(prices)):\n",
        "  prices_elements.append(prices[i].text)"
      ],
      "metadata": {
        "id": "1JFDUv_RUi3g"
      },
      "execution_count": 117,
      "outputs": []
    },
    {
      "cell_type": "markdown",
      "source": [
        "*Редовни цени*"
      ],
      "metadata": {
        "id": "xcfQ6XdQUwP2"
      }
    },
    {
      "cell_type": "code",
      "source": [
        "full_prices = []"
      ],
      "metadata": {
        "id": "emymKf4dUyGQ"
      },
      "execution_count": 118,
      "outputs": []
    },
    {
      "cell_type": "markdown",
      "source": [
        "*Намалени цени*"
      ],
      "metadata": {
        "id": "cIh7Tsr6U0Wa"
      }
    },
    {
      "cell_type": "code",
      "source": [
        "sale_prices = []"
      ],
      "metadata": {
        "id": "0LNrDFD2U2N7"
      },
      "execution_count": 119,
      "outputs": []
    },
    {
      "cell_type": "markdown",
      "metadata": {
        "id": "owIxGxmHxFSF"
      },
      "source": [
        "**Print all lists that are containing the elements**"
      ]
    },
    {
      "cell_type": "markdown",
      "source": [
        "*Проценти на попусти*"
      ],
      "metadata": {
        "id": "qOuHWIxrTwPh"
      }
    },
    {
      "cell_type": "code",
      "metadata": {
        "id": "Etep-NWrxP57",
        "colab": {
          "base_uri": "https://localhost:8080/"
        },
        "outputId": "4b37e613-69db-4528-a130-a0fec6d77b0f"
      },
      "source": [
        "percent_off_elements"
      ],
      "execution_count": 120,
      "outputs": [
        {
          "output_type": "execute_result",
          "data": {
            "text/plain": [
              "['28% попуст ',\n",
              " '30% попуст ',\n",
              " '30% попуст ',\n",
              " '29% попуст ',\n",
              " '37% попуст ',\n",
              " '50% попуст ',\n",
              " '27% попуст ',\n",
              " '30% попуст ',\n",
              " '30% попуст ',\n",
              " '15% попуст ',\n",
              " '35% попуст ',\n",
              " '35% попуст ']"
            ]
          },
          "metadata": {},
          "execution_count": 120
        }
      ]
    },
    {
      "cell_type": "markdown",
      "source": [
        "*Наслови*"
      ],
      "metadata": {
        "id": "4q1PT-ifUJ3J"
      }
    },
    {
      "cell_type": "code",
      "source": [
        "product_titles_elements"
      ],
      "metadata": {
        "colab": {
          "base_uri": "https://localhost:8080/"
        },
        "id": "USoH_qdyUKpI",
        "outputId": "7cc38a74-76ff-4345-e38c-ff26c9698c1e"
      },
      "execution_count": 121,
      "outputs": [
        {
          "output_type": "execute_result",
          "data": {
            "text/plain": [
              "['Bebe Confort Well Beeing Oragnic oil for baby set',\n",
              " 'Benton Aloe BHA Skin Toner 200ml',\n",
              " 'BENTON Aloe Hyaluron Cream 50gr',\n",
              " 'BENTON Deep Green Tea Serum 30ml',\n",
              " 'Benton Snail Bee Ultimate Eye Cream 30gr.',\n",
              " 'BENTON Tea tree Mist 80ml',\n",
              " 'COSRX Balancium Comfort Ceramide Cream Mist 120ml',\n",
              " 'COSRX Hydrium Centella Aqua Soothing Ampoule 40ml',\n",
              " 'COSRX Oil-Free Ultra-Moisturizing Lotion 100ml',\n",
              " 'Dr.Jart Ctrl-A Teatreement Moisturizer 50ml',\n",
              " 'Etude House Look At My Eyes Veil Breeze BR435',\n",
              " 'Etude House Look At My Eyes Veil Breeze Café OR211']"
            ]
          },
          "metadata": {},
          "execution_count": 121
        }
      ]
    },
    {
      "cell_type": "markdown",
      "source": [
        "*Цени*"
      ],
      "metadata": {
        "id": "Yy9aHe04UpQN"
      }
    },
    {
      "cell_type": "code",
      "source": [
        "prices_elements"
      ],
      "metadata": {
        "colab": {
          "base_uri": "https://localhost:8080/"
        },
        "id": "ZtkxgHbxUqeC",
        "outputId": "58bbd318-f9a0-4e5e-a49e-15afce7e5176"
      },
      "execution_count": 122,
      "outputs": [
        {
          "output_type": "execute_result",
          "data": {
            "text/plain": [
              "['2.090ден',\n",
              " '1.512ден',\n",
              " '1.354ден',\n",
              " '948ден',\n",
              " '1.354ден',\n",
              " '948ден',\n",
              " '1.320ден',\n",
              " '937ден',\n",
              " '2.031ден',\n",
              " '1.280ден',\n",
              " '1.538ден',\n",
              " '769ден',\n",
              " '1.590ден',\n",
              " '1.161ден',\n",
              " '1.590ден',\n",
              " '1.113ден',\n",
              " '1.490ден',\n",
              " '1.043ден',\n",
              " '1.990ден',\n",
              " '1.692ден',\n",
              " '320ден',\n",
              " '208ден',\n",
              " '320ден',\n",
              " '208ден']"
            ]
          },
          "metadata": {},
          "execution_count": 122
        }
      ]
    },
    {
      "cell_type": "markdown",
      "source": [
        "*Редовни цени*"
      ],
      "metadata": {
        "id": "0ANuZDGxVGQ8"
      }
    },
    {
      "cell_type": "code",
      "source": [
        "full_prices = prices_elements[::2]\n",
        "print(full_prices)"
      ],
      "metadata": {
        "colab": {
          "base_uri": "https://localhost:8080/"
        },
        "id": "K27xR_yuVIk-",
        "outputId": "e4e0bd4c-e6a6-4c30-a532-635843b7e6f8"
      },
      "execution_count": 123,
      "outputs": [
        {
          "output_type": "stream",
          "name": "stdout",
          "text": [
            "['2.090ден', '1.354ден', '1.354ден', '1.320ден', '2.031ден', '1.538ден', '1.590ден', '1.590ден', '1.490ден', '1.990ден', '320ден', '320ден']\n"
          ]
        }
      ]
    },
    {
      "cell_type": "markdown",
      "source": [
        "*Намалени цени*"
      ],
      "metadata": {
        "id": "MFtI-gqwVPKH"
      }
    },
    {
      "cell_type": "code",
      "source": [
        "sale_prices = prices_elements[1::2]\n",
        "print(sale_prices)"
      ],
      "metadata": {
        "colab": {
          "base_uri": "https://localhost:8080/"
        },
        "id": "OgyWTim7VFKL",
        "outputId": "e88e3a85-0ce5-4c1f-e32e-4d4eb6c9a15b"
      },
      "execution_count": 124,
      "outputs": [
        {
          "output_type": "stream",
          "name": "stdout",
          "text": [
            "['1.512ден', '948ден', '948ден', '937ден', '1.280ден', '769ден', '1.161ден', '1.113ден', '1.043ден', '1.692ден', '208ден', '208ден']\n"
          ]
        }
      ]
    },
    {
      "cell_type": "markdown",
      "metadata": {
        "id": "xrgwuG6CxtDM"
      },
      "source": [
        "**Check if all lists are the same size**"
      ]
    },
    {
      "cell_type": "code",
      "metadata": {
        "id": "mwkhPgtQx7E0",
        "colab": {
          "base_uri": "https://localhost:8080/"
        },
        "outputId": "94bb1290-11aa-484c-9ac2-4821dc65432f"
      },
      "source": [
        "print(len(percent_off_elements))\n",
        "print(len(product_titles_elements))\n",
        "print(len(full_prices))\n",
        "print(len(sale_prices))"
      ],
      "execution_count": 125,
      "outputs": [
        {
          "output_type": "stream",
          "name": "stdout",
          "text": [
            "12\n",
            "12\n",
            "12\n",
            "12\n"
          ]
        }
      ]
    },
    {
      "cell_type": "code",
      "source": [
        "len(percent_off_elements) == len(product_titles_elements) == len(full_prices) == len(sale_prices)"
      ],
      "metadata": {
        "colab": {
          "base_uri": "https://localhost:8080/"
        },
        "id": "JipFug5nV9vu",
        "outputId": "36ed407a-d3a4-4bee-f344-b8eace018de6"
      },
      "execution_count": 126,
      "outputs": [
        {
          "output_type": "execute_result",
          "data": {
            "text/plain": [
              "True"
            ]
          },
          "metadata": {},
          "execution_count": 126
        }
      ]
    },
    {
      "cell_type": "markdown",
      "metadata": {
        "id": "lH_ppKn4yD5b"
      },
      "source": [
        "# <font color='Orange'>Create a Pandas DataFrame</font> \n"
      ]
    },
    {
      "cell_type": "markdown",
      "metadata": {
        "id": "tU3fJNVuyKTA"
      },
      "source": [
        "**Create the DataFrame from the lists you get and name your *Columns***"
      ]
    },
    {
      "cell_type": "code",
      "metadata": {
        "id": "bFURoHfTyJt2"
      },
      "source": [
        "data = []\n",
        "\n",
        "for i in range(0, len(percent_off_elements)):\n",
        "  item = {}\n",
        "  item['Percent Off'] = percent_off_elements[i]\n",
        "  item['Product Title'] = product_titles_elements[i]\n",
        "  item['Full Price'] = full_prices[i]\n",
        "  item['Sale Price'] = sale_prices[i]\n",
        "  data.append(item)\n",
        "\n",
        "df = pd.DataFrame(data)"
      ],
      "execution_count": 127,
      "outputs": []
    },
    {
      "cell_type": "markdown",
      "metadata": {
        "id": "u9XJ3NE0yl9s"
      },
      "source": [
        "**Print the dataset you obtain**"
      ]
    },
    {
      "cell_type": "code",
      "metadata": {
        "id": "HGL5yi9fysOj",
        "colab": {
          "base_uri": "https://localhost:8080/",
          "height": 426
        },
        "outputId": "e62ac662-23b6-451e-99e0-ecd83cba2016"
      },
      "source": [
        "df.head(12)"
      ],
      "execution_count": 128,
      "outputs": [
        {
          "output_type": "execute_result",
          "data": {
            "text/plain": [
              "    Percent Off                                      Product Title Full Price  \\\n",
              "0   28% попуст   Bebe Confort Well Beeing Oragnic oil for baby set   2.090ден   \n",
              "1   30% попуст                    Benton Aloe BHA Skin Toner 200ml   1.354ден   \n",
              "2   30% попуст                     BENTON Aloe Hyaluron Cream 50gr   1.354ден   \n",
              "3   29% попуст                    BENTON Deep Green Tea Serum 30ml   1.320ден   \n",
              "4   37% попуст           Benton Snail Bee Ultimate Eye Cream 30gr.   2.031ден   \n",
              "5   50% попуст                           BENTON Tea tree Mist 80ml   1.538ден   \n",
              "6   27% попуст   COSRX Balancium Comfort Ceramide Cream Mist 120ml   1.590ден   \n",
              "7   30% попуст   COSRX Hydrium Centella Aqua Soothing Ampoule 40ml   1.590ден   \n",
              "8   30% попуст      COSRX Oil-Free Ultra-Moisturizing Lotion 100ml   1.490ден   \n",
              "9   15% попуст         Dr.Jart Ctrl-A Teatreement Moisturizer 50ml   1.990ден   \n",
              "10  35% попуст       Etude House Look At My Eyes Veil Breeze BR435     320ден   \n",
              "11  35% попуст   Etude House Look At My Eyes Veil Breeze Café O...     320ден   \n",
              "\n",
              "   Sale Price  \n",
              "0    1.512ден  \n",
              "1      948ден  \n",
              "2      948ден  \n",
              "3      937ден  \n",
              "4    1.280ден  \n",
              "5      769ден  \n",
              "6    1.161ден  \n",
              "7    1.113ден  \n",
              "8    1.043ден  \n",
              "9    1.692ден  \n",
              "10     208ден  \n",
              "11     208ден  "
            ],
            "text/html": [
              "\n",
              "  <div id=\"df-31461e3f-0800-40ca-9880-ad3e320dba31\">\n",
              "    <div class=\"colab-df-container\">\n",
              "      <div>\n",
              "<style scoped>\n",
              "    .dataframe tbody tr th:only-of-type {\n",
              "        vertical-align: middle;\n",
              "    }\n",
              "\n",
              "    .dataframe tbody tr th {\n",
              "        vertical-align: top;\n",
              "    }\n",
              "\n",
              "    .dataframe thead th {\n",
              "        text-align: right;\n",
              "    }\n",
              "</style>\n",
              "<table border=\"1\" class=\"dataframe\">\n",
              "  <thead>\n",
              "    <tr style=\"text-align: right;\">\n",
              "      <th></th>\n",
              "      <th>Percent Off</th>\n",
              "      <th>Product Title</th>\n",
              "      <th>Full Price</th>\n",
              "      <th>Sale Price</th>\n",
              "    </tr>\n",
              "  </thead>\n",
              "  <tbody>\n",
              "    <tr>\n",
              "      <th>0</th>\n",
              "      <td>28% попуст</td>\n",
              "      <td>Bebe Confort Well Beeing Oragnic oil for baby set</td>\n",
              "      <td>2.090ден</td>\n",
              "      <td>1.512ден</td>\n",
              "    </tr>\n",
              "    <tr>\n",
              "      <th>1</th>\n",
              "      <td>30% попуст</td>\n",
              "      <td>Benton Aloe BHA Skin Toner 200ml</td>\n",
              "      <td>1.354ден</td>\n",
              "      <td>948ден</td>\n",
              "    </tr>\n",
              "    <tr>\n",
              "      <th>2</th>\n",
              "      <td>30% попуст</td>\n",
              "      <td>BENTON Aloe Hyaluron Cream 50gr</td>\n",
              "      <td>1.354ден</td>\n",
              "      <td>948ден</td>\n",
              "    </tr>\n",
              "    <tr>\n",
              "      <th>3</th>\n",
              "      <td>29% попуст</td>\n",
              "      <td>BENTON Deep Green Tea Serum 30ml</td>\n",
              "      <td>1.320ден</td>\n",
              "      <td>937ден</td>\n",
              "    </tr>\n",
              "    <tr>\n",
              "      <th>4</th>\n",
              "      <td>37% попуст</td>\n",
              "      <td>Benton Snail Bee Ultimate Eye Cream 30gr.</td>\n",
              "      <td>2.031ден</td>\n",
              "      <td>1.280ден</td>\n",
              "    </tr>\n",
              "    <tr>\n",
              "      <th>5</th>\n",
              "      <td>50% попуст</td>\n",
              "      <td>BENTON Tea tree Mist 80ml</td>\n",
              "      <td>1.538ден</td>\n",
              "      <td>769ден</td>\n",
              "    </tr>\n",
              "    <tr>\n",
              "      <th>6</th>\n",
              "      <td>27% попуст</td>\n",
              "      <td>COSRX Balancium Comfort Ceramide Cream Mist 120ml</td>\n",
              "      <td>1.590ден</td>\n",
              "      <td>1.161ден</td>\n",
              "    </tr>\n",
              "    <tr>\n",
              "      <th>7</th>\n",
              "      <td>30% попуст</td>\n",
              "      <td>COSRX Hydrium Centella Aqua Soothing Ampoule 40ml</td>\n",
              "      <td>1.590ден</td>\n",
              "      <td>1.113ден</td>\n",
              "    </tr>\n",
              "    <tr>\n",
              "      <th>8</th>\n",
              "      <td>30% попуст</td>\n",
              "      <td>COSRX Oil-Free Ultra-Moisturizing Lotion 100ml</td>\n",
              "      <td>1.490ден</td>\n",
              "      <td>1.043ден</td>\n",
              "    </tr>\n",
              "    <tr>\n",
              "      <th>9</th>\n",
              "      <td>15% попуст</td>\n",
              "      <td>Dr.Jart Ctrl-A Teatreement Moisturizer 50ml</td>\n",
              "      <td>1.990ден</td>\n",
              "      <td>1.692ден</td>\n",
              "    </tr>\n",
              "    <tr>\n",
              "      <th>10</th>\n",
              "      <td>35% попуст</td>\n",
              "      <td>Etude House Look At My Eyes Veil Breeze BR435</td>\n",
              "      <td>320ден</td>\n",
              "      <td>208ден</td>\n",
              "    </tr>\n",
              "    <tr>\n",
              "      <th>11</th>\n",
              "      <td>35% попуст</td>\n",
              "      <td>Etude House Look At My Eyes Veil Breeze Café O...</td>\n",
              "      <td>320ден</td>\n",
              "      <td>208ден</td>\n",
              "    </tr>\n",
              "  </tbody>\n",
              "</table>\n",
              "</div>\n",
              "      <button class=\"colab-df-convert\" onclick=\"convertToInteractive('df-31461e3f-0800-40ca-9880-ad3e320dba31')\"\n",
              "              title=\"Convert this dataframe to an interactive table.\"\n",
              "              style=\"display:none;\">\n",
              "        \n",
              "  <svg xmlns=\"http://www.w3.org/2000/svg\" height=\"24px\"viewBox=\"0 0 24 24\"\n",
              "       width=\"24px\">\n",
              "    <path d=\"M0 0h24v24H0V0z\" fill=\"none\"/>\n",
              "    <path d=\"M18.56 5.44l.94 2.06.94-2.06 2.06-.94-2.06-.94-.94-2.06-.94 2.06-2.06.94zm-11 1L8.5 8.5l.94-2.06 2.06-.94-2.06-.94L8.5 2.5l-.94 2.06-2.06.94zm10 10l.94 2.06.94-2.06 2.06-.94-2.06-.94-.94-2.06-.94 2.06-2.06.94z\"/><path d=\"M17.41 7.96l-1.37-1.37c-.4-.4-.92-.59-1.43-.59-.52 0-1.04.2-1.43.59L10.3 9.45l-7.72 7.72c-.78.78-.78 2.05 0 2.83L4 21.41c.39.39.9.59 1.41.59.51 0 1.02-.2 1.41-.59l7.78-7.78 2.81-2.81c.8-.78.8-2.07 0-2.86zM5.41 20L4 18.59l7.72-7.72 1.47 1.35L5.41 20z\"/>\n",
              "  </svg>\n",
              "      </button>\n",
              "      \n",
              "  <style>\n",
              "    .colab-df-container {\n",
              "      display:flex;\n",
              "      flex-wrap:wrap;\n",
              "      gap: 12px;\n",
              "    }\n",
              "\n",
              "    .colab-df-convert {\n",
              "      background-color: #E8F0FE;\n",
              "      border: none;\n",
              "      border-radius: 50%;\n",
              "      cursor: pointer;\n",
              "      display: none;\n",
              "      fill: #1967D2;\n",
              "      height: 32px;\n",
              "      padding: 0 0 0 0;\n",
              "      width: 32px;\n",
              "    }\n",
              "\n",
              "    .colab-df-convert:hover {\n",
              "      background-color: #E2EBFA;\n",
              "      box-shadow: 0px 1px 2px rgba(60, 64, 67, 0.3), 0px 1px 3px 1px rgba(60, 64, 67, 0.15);\n",
              "      fill: #174EA6;\n",
              "    }\n",
              "\n",
              "    [theme=dark] .colab-df-convert {\n",
              "      background-color: #3B4455;\n",
              "      fill: #D2E3FC;\n",
              "    }\n",
              "\n",
              "    [theme=dark] .colab-df-convert:hover {\n",
              "      background-color: #434B5C;\n",
              "      box-shadow: 0px 1px 3px 1px rgba(0, 0, 0, 0.15);\n",
              "      filter: drop-shadow(0px 1px 2px rgba(0, 0, 0, 0.3));\n",
              "      fill: #FFFFFF;\n",
              "    }\n",
              "  </style>\n",
              "\n",
              "      <script>\n",
              "        const buttonEl =\n",
              "          document.querySelector('#df-31461e3f-0800-40ca-9880-ad3e320dba31 button.colab-df-convert');\n",
              "        buttonEl.style.display =\n",
              "          google.colab.kernel.accessAllowed ? 'block' : 'none';\n",
              "\n",
              "        async function convertToInteractive(key) {\n",
              "          const element = document.querySelector('#df-31461e3f-0800-40ca-9880-ad3e320dba31');\n",
              "          const dataTable =\n",
              "            await google.colab.kernel.invokeFunction('convertToInteractive',\n",
              "                                                     [key], {});\n",
              "          if (!dataTable) return;\n",
              "\n",
              "          const docLinkHtml = 'Like what you see? Visit the ' +\n",
              "            '<a target=\"_blank\" href=https://colab.research.google.com/notebooks/data_table.ipynb>data table notebook</a>'\n",
              "            + ' to learn more about interactive tables.';\n",
              "          element.innerHTML = '';\n",
              "          dataTable['output_type'] = 'display_data';\n",
              "          await google.colab.output.renderOutput(dataTable, element);\n",
              "          const docLink = document.createElement('div');\n",
              "          docLink.innerHTML = docLinkHtml;\n",
              "          element.appendChild(docLink);\n",
              "        }\n",
              "      </script>\n",
              "    </div>\n",
              "  </div>\n",
              "  "
            ]
          },
          "metadata": {},
          "execution_count": 128
        }
      ]
    },
    {
      "cell_type": "markdown",
      "metadata": {
        "id": "8TgPpI4Lqfn6"
      },
      "source": [
        "# <font color = 'Green'>Advanced part</font>\n",
        "\n",
        "<font color = 'orange'>This part is not mandatory and is intended for those who want to expand their knowledge in this field</font>"
      ]
    },
    {
      "cell_type": "markdown",
      "metadata": {
        "id": "lLgk-6xJr4N5"
      },
      "source": [
        "There are other libraries in Python that can be used to scrape a website. Some examples are Scrapy (https://scrapy.org/) and Selenium (https://selenium-python.readthedocs.io/).\n",
        "\n",
        "\n"
      ]
    },
    {
      "cell_type": "markdown",
      "metadata": {
        "id": "wyIwX-jJwI_l"
      },
      "source": [
        "## <font color = 'Green'>Extra task 1: Selenium</font> \n",
        "For the extra task you will need to take a look of the Selenium library. Here is a quick intro to this library and what features it has.\n",
        "\n",
        "Selenium is a robust framework designed to automate tests for Web Applications. It provides a way for the developer to write tests in several popular programming languages such as C#, Java, Python, Ruby, etc. This framework is developed to perform browser automation. Selenium is an excellent choice when you want to deal with Core Javascript-based web Applications and make browser automation with AJAX/PJAX Requests.\n",
        " \n",
        "View these links for more details: \n",
        "\n",
        "*   https://selenium-python.readthedocs.io/installation.html\n",
        "*   https://selenium-python.readthedocs.io/getting-started.html\n",
        "*   https://pypi.org/project/selenium-requests/\n",
        "*   https://pypi.org/project/selenium-wire/\n",
        "\n",
        "Starting code id given below.\n",
        "\n",
        "<font color =\"red\"> During the laboratory exercise, will be defined which side and what will need to be extracted using Selenium library</font>\n",
        "\n"
      ]
    },
    {
      "cell_type": "code",
      "metadata": {
        "id": "SJyFFHZrrvzP",
        "colab": {
          "base_uri": "https://localhost:8080/"
        },
        "outputId": "4d13506b-58fa-4870-fd2d-d771d8c44f64"
      },
      "source": [
        "#requirements for colab\n",
        "# install chromium, its driver, and selenium\n",
        "!apt update\n",
        "!apt install chromium-chromedriver\n",
        "!pip install selenium\n",
        "# set options to be headless, ..\n",
        "from selenium import webdriver\n",
        "options = webdriver.ChromeOptions()\n",
        "options.add_argument('--headless')\n",
        "options.add_argument('--no-sandbox')\n",
        "options.add_argument('--disable-dev-shm-usage')\n",
        "# open it, go to a website, and get results\n",
        "wd = webdriver.Chrome(options=options)\n",
        "wd.get(\"https://www.website.com\")\n",
        "print(wd.page_source)  # results\n",
        "#divs = wd.find_element(By.TAG_NAME, 'div')"
      ],
      "execution_count": 129,
      "outputs": [
        {
          "output_type": "stream",
          "name": "stdout",
          "text": [
            "\u001b[33m\r0% [Working]\u001b[0m\r            \rGet:1 http://security.ubuntu.com/ubuntu bionic-security InRelease [88.7 kB]\n",
            "\u001b[33m\r0% [Connecting to archive.ubuntu.com (185.125.190.39)] [1 InRelease 14.2 kB/88.\u001b[0m\r                                                                               \rHit:2 https://cloud.r-project.org/bin/linux/ubuntu bionic-cran40/ InRelease\n",
            "\u001b[33m\r0% [Connecting to archive.ubuntu.com (185.125.190.39)] [1 InRelease 48.9 kB/88.\u001b[0m\u001b[33m\r0% [2 InRelease gpgv 3,626 B] [Waiting for headers] [1 InRelease 51.8 kB/88.7 k\u001b[0m\u001b[33m\r0% [2 InRelease gpgv 3,626 B] [Waiting for headers] [Waiting for headers] [Wait\u001b[0m\r                                                                               \rIgn:3 https://developer.download.nvidia.com/compute/machine-learning/repos/ubuntu1804/x86_64  InRelease\n",
            "\u001b[33m\r0% [2 InRelease gpgv 3,626 B] [Waiting for headers] [Waiting for headers] [Wait\u001b[0m\r                                                                               \rHit:4 https://developer.download.nvidia.com/compute/cuda/repos/ubuntu1804/x86_64  InRelease\n",
            "\u001b[33m\r                                                                               \r0% [2 InRelease gpgv 3,626 B] [Waiting for headers] [Waiting for headers]\u001b[0m\r                                                                         \rHit:5 http://ppa.launchpad.net/c2d4u.team/c2d4u4.0+/ubuntu bionic InRelease\n",
            "\u001b[33m\r0% [2 InRelease gpgv 3,626 B] [Waiting for headers] [Waiting for headers]\u001b[0m\r                                                                         \rHit:6 https://developer.download.nvidia.com/compute/machine-learning/repos/ubuntu1804/x86_64  Release\n",
            "Hit:7 http://archive.ubuntu.com/ubuntu bionic InRelease\n",
            "Get:8 http://archive.ubuntu.com/ubuntu bionic-updates InRelease [88.7 kB]\n",
            "Hit:9 http://ppa.launchpad.net/cran/libgit2/ubuntu bionic InRelease\n",
            "Hit:10 http://ppa.launchpad.net/deadsnakes/ppa/ubuntu bionic InRelease\n",
            "Get:11 http://archive.ubuntu.com/ubuntu bionic-backports InRelease [83.3 kB]\n",
            "Hit:12 http://ppa.launchpad.net/graphics-drivers/ppa/ubuntu bionic InRelease\n",
            "Fetched 261 kB in 3s (96.6 kB/s)\n",
            "Reading package lists... Done\n",
            "Building dependency tree       \n",
            "Reading state information... Done\n",
            "6 packages can be upgraded. Run 'apt list --upgradable' to see them.\n",
            "Reading package lists... Done\n",
            "Building dependency tree       \n",
            "Reading state information... Done\n",
            "chromium-chromedriver is already the newest version (105.0.5195.102-0ubuntu0.18.04.1).\n",
            "The following package was automatically installed and is no longer required:\n",
            "  libnvidia-common-460\n",
            "Use 'apt autoremove' to remove it.\n",
            "0 upgraded, 0 newly installed, 0 to remove and 6 not upgraded.\n",
            "Looking in indexes: https://pypi.org/simple, https://us-python.pkg.dev/colab-wheels/public/simple/\n",
            "Requirement already satisfied: selenium in /usr/local/lib/python3.7/dist-packages (4.6.0)\n",
            "Requirement already satisfied: certifi>=2021.10.8 in /usr/local/lib/python3.7/dist-packages (from selenium) (2022.9.24)\n",
            "Requirement already satisfied: urllib3[socks]~=1.26 in /usr/local/lib/python3.7/dist-packages (from selenium) (1.26.12)\n",
            "Requirement already satisfied: trio~=0.17 in /usr/local/lib/python3.7/dist-packages (from selenium) (0.22.0)\n",
            "Requirement already satisfied: trio-websocket~=0.9 in /usr/local/lib/python3.7/dist-packages (from selenium) (0.9.2)\n",
            "Requirement already satisfied: idna in /usr/local/lib/python3.7/dist-packages (from trio~=0.17->selenium) (2.10)\n",
            "Requirement already satisfied: sortedcontainers in /usr/local/lib/python3.7/dist-packages (from trio~=0.17->selenium) (2.4.0)\n",
            "Requirement already satisfied: exceptiongroup>=1.0.0rc9 in /usr/local/lib/python3.7/dist-packages (from trio~=0.17->selenium) (1.0.1)\n",
            "Requirement already satisfied: sniffio in /usr/local/lib/python3.7/dist-packages (from trio~=0.17->selenium) (1.3.0)\n",
            "Requirement already satisfied: attrs>=19.2.0 in /usr/local/lib/python3.7/dist-packages (from trio~=0.17->selenium) (22.1.0)\n",
            "Requirement already satisfied: outcome in /usr/local/lib/python3.7/dist-packages (from trio~=0.17->selenium) (1.2.0)\n",
            "Requirement already satisfied: async-generator>=1.9 in /usr/local/lib/python3.7/dist-packages (from trio~=0.17->selenium) (1.10)\n",
            "Requirement already satisfied: wsproto>=0.14 in /usr/local/lib/python3.7/dist-packages (from trio-websocket~=0.9->selenium) (1.2.0)\n",
            "Requirement already satisfied: PySocks!=1.5.7,<2.0,>=1.5.6 in /usr/local/lib/python3.7/dist-packages (from urllib3[socks]~=1.26->selenium) (1.7.1)\n",
            "Requirement already satisfied: h11<1,>=0.9.0 in /usr/local/lib/python3.7/dist-packages (from wsproto>=0.14->trio-websocket~=0.9->selenium) (0.14.0)\n",
            "Requirement already satisfied: typing-extensions in /usr/local/lib/python3.7/dist-packages (from h11<1,>=0.9.0->wsproto>=0.14->trio-websocket~=0.9->selenium) (4.1.1)\n",
            "<html lang=\"en-US\"><head>\n",
            "    <title>Just a moment...</title>\n",
            "    <meta http-equiv=\"Content-Type\" content=\"text/html; charset=UTF-8\">\n",
            "    <meta http-equiv=\"X-UA-Compatible\" content=\"IE=Edge\">\n",
            "    <meta name=\"robots\" content=\"noindex,nofollow\">\n",
            "    <meta name=\"viewport\" content=\"width=device-width,initial-scale=1\">\n",
            "    <link href=\"/cdn-cgi/styles/challenges.css\" rel=\"stylesheet\">\n",
            "    \n",
            "\n",
            "<script src=\"/cdn-cgi/challenge-platform/h/g/orchestrate/managed/v1?ray=7650124338e9ad62\"></script><script src=\"https://cloudflare.hcaptcha.com/1/api.js?endpoint=https%3A%2F%2Fcloudflare.hcaptcha.com&amp;assethost=https%3A%2F%2Fcf-assets.hcaptcha.com&amp;imghost=https%3A%2F%2Fcf-imgs.hcaptcha.com&amp;render=explicit&amp;recaptchacompat=off&amp;onload=_cf_chl_hload\"></script></head>\n",
            "<body class=\"no-js\">\n",
            "    <div class=\"main-wrapper\" role=\"main\">\n",
            "    <div class=\"main-content\">\n",
            "        <h1 class=\"zone-name-title h1\">\n",
            "            <img class=\"heading-favicon\" src=\"/favicon.ico\" onerror=\"this.onerror=null;this.parentNode.removeChild(this)\">\n",
            "            www.website.com\n",
            "        </h1>\n",
            "        <h2 class=\"h2\" id=\"challenge-running\">\n",
            "            Checking if the site connection is secure\n",
            "        </h2><div id=\"challenge-stage\" style=\"display: none;\"></div><div id=\"challenge-spinner\" class=\"spacer loading-spinner\" style=\"display: block; visibility: visible;\"><div class=\"lds-ring\"><div></div><div></div><div></div><div></div></div></div>\n",
            "        <noscript>\n",
            "            <div id=\"challenge-error-title\">\n",
            "                <div class=\"h2\">\n",
            "                    <span class=\"icon-wrapper\">\n",
            "                        <div class=\"heading-icon warning-icon\"></div>\n",
            "                    </span>\n",
            "                    <span id=\"challenge-error-text\">\n",
            "                        Enable JavaScript and cookies to continue\n",
            "                    </span>\n",
            "                </div>\n",
            "            </div>\n",
            "        </noscript>\n",
            "        <div id=\"trk_jschal_js\" style=\"display:none;background-image:url('/cdn-cgi/images/trace/managed/nojs/transparent.gif?ray=7650124338e9ad62')\"></div>\n",
            "        <div id=\"challenge-body-text\" class=\"core-msg spacer\">\n",
            "            www.website.com needs to review the security of your connection before proceeding.\n",
            "        </div><div id=\"challenge-fact-wrapper\" class=\"fact spacer hidden\" style=\"display: block; visibility: visible;\"><span class=\"fact-title\">Did you know</span> <span id=\"challenge-fact\" class=\"body-text\">some signs of bot malware on your computer are computer crashes, slow internet, and a slow computer?</span></div><div id=\"challenge-explainer-expandable\" class=\"hidden expandable body-text spacer\" style=\"display: none;\"><div class=\"expandable-title\" id=\"challenge-explainer-summary\"><button class=\"expandable-summary-btn\" id=\"challenge-explainer-btn\" type=\"button\">Why am I seeing this page?<span class=\"caret-icon-wrapper\"> <div class=\"caret-icon\"></div> </span> </button> </div> <div class=\"expandable-details\" id=\"challenge-explainer-details\">Requests from malicious bots can pose as legitimate traffic. Occasionally, you may see this page while the site ensures that the connection is secure.</div></div><div id=\"challenge-success\" style=\"display: none;\"><div class=\"h2\"><span class=\"icon-wrapper\"><img class=\"heading-icon\" alt=\"Success icon\" src=\"data:image/png;base64,iVBORw0KGgoAAAANSUhEUgAAADQAAAA0CAMAAADypuvZAAAANlBMVEUAAAAxMTEwMDAxMTExMTEwMDAwMDAwMDAxMTExMTExMTEwMDAwMDAxMTExMTEwMDAwMDAxMTHB9N+uAAAAEXRSTlMA3zDvfyBAEJC/n3BQz69gX7VMkcMAAAGySURBVEjHnZZbFoMgDEQJiDzVuv/NtgbtFGuQ4/zUKpeMIQbUhXSKE5l1XSn4pFWHRm/WShT1HRLWC01LGxFEVkCc30eYkLJ1Sjk9pvkw690VY6k8DWP9OM9yMG0Koi+mi8XA36NXmW0UXra4eJ3iwHfrfXVlgL0NqqGBHdqfeQhMmyJ48WDuKP81h3+SMPeRKkJcSXiLUK4XTHCjESOnz1VUXQoc6lgi2x4cI5aTQ201Mt8wHysI5fc05M5c81uZEtHcMKhxZ7iYEty1GfhLvGKpm+EYkdGxm1F5axmcB93DoORIbXfdN7f+hlFuyxtDP+sxtBnF43cIYwaZAWRgzxIoiXEMESoPlMhwLRDXeK772CAzXEdBRV7cmnoVBp0OSlyGidEzJTFq5hhcsA5388oSGM6b5p+qjpZrBlMS9xj4AwXmz108ukU1IomM3ceiW0CDwHCqp1NjAqXlFrbga+xuloQJ+tuyfbIBPNpqnmxqT7dPaOnZqBfhSBCteJAxWj58zLk2xgg+SPGYM6dRO6WczSnIxxwEExRaO+UyCUhbOp7CGQ+kxSUfNtLQFC+Po29vvy7jj4y0yAAAAABJRU5ErkJggg==\"></span>Connection is secure</div><div class=\"core-msg spacer\">Proceeding...</div></div>\n",
            "        <form id=\"challenge-form\" action=\"/?__cf_chl_f_tk=c55Y.dh4V1qo.Nmwb.TWY.1VCWpISfoAZOYP7oAkMOQ-1667593446-0-gaNycGzNCBE\" method=\"POST\" enctype=\"application/x-www-form-urlencoded\">\n",
            "            <input type=\"hidden\" name=\"md\" value=\"vP50OX31oMDkzsmgqIqPKy6.5lQvJLbLuI4Ou7QyHhM-1667593446-0-AeuX7FqngmE52qTycv5JnYaKR-UxPrtAVX7N-xeCUk7AM3SgOpyskDVP4tPWAYzpsXyuIPIOar3iyA2oGg08xc6wwJj9sbwxD6f0ZgExP69ZgTLiNSC09e7UwUhrxZglnIC2umH5hpff7LRnAg40QpK--XpvA7bpUTU_4fXeRvymjYS8JLWEp8H5UBeFZmhPwbs3vzKyAHgIvF1xHuL47kwb5gawPPozYMaQsZvPsOfztFpq76uqkvaxHhWsEv5tFKq_yg2OHCay5ay2wxHlK2x8UKosrO33SPlcrJn-uLXax50Vfef7GInohsUbSLIJpvMwsLHj_Y6FteKJq7J0YKufrAqJDa3vMdudLxfuajfZ_Mvc67gPrWX3TK1eg4yvjfn48NG9pC0NizZaej9Fl4cPCRpP5g4y3NtXS_1j6UOsMSRurrVW7Frj5MztsSTTCDedtfvBUMd4UNc87SAP0XhrF5bIWIc9lHtFtsQRuNngu0fCPfVipWDte502FluMPvjt5hyww62WLaC5x22crT6po3QidPYnMrOQ1AATdiSS9TFZcwmlr87rSS74U2PDTfDJFR_LoSh111RW10CQjNBYiIsnneClM6yjiRCFBtAe4GgpaTeiqAPk1a1ehyqgV2VsdQgY2z9TkLpKo8LtFV-wxU6q4rTPpYdWUQHz2Fuwv6EqmgVzfmCmd23vU4-Nzg\">\n",
            "            <input type=\"hidden\" name=\"r\" value=\"1cjsIjUbmGjgfCMIGZGPPzYth0k0T01mehT7GNXaLnk-1667593446-0-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\">\n",
            "        <span style=\"display: none;\"><span class=\"text-gray-600\" data-translate=\"error\">error code: 1020</span></span></form>\n",
            "    </div>\n",
            "</div>\n",
            "<script>\n",
            "    (function(){\n",
            "        window._cf_chl_opt={\n",
            "            cvId: '2',\n",
            "            cType: 'managed',\n",
            "            cNounce: '70561',\n",
            "            cRay: '7650124338e9ad62',\n",
            "            cHash: '83057bc08655009',\n",
            "            cUPMDTk: \"\\/?__cf_chl_tk=c55Y.dh4V1qo.Nmwb.TWY.1VCWpISfoAZOYP7oAkMOQ-1667593446-0-gaNycGzNCBE\",\n",
            "            cFPWv: 'g',\n",
            "            cTTimeMs: '1000',\n",
            "            cTplV: 4,\n",
            "            cTplB: 'cf',\n",
            "            cRq: {\n",
            "                ru: 'aHR0cHM6Ly93d3cud2Vic2l0ZS5jb20v',\n",
            "                ra: 'TW96aWxsYS81LjAgKFgxMTsgTGludXggeDg2XzY0KSBBcHBsZVdlYktpdC81MzcuMzYgKEtIVE1MLCBsaWtlIEdlY2tvKSBIZWFkbGVzc0Nocm9tZS8xMDUuMC41MTk1LjEwMiBTYWZhcmkvNTM3LjM2',\n",
            "                rm: 'R0VU',\n",
            "                d: 'IVJCnU9Y92YNRR6nsmbmfyj7g7FU+cYFSZcBCsnsAA9wN6RRmojmIlbid0cg31nEPERl4g7mHgOSX9frmPjh9d9vqi3UAQLYF/kns6QfslLDt46/6J43GT57M9XUVMu9FGsgTAefsXua0qEa8HssMk5TgKM0wvomJoDKDnte9AtGakneO8V9ityVxmHz2bZ2s6xZ4m1tQGTfZbshTYhfJ+xf/2A3cNWGDT6o6dg9YA+uIHB5/DCJCWQ2u7pdLgJi676nyT9HpK45kHVJ8OtVpmxe6umGuP5k1+PVkkMNh5JWuDPEzdl5VwrMcYA2gep3H83hqRaU9BU1n3aPFdPQP0TAArvAFbsA4LVE0A47zE4ihCrXZr+UMVwhUcWFRaTH9hvJ3jNZN1CbWaSESx9kG34W1nfrIMG4BfejNnYUronSC7x55EDU9zJ1rqHyIy2nJ6H8b+UJVrgZD8clhdyJOhrLF5bfTRLqDlBTbOOygtUQY8V5Vp8ysRbANifCKgfq6ptTjIQzwuCBI2OSOHicTQPhnXmPoM7i0+qRVe7s5jVfqb1/g53w5OPcrz7xwgHhGuwCYGYt8VisAzZL5/gZ61Idod03Ur0XuusBMVaxa6MIwSDM+bMGmSStXALRJao7U9ppVK3CKyxBMU07nnGWyY9SCNJC3WS41RZQo5tOaW6DSK2hyyhjkPGkTFJiFbJZ',\n",
            "                t: 'MTY2NzU5MzQ0Ni45MTgwMDA=',\n",
            "                m: 'ba7d7sMOBOsbwHoLBmLks5B9Gr0eAkfKaJh0uV0w0cs=',\n",
            "                i1: 'hG7vsjxXVjiJ9B1stMsTxA==',\n",
            "                i2: 'dxEPe0n6T0LZhYxEhff1gg==',\n",
            "                zh: 'ToMS3HV0OtNita7AnV3aODrva5zgra0L0wNakz8GGyA=',\n",
            "                uh: 'lH21JkIaGwtqiSnqo6XwY6t07WoM3gpoBN5o0Oh1McI=',\n",
            "                hh: 'jjKlqAMxBb2CvRxePZXE2G+3zvYLMKPJ3n6zB5D4w/g=',\n",
            "            }\n",
            "        };\n",
            "        var trkjs = document.createElement('img');\n",
            "        trkjs.setAttribute('src', '/cdn-cgi/images/trace/managed/js/transparent.gif?ray=7650124338e9ad62');\n",
            "        trkjs.setAttribute('style', 'display: none');\n",
            "        document.body.appendChild(trkjs);\n",
            "        var cpo = document.createElement('script');\n",
            "        cpo.src = '/cdn-cgi/challenge-platform/h/g/orchestrate/managed/v1?ray=7650124338e9ad62';\n",
            "        window._cf_chl_opt.cOgUHash = location.hash === '' && location.href.indexOf('#') !== -1 ? '#' : location.hash;\n",
            "        window._cf_chl_opt.cOgUQuery = location.search === '' && location.href.slice(0, -window._cf_chl_opt.cOgUHash.length).indexOf('?') !== -1 ? '?' : location.search;\n",
            "        if (window.history && window.history.replaceState) {\n",
            "            var ogU = location.pathname + window._cf_chl_opt.cOgUQuery + window._cf_chl_opt.cOgUHash;\n",
            "            history.replaceState(null, null, \"\\/?__cf_chl_rt_tk=c55Y.dh4V1qo.Nmwb.TWY.1VCWpISfoAZOYP7oAkMOQ-1667593446-0-gaNycGzNCBE\" + window._cf_chl_opt.cOgUHash);\n",
            "            cpo.onload = function() {\n",
            "                history.replaceState(null, null, ogU);\n",
            "            };\n",
            "        }\n",
            "        document.getElementsByTagName('head')[0].appendChild(cpo);\n",
            "    }());\n",
            "</script><img src=\"/cdn-cgi/images/trace/managed/js/transparent.gif?ray=7650124338e9ad62\" style=\"display: none\">\n",
            "\n",
            "\n",
            "    <div class=\"footer\" role=\"contentinfo\">\n",
            "        <div class=\"footer-inner\">\n",
            "            <div class=\"clearfix diagnostic-wrapper\">\n",
            "                <div class=\"ray-id\">Ray ID: <code>7650124338e9ad62</code></div>\n",
            "            </div>\n",
            "            <div class=\"text-center\">Performance &amp; security by <a rel=\"noopener noreferrer\" href=\"https://www.cloudflare.com?utm_source=challenge&amp;utm_campaign=m\" target=\"_blank\">Cloudflare</a></div>\n",
            "        </div>\n",
            "    </div>\n",
            "\n",
            "\n",
            "<span id=\"trk_jschal_js\"></span></body></html>\n"
          ]
        }
      ]
    },
    {
      "cell_type": "code",
      "source": [
        "from selenium.webdriver.common.by import By"
      ],
      "metadata": {
        "id": "BJSq8ULlXAp4"
      },
      "execution_count": 130,
      "outputs": []
    },
    {
      "cell_type": "code",
      "source": [
        "driver = webdriver.Chrome(options=options)\n",
        "driver.get(\"https://play.google.com/store/movies/details/Don_t_Worry_Darling?id=pckeqRD0Leo.P&hl=en&gl=US\")"
      ],
      "metadata": {
        "id": "-VJ6KiKZYK5i"
      },
      "execution_count": 131,
      "outputs": []
    },
    {
      "cell_type": "code",
      "source": [
        "title = driver.find_element(By.CLASS_NAME, 'Fd93Bb.F5UCq.xwcR9d')"
      ],
      "metadata": {
        "id": "uCYOnmrvYQTA"
      },
      "execution_count": 132,
      "outputs": []
    },
    {
      "cell_type": "code",
      "source": [
        "title.text"
      ],
      "metadata": {
        "colab": {
          "base_uri": "https://localhost:8080/",
          "height": 35
        },
        "id": "S07RzPpxewC9",
        "outputId": "326e4c66-d1af-4de0-ace3-9ed79cb1d52f"
      },
      "execution_count": 133,
      "outputs": [
        {
          "output_type": "execute_result",
          "data": {
            "text/plain": [
              "'Don’t Worry Darling'"
            ],
            "application/vnd.google.colaboratory.intrinsic+json": {
              "type": "string"
            }
          },
          "metadata": {},
          "execution_count": 133
        }
      ]
    },
    {
      "cell_type": "code",
      "source": [
        "star_rating = driver.find_element(By.CLASS_NAME, 'jILTFe') "
      ],
      "metadata": {
        "id": "LvjFxicvaY0w"
      },
      "execution_count": 134,
      "outputs": []
    },
    {
      "cell_type": "code",
      "source": [
        "star_rating.text"
      ],
      "metadata": {
        "colab": {
          "base_uri": "https://localhost:8080/",
          "height": 35
        },
        "id": "g83b7DnXey1a",
        "outputId": "58bd30e0-ba7d-4ecf-de2b-ecbd9a5f7fb8"
      },
      "execution_count": 135,
      "outputs": [
        {
          "output_type": "execute_result",
          "data": {
            "text/plain": [
              "'3.6'"
            ],
            "application/vnd.google.colaboratory.intrinsic+json": {
              "type": "string"
            }
          },
          "metadata": {},
          "execution_count": 135
        }
      ]
    },
    {
      "cell_type": "code",
      "source": [
        "# comments = driver.find_elements(By.CLASS_NAME, 'h3YV2d')"
      ],
      "metadata": {
        "id": "gmDgaaanaufw"
      },
      "execution_count": 136,
      "outputs": []
    },
    {
      "cell_type": "code",
      "source": [
        "# all_comments = [el.text for el in wd.find_elements(By.CLASS_NAME, \"h3YV2d\")]"
      ],
      "metadata": {
        "id": "-q9AlwiAb1wY"
      },
      "execution_count": 137,
      "outputs": []
    },
    {
      "cell_type": "code",
      "source": [
        "comment_elements = driver.find_elements('xpath', \"//div[@class='h3YV2d']\")\n",
        "comments = [comment.text for comment in comment_elements]"
      ],
      "metadata": {
        "id": "ICKWl_LsNLTt"
      },
      "execution_count": 138,
      "outputs": []
    },
    {
      "cell_type": "code",
      "source": [
        "comments"
      ],
      "metadata": {
        "colab": {
          "base_uri": "https://localhost:8080/"
        },
        "id": "gZmSDY5yOKWQ",
        "outputId": "50280145-bddc-4992-928b-0a965def00f9"
      },
      "execution_count": 139,
      "outputs": [
        {
          "output_type": "execute_result",
          "data": {
            "text/plain": [
              "['This movie was honestly a roller coaster. My friend and his girlfriend (who we are now just ‘mutual friends’ due to an incident, went to go see this movie. She put cellophane wrap around her head during one part and I thought about doing the same as this movie stunk. And not the stink like ‘oh you just didn’t get it’ oh hell no it was poorly explained except for the corvette that was cool. 0/5 atleast the popcorn was good',\n",
              " 'good movie',\n",
              " 'i love harry styles']"
            ]
          },
          "metadata": {},
          "execution_count": 139
        }
      ]
    },
    {
      "cell_type": "code",
      "source": [
        "comments_str = str(comments)\n",
        "comments_str"
      ],
      "metadata": {
        "colab": {
          "base_uri": "https://localhost:8080/",
          "height": 87
        },
        "id": "ZK0HHgtmdgWt",
        "outputId": "61dabda0-a365-4b21-cbbe-a526ed5bc3a4"
      },
      "execution_count": 150,
      "outputs": [
        {
          "output_type": "execute_result",
          "data": {
            "text/plain": [
              "\"['This movie was honestly a roller coaster. My friend and his girlfriend (who we are now just ‘mutual friends’ due to an incident, went to go see this movie. She put cellophane wrap around her head during one part and I thought about doing the same as this movie stunk. And not the stink like ‘oh you just didn’t get it’ oh hell no it was poorly explained except for the corvette that was cool. 0/5 atleast the popcorn was good', 'good movie', 'i love harry styles']\""
            ],
            "application/vnd.google.colaboratory.intrinsic+json": {
              "type": "string"
            }
          },
          "metadata": {},
          "execution_count": 150
        }
      ]
    },
    {
      "cell_type": "code",
      "source": [
        "comments_list = comments_str.split(\"',\")\n",
        "comments_list"
      ],
      "metadata": {
        "colab": {
          "base_uri": "https://localhost:8080/"
        },
        "id": "pWcIx2EVPy_R",
        "outputId": "713b61a2-b79b-46cd-afdc-12610db5e410"
      },
      "execution_count": 151,
      "outputs": [
        {
          "output_type": "execute_result",
          "data": {
            "text/plain": [
              "[\"['This movie was honestly a roller coaster. My friend and his girlfriend (who we are now just ‘mutual friends’ due to an incident, went to go see this movie. She put cellophane wrap around her head during one part and I thought about doing the same as this movie stunk. And not the stink like ‘oh you just didn’t get it’ oh hell no it was poorly explained except for the corvette that was cool. 0/5 atleast the popcorn was good\",\n",
              " \" 'good movie\",\n",
              " \" 'i love harry styles']\"]"
            ]
          },
          "metadata": {},
          "execution_count": 151
        }
      ]
    },
    {
      "cell_type": "code",
      "source": [
        "data = []\n",
        "\n",
        "for i in range(0, len(comments)):\n",
        "  item = {}\n",
        "  item['Title'] = title.text\n",
        "  item['Star Rating'] = star_rating.text\n",
        "  item['Comments'] = comments_list[i]\n",
        "  \n",
        "  data.append(item)\n",
        "\n",
        "df = pd.DataFrame(data)"
      ],
      "metadata": {
        "id": "6yNpznngfiry"
      },
      "execution_count": 152,
      "outputs": []
    },
    {
      "cell_type": "code",
      "source": [
        "df"
      ],
      "metadata": {
        "colab": {
          "base_uri": "https://localhost:8080/",
          "height": 270
        },
        "id": "a7I8DtRnLCZO",
        "outputId": "599c457b-27be-421f-c0b4-1c0676633fa8"
      },
      "execution_count": 153,
      "outputs": [
        {
          "output_type": "execute_result",
          "data": {
            "text/plain": [
              "                 Title Star Rating  \\\n",
              "0  Don’t Worry Darling         3.6   \n",
              "1  Don’t Worry Darling         3.6   \n",
              "2  Don’t Worry Darling         3.6   \n",
              "\n",
              "                                            Comments  \n",
              "0  ['This movie was honestly a roller coaster. My...  \n",
              "1                                        'good movie  \n",
              "2                             'i love harry styles']  "
            ],
            "text/html": [
              "\n",
              "  <div id=\"df-162e389c-a2a3-40bc-9e4a-56b466c0b5ee\">\n",
              "    <div class=\"colab-df-container\">\n",
              "      <div>\n",
              "<style scoped>\n",
              "    .dataframe tbody tr th:only-of-type {\n",
              "        vertical-align: middle;\n",
              "    }\n",
              "\n",
              "    .dataframe tbody tr th {\n",
              "        vertical-align: top;\n",
              "    }\n",
              "\n",
              "    .dataframe thead th {\n",
              "        text-align: right;\n",
              "    }\n",
              "</style>\n",
              "<table border=\"1\" class=\"dataframe\">\n",
              "  <thead>\n",
              "    <tr style=\"text-align: right;\">\n",
              "      <th></th>\n",
              "      <th>Title</th>\n",
              "      <th>Star Rating</th>\n",
              "      <th>Comments</th>\n",
              "    </tr>\n",
              "  </thead>\n",
              "  <tbody>\n",
              "    <tr>\n",
              "      <th>0</th>\n",
              "      <td>Don’t Worry Darling</td>\n",
              "      <td>3.6</td>\n",
              "      <td>['This movie was honestly a roller coaster. My...</td>\n",
              "    </tr>\n",
              "    <tr>\n",
              "      <th>1</th>\n",
              "      <td>Don’t Worry Darling</td>\n",
              "      <td>3.6</td>\n",
              "      <td>'good movie</td>\n",
              "    </tr>\n",
              "    <tr>\n",
              "      <th>2</th>\n",
              "      <td>Don’t Worry Darling</td>\n",
              "      <td>3.6</td>\n",
              "      <td>'i love harry styles']</td>\n",
              "    </tr>\n",
              "  </tbody>\n",
              "</table>\n",
              "</div>\n",
              "      <button class=\"colab-df-convert\" onclick=\"convertToInteractive('df-162e389c-a2a3-40bc-9e4a-56b466c0b5ee')\"\n",
              "              title=\"Convert this dataframe to an interactive table.\"\n",
              "              style=\"display:none;\">\n",
              "        \n",
              "  <svg xmlns=\"http://www.w3.org/2000/svg\" height=\"24px\"viewBox=\"0 0 24 24\"\n",
              "       width=\"24px\">\n",
              "    <path d=\"M0 0h24v24H0V0z\" fill=\"none\"/>\n",
              "    <path d=\"M18.56 5.44l.94 2.06.94-2.06 2.06-.94-2.06-.94-.94-2.06-.94 2.06-2.06.94zm-11 1L8.5 8.5l.94-2.06 2.06-.94-2.06-.94L8.5 2.5l-.94 2.06-2.06.94zm10 10l.94 2.06.94-2.06 2.06-.94-2.06-.94-.94-2.06-.94 2.06-2.06.94z\"/><path d=\"M17.41 7.96l-1.37-1.37c-.4-.4-.92-.59-1.43-.59-.52 0-1.04.2-1.43.59L10.3 9.45l-7.72 7.72c-.78.78-.78 2.05 0 2.83L4 21.41c.39.39.9.59 1.41.59.51 0 1.02-.2 1.41-.59l7.78-7.78 2.81-2.81c.8-.78.8-2.07 0-2.86zM5.41 20L4 18.59l7.72-7.72 1.47 1.35L5.41 20z\"/>\n",
              "  </svg>\n",
              "      </button>\n",
              "      \n",
              "  <style>\n",
              "    .colab-df-container {\n",
              "      display:flex;\n",
              "      flex-wrap:wrap;\n",
              "      gap: 12px;\n",
              "    }\n",
              "\n",
              "    .colab-df-convert {\n",
              "      background-color: #E8F0FE;\n",
              "      border: none;\n",
              "      border-radius: 50%;\n",
              "      cursor: pointer;\n",
              "      display: none;\n",
              "      fill: #1967D2;\n",
              "      height: 32px;\n",
              "      padding: 0 0 0 0;\n",
              "      width: 32px;\n",
              "    }\n",
              "\n",
              "    .colab-df-convert:hover {\n",
              "      background-color: #E2EBFA;\n",
              "      box-shadow: 0px 1px 2px rgba(60, 64, 67, 0.3), 0px 1px 3px 1px rgba(60, 64, 67, 0.15);\n",
              "      fill: #174EA6;\n",
              "    }\n",
              "\n",
              "    [theme=dark] .colab-df-convert {\n",
              "      background-color: #3B4455;\n",
              "      fill: #D2E3FC;\n",
              "    }\n",
              "\n",
              "    [theme=dark] .colab-df-convert:hover {\n",
              "      background-color: #434B5C;\n",
              "      box-shadow: 0px 1px 3px 1px rgba(0, 0, 0, 0.15);\n",
              "      filter: drop-shadow(0px 1px 2px rgba(0, 0, 0, 0.3));\n",
              "      fill: #FFFFFF;\n",
              "    }\n",
              "  </style>\n",
              "\n",
              "      <script>\n",
              "        const buttonEl =\n",
              "          document.querySelector('#df-162e389c-a2a3-40bc-9e4a-56b466c0b5ee button.colab-df-convert');\n",
              "        buttonEl.style.display =\n",
              "          google.colab.kernel.accessAllowed ? 'block' : 'none';\n",
              "\n",
              "        async function convertToInteractive(key) {\n",
              "          const element = document.querySelector('#df-162e389c-a2a3-40bc-9e4a-56b466c0b5ee');\n",
              "          const dataTable =\n",
              "            await google.colab.kernel.invokeFunction('convertToInteractive',\n",
              "                                                     [key], {});\n",
              "          if (!dataTable) return;\n",
              "\n",
              "          const docLinkHtml = 'Like what you see? Visit the ' +\n",
              "            '<a target=\"_blank\" href=https://colab.research.google.com/notebooks/data_table.ipynb>data table notebook</a>'\n",
              "            + ' to learn more about interactive tables.';\n",
              "          element.innerHTML = '';\n",
              "          dataTable['output_type'] = 'display_data';\n",
              "          await google.colab.output.renderOutput(dataTable, element);\n",
              "          const docLink = document.createElement('div');\n",
              "          docLink.innerHTML = docLinkHtml;\n",
              "          element.appendChild(docLink);\n",
              "        }\n",
              "      </script>\n",
              "    </div>\n",
              "  </div>\n",
              "  "
            ]
          },
          "metadata": {},
          "execution_count": 153
        }
      ]
    },
    {
      "cell_type": "code",
      "source": [],
      "metadata": {
        "id": "B7tn6RMqUtG-"
      },
      "execution_count": null,
      "outputs": []
    }
  ]
}